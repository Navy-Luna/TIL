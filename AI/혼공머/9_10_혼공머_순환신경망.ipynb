{
  "nbformat": 4,
  "nbformat_minor": 0,
  "metadata": {
    "colab": {
      "provenance": []
    },
    "kernelspec": {
      "name": "python3",
      "display_name": "Python 3"
    },
    "language_info": {
      "name": "python"
    },
    "accelerator": "TPU"
  },
  "cells": [
    {
      "cell_type": "markdown",
      "source": [
        "# NLP"
      ],
      "metadata": {
        "id": "b4uSmTPLhirO"
      }
    },
    {
      "cell_type": "code",
      "execution_count": 1,
      "metadata": {
        "colab": {
          "base_uri": "https://localhost:8080/"
        },
        "id": "waoRv7s9hf-c",
        "outputId": "b4a7adf3-9e7a-42be-affa-421a596c3960"
      },
      "outputs": [
        {
          "output_type": "stream",
          "name": "stdout",
          "text": [
            "Downloading data from https://storage.googleapis.com/tensorflow/tf-keras-datasets/imdb.npz\n",
            "17464789/17464789 [==============================] - 0s 0us/step\n"
          ]
        }
      ],
      "source": [
        "from tensorflow.keras.datasets import imdb\n",
        "(train_input, train_target), (test_input, test_target) = imdb.load_data(num_words=500)"
      ]
    },
    {
      "cell_type": "code",
      "source": [
        "print(train_input.shape, test_input.shape)\n",
        "print(train_target.shape, test_target.shape)"
      ],
      "metadata": {
        "colab": {
          "base_uri": "https://localhost:8080/"
        },
        "id": "CXhAWNlBh3xc",
        "outputId": "65b6c7f9-a76f-48e4-9b7a-176574fc6c34"
      },
      "execution_count": 2,
      "outputs": [
        {
          "output_type": "stream",
          "name": "stdout",
          "text": [
            "(25000,) (25000,)\n",
            "(25000,) (25000,)\n"
          ]
        }
      ]
    },
    {
      "cell_type": "code",
      "source": [
        "train_input"
      ],
      "metadata": {
        "colab": {
          "base_uri": "https://localhost:8080/"
        },
        "id": "W9o_3-FIiCsQ",
        "outputId": "dc205cb4-f91f-45e0-c300-8313d5847f3e"
      },
      "execution_count": 3,
      "outputs": [
        {
          "output_type": "execute_result",
          "data": {
            "text/plain": [
              "array([list([1, 14, 22, 16, 43, 2, 2, 2, 2, 65, 458, 2, 66, 2, 4, 173, 36, 256, 5, 25, 100, 43, 2, 112, 50, 2, 2, 9, 35, 480, 284, 5, 150, 4, 172, 112, 167, 2, 336, 385, 39, 4, 172, 2, 2, 17, 2, 38, 13, 447, 4, 192, 50, 16, 6, 147, 2, 19, 14, 22, 4, 2, 2, 469, 4, 22, 71, 87, 12, 16, 43, 2, 38, 76, 15, 13, 2, 4, 22, 17, 2, 17, 12, 16, 2, 18, 2, 5, 62, 386, 12, 8, 316, 8, 106, 5, 4, 2, 2, 16, 480, 66, 2, 33, 4, 130, 12, 16, 38, 2, 5, 25, 124, 51, 36, 135, 48, 25, 2, 33, 6, 22, 12, 215, 28, 77, 52, 5, 14, 407, 16, 82, 2, 8, 4, 107, 117, 2, 15, 256, 4, 2, 7, 2, 5, 2, 36, 71, 43, 2, 476, 26, 400, 317, 46, 7, 4, 2, 2, 13, 104, 88, 4, 381, 15, 297, 98, 32, 2, 56, 26, 141, 6, 194, 2, 18, 4, 226, 22, 21, 134, 476, 26, 480, 5, 144, 30, 2, 18, 51, 36, 28, 224, 92, 25, 104, 4, 226, 65, 16, 38, 2, 88, 12, 16, 283, 5, 16, 2, 113, 103, 32, 15, 16, 2, 19, 178, 32]),\n",
              "       list([1, 194, 2, 194, 2, 78, 228, 5, 6, 2, 2, 2, 134, 26, 4, 2, 8, 118, 2, 14, 394, 20, 13, 119, 2, 189, 102, 5, 207, 110, 2, 21, 14, 69, 188, 8, 30, 23, 7, 4, 249, 126, 93, 4, 114, 9, 2, 2, 5, 2, 4, 116, 9, 35, 2, 4, 229, 9, 340, 2, 4, 118, 9, 4, 130, 2, 19, 4, 2, 5, 89, 29, 2, 46, 37, 4, 455, 9, 45, 43, 38, 2, 2, 398, 4, 2, 26, 2, 5, 163, 11, 2, 2, 4, 2, 9, 194, 2, 7, 2, 2, 349, 2, 148, 2, 2, 2, 15, 123, 125, 68, 2, 2, 15, 349, 165, 2, 98, 5, 4, 228, 9, 43, 2, 2, 15, 299, 120, 5, 120, 174, 11, 220, 175, 136, 50, 9, 2, 228, 2, 5, 2, 2, 245, 2, 5, 4, 2, 131, 152, 491, 18, 2, 32, 2, 2, 14, 9, 6, 371, 78, 22, 2, 64, 2, 9, 8, 168, 145, 23, 4, 2, 15, 16, 4, 2, 5, 28, 6, 52, 154, 462, 33, 89, 78, 285, 16, 145, 95]),\n",
              "       list([1, 14, 47, 8, 30, 31, 7, 4, 249, 108, 7, 4, 2, 54, 61, 369, 13, 71, 149, 14, 22, 112, 4, 2, 311, 12, 16, 2, 33, 75, 43, 2, 296, 4, 86, 320, 35, 2, 19, 263, 2, 2, 4, 2, 33, 89, 78, 12, 66, 16, 4, 360, 7, 4, 58, 316, 334, 11, 4, 2, 43, 2, 2, 8, 257, 85, 2, 42, 2, 2, 83, 68, 2, 15, 36, 165, 2, 278, 36, 69, 2, 2, 8, 106, 14, 2, 2, 18, 6, 22, 12, 215, 28, 2, 40, 6, 87, 326, 23, 2, 21, 23, 22, 12, 272, 40, 57, 31, 11, 4, 22, 47, 6, 2, 51, 9, 170, 23, 2, 116, 2, 2, 13, 191, 79, 2, 89, 2, 14, 9, 8, 106, 2, 2, 35, 2, 6, 227, 7, 129, 113]),\n",
              "       ...,\n",
              "       list([1, 11, 6, 230, 245, 2, 9, 6, 2, 446, 2, 45, 2, 84, 2, 2, 21, 4, 2, 84, 2, 325, 2, 134, 2, 2, 84, 5, 36, 28, 57, 2, 21, 8, 140, 8, 2, 5, 2, 84, 56, 18, 2, 14, 9, 31, 7, 4, 2, 2, 2, 2, 2, 18, 6, 20, 207, 110, 2, 12, 8, 2, 2, 8, 97, 6, 20, 53, 2, 74, 4, 460, 364, 2, 29, 270, 11, 2, 108, 45, 40, 29, 2, 395, 11, 6, 2, 2, 7, 2, 89, 364, 70, 29, 140, 4, 64, 2, 11, 4, 2, 26, 178, 4, 2, 443, 2, 5, 27, 2, 117, 2, 2, 165, 47, 84, 37, 131, 2, 14, 2, 10, 10, 61, 2, 2, 10, 10, 288, 2, 2, 34, 2, 2, 4, 65, 496, 4, 231, 7, 2, 5, 6, 320, 234, 2, 234, 2, 2, 7, 496, 4, 139, 2, 2, 2, 2, 5, 2, 18, 4, 2, 2, 250, 11, 2, 2, 4, 2, 2, 2, 2, 372, 2, 2, 2, 2, 7, 4, 59, 2, 4, 2, 2]),\n",
              "       list([1, 2, 2, 69, 72, 2, 13, 2, 2, 8, 12, 2, 23, 5, 16, 484, 2, 54, 349, 11, 2, 2, 45, 58, 2, 13, 197, 12, 16, 43, 23, 2, 5, 62, 30, 145, 402, 11, 2, 51, 2, 32, 61, 369, 71, 66, 2, 12, 2, 75, 100, 2, 8, 4, 105, 37, 69, 147, 2, 75, 2, 44, 257, 390, 5, 69, 263, 2, 105, 50, 286, 2, 23, 4, 123, 13, 161, 40, 5, 421, 4, 116, 16, 2, 13, 2, 40, 319, 2, 112, 2, 11, 2, 121, 25, 70, 2, 4, 2, 2, 13, 18, 31, 62, 40, 8, 2, 4, 2, 7, 14, 123, 5, 2, 25, 8, 2, 12, 145, 5, 202, 12, 160, 2, 202, 12, 6, 52, 58, 2, 92, 401, 2, 12, 39, 14, 251, 8, 15, 251, 5, 2, 12, 38, 84, 80, 124, 12, 9, 23]),\n",
              "       list([1, 17, 6, 194, 337, 7, 4, 204, 22, 45, 254, 8, 106, 14, 123, 4, 2, 270, 2, 5, 2, 2, 2, 2, 101, 405, 39, 14, 2, 4, 2, 9, 115, 50, 305, 12, 47, 4, 168, 5, 235, 7, 38, 111, 2, 102, 7, 4, 2, 2, 9, 24, 6, 78, 2, 17, 2, 2, 21, 27, 2, 2, 5, 2, 2, 92, 2, 4, 2, 7, 4, 204, 42, 97, 90, 35, 221, 109, 29, 127, 27, 118, 8, 97, 12, 157, 21, 2, 2, 9, 6, 66, 78, 2, 4, 2, 2, 5, 2, 272, 191, 2, 6, 2, 8, 2, 2, 2, 2, 5, 383, 2, 2, 2, 2, 497, 2, 8, 2, 2, 2, 21, 60, 27, 239, 9, 43, 2, 209, 405, 10, 10, 12, 2, 40, 4, 248, 20, 12, 16, 5, 174, 2, 72, 7, 51, 6, 2, 22, 4, 204, 131, 9])],\n",
              "      dtype=object)"
            ]
          },
          "metadata": {},
          "execution_count": 3
        }
      ]
    },
    {
      "cell_type": "code",
      "source": [
        "train_target"
      ],
      "metadata": {
        "colab": {
          "base_uri": "https://localhost:8080/"
        },
        "id": "3Q9TqnIOiD6F",
        "outputId": "dce918b8-7254-42c0-e70c-e101688b4459"
      },
      "execution_count": 4,
      "outputs": [
        {
          "output_type": "execute_result",
          "data": {
            "text/plain": [
              "array([1, 0, 0, ..., 0, 1, 0])"
            ]
          },
          "metadata": {},
          "execution_count": 4
        }
      ]
    },
    {
      "cell_type": "code",
      "source": [
        "# train_input의 각각은 파이썬 리스트 객체로 하나하나가 리뷰이며 그 단어들을 숫자로 바꿔서 표현해둔것임\n",
        "print(len(train_input[0]))"
      ],
      "metadata": {
        "colab": {
          "base_uri": "https://localhost:8080/"
        },
        "id": "3geYmXPXiFa3",
        "outputId": "3999f2e2-22e9-4e94-d5ad-23925ae3f242"
      },
      "execution_count": 5,
      "outputs": [
        {
          "output_type": "stream",
          "name": "stdout",
          "text": [
            "218\n"
          ]
        }
      ]
    },
    {
      "cell_type": "code",
      "source": [
        "# 두번째 리뷰 길이\n",
        "print(len(train_input[1]))"
      ],
      "metadata": {
        "colab": {
          "base_uri": "https://localhost:8080/"
        },
        "id": "j6WIY0fUifOY",
        "outputId": "ec2d70ef-5e88-4127-f6ba-8ab5cb8dbeda"
      },
      "execution_count": 6,
      "outputs": [
        {
          "output_type": "stream",
          "name": "stdout",
          "text": [
            "189\n"
          ]
        }
      ]
    },
    {
      "cell_type": "code",
      "source": [
        "# 우리가 num_words = 500이라고 설정했기때문에 어휘 사전에 없는 단어는 모두 2로 표현되어서 나타난다.\n",
        "# target의 0은 부정적인 리뷰, 1은 긍정적인 리뷰를 상징한다.\n",
        "print(train_target[:20])"
      ],
      "metadata": {
        "colab": {
          "base_uri": "https://localhost:8080/"
        },
        "id": "hhI5J6-Diij8",
        "outputId": "b1898db3-974a-42e2-844a-73a07b1ec00b"
      },
      "execution_count": 7,
      "outputs": [
        {
          "output_type": "stream",
          "name": "stdout",
          "text": [
            "[1 0 0 1 0 0 1 0 1 0 1 0 0 0 0 0 1 1 0 1]\n"
          ]
        }
      ]
    },
    {
      "cell_type": "code",
      "source": [
        "# val data 떼두기\n",
        "from sklearn.model_selection import train_test_split\n",
        "train_input, val_input, train_target, val_target = train_test_split(train_input, train_target, test_size=0.2, random_state=42)"
      ],
      "metadata": {
        "id": "GcUb7h51i5wR"
      },
      "execution_count": 8,
      "outputs": []
    },
    {
      "cell_type": "code",
      "source": [
        "# 평균적인 리뷰의 길이와 가장 긴 리뷰의 길이를 확인하자\n",
        "import numpy as np\n",
        "lengths = np.array([len(x) for x in train_input])\n",
        "\n",
        "print(np.mean(lengths), np.median(lengths))"
      ],
      "metadata": {
        "colab": {
          "base_uri": "https://localhost:8080/"
        },
        "id": "_b-DoWqkjJgM",
        "outputId": "ed4d6d35-ef1c-48a2-ec26-91a13d0deaab"
      },
      "execution_count": 9,
      "outputs": [
        {
          "output_type": "stream",
          "name": "stdout",
          "text": [
            "239.00925 178.0\n"
          ]
        }
      ]
    },
    {
      "cell_type": "markdown",
      "source": [
        "리뷰의 평균 단어 수는 239개이며 중간값이 178개이다."
      ],
      "metadata": {
        "id": "c8Y4Arhkjb_t"
      }
    },
    {
      "cell_type": "code",
      "source": [
        "import matplotlib.pyplot as plt\n",
        "\n",
        "plt.hist(lengths)\n",
        "plt.show()"
      ],
      "metadata": {
        "colab": {
          "base_uri": "https://localhost:8080/",
          "height": 430
        },
        "id": "EHnhzlqijZAN",
        "outputId": "fb3c002d-cd6c-4c35-b840-c9cd23d030eb"
      },
      "execution_count": 10,
      "outputs": [
        {
          "output_type": "display_data",
          "data": {
            "text/plain": [
              "<Figure size 640x480 with 1 Axes>"
            ],
            "image/png": "[encoded data removed]"
          },
          "metadata": {}
        }
      ]
    },
    {
      "cell_type": "code",
      "source": [
        "from tensorflow.keras.preprocessing.sequence import pad_sequences\n",
        "train_seq = pad_sequences(train_input, maxlen=100) # 100개 미만의 리뷰만 뽑아온다. padding도 해준다. 100보다 길면 짜름\n",
        "val_seq = pad_sequences(val_input, maxlen=100)"
      ],
      "metadata": {
        "id": "uJ9U9VbgjnJD"
      },
      "execution_count": 11,
      "outputs": []
    },
    {
      "cell_type": "code",
      "source": [
        "print(train_seq.shape)"
      ],
      "metadata": {
        "colab": {
          "base_uri": "https://localhost:8080/"
        },
        "id": "Attg4qRIlL8E",
        "outputId": "cf714858-cf3b-4623-ed34-9b6ff230b3b3"
      },
      "execution_count": 12,
      "outputs": [
        {
          "output_type": "stream",
          "name": "stdout",
          "text": [
            "(20000, 100)\n"
          ]
        }
      ]
    },
    {
      "cell_type": "code",
      "source": [
        "plt.plot(train_seq[0][:])\n",
        "plt.show() # 일종의 시계열(순차) 데이터임"
      ],
      "metadata": {
        "colab": {
          "base_uri": "https://localhost:8080/",
          "height": 430
        },
        "id": "-PhHIQWolOId",
        "outputId": "39252098-ee9c-4907-c426-e2b7d3cf9d80"
      },
      "execution_count": 13,
      "outputs": [
        {
          "output_type": "display_data",
          "data": {
            "text/plain": [
              "<Figure size 640x480 with 1 Axes>"
            ],
            "image/png": "[encoded data removed]"
          },
          "metadata": {}
        }
      ]
    },
    {
      "cell_type": "code",
      "source": [
        "import tensorflow as tf\n",
        "from tensorflow import keras\n",
        "\n",
        "model = keras.Sequential()\n",
        "model.add(keras.layers.SimpleRNN(8, input_shape=(100,500))) # input data에 단어를 500개만 사용 ~ 원 핫 코딩으로 바꾼거임\n",
        "model.add(keras.layers.Dense(1, activation='sigmoid')) # 샘플 수가 2만개임 헷갈리지 말기~"
      ],
      "metadata": {
        "id": "CPYY4vTcldwQ"
      },
      "execution_count": 14,
      "outputs": []
    },
    {
      "cell_type": "code",
      "source": [
        "train_oh = keras.utils.to_categorical(train_seq)\n",
        "train_oh.shape"
      ],
      "metadata": {
        "colab": {
          "base_uri": "https://localhost:8080/"
        },
        "id": "UcYjXOU_mlS0",
        "outputId": "28d57d67-a570-46c9-8c88-e7981c8f9322"
      },
      "execution_count": 15,
      "outputs": [
        {
          "output_type": "execute_result",
          "data": {
            "text/plain": [
              "(20000, 100, 500)"
            ]
          },
          "metadata": {},
          "execution_count": 15
        }
      ]
    },
    {
      "cell_type": "code",
      "source": [
        "print(train_oh[0][0][:12]) # 성공적으로 변환됨"
      ],
      "metadata": {
        "colab": {
          "base_uri": "https://localhost:8080/"
        },
        "id": "qdpnakvkoKGo",
        "outputId": "90019765-c4fc-4b3f-8421-b46fbf6b7ca2"
      },
      "execution_count": 16,
      "outputs": [
        {
          "output_type": "stream",
          "name": "stdout",
          "text": [
            "[0. 0. 0. 0. 0. 0. 0. 0. 0. 0. 1. 0.]\n"
          ]
        }
      ]
    },
    {
      "cell_type": "code",
      "source": [
        "val_oh = keras.utils.to_categorical(val_seq)"
      ],
      "metadata": {
        "id": "eXfiFzuroRa9"
      },
      "execution_count": 17,
      "outputs": []
    },
    {
      "cell_type": "code",
      "source": [
        "model.summary()"
      ],
      "metadata": {
        "colab": {
          "base_uri": "https://localhost:8080/"
        },
        "id": "sRDEu7aooWmC",
        "outputId": "f5b10aa4-a40c-476b-ed64-28d02ac7c817"
      },
      "execution_count": 18,
      "outputs": [
        {
          "output_type": "stream",
          "name": "stdout",
          "text": [
            "Model: \"sequential\"\n",
            "_________________________________________________________________\n",
            " Layer (type)                Output Shape              Param #   \n",
            "=================================================================\n",
            " simple_rnn (SimpleRNN)      (None, 8)                 4072      \n",
            "                                                                 \n",
            " dense (Dense)               (None, 1)                 9         \n",
            "                                                                 \n",
            "=================================================================\n",
            "Total params: 4,081\n",
            "Trainable params: 4,081\n",
            "Non-trainable params: 0\n",
            "_________________________________________________________________\n"
          ]
        }
      ]
    },
    {
      "cell_type": "code",
      "source": [
        "rmsprop = keras.optimizers.RMSprop(learning_rate = 1e-4)\n",
        "model.compile(optimizer=rmsprop, loss='binary_crossentropy', metrics=['accuracy'])\n",
        "checkpoint_cb = keras.callbacks.ModelCheckpoint('best-simplernn-model.h5')\n",
        "early_stopping_cb = keras.callbacks.EarlyStopping(patience=3, restore_best_weights=True)"
      ],
      "metadata": {
        "id": "X2-ODcohoiQY"
      },
      "execution_count": 19,
      "outputs": []
    },
    {
      "cell_type": "code",
      "source": [
        "history = model.fit(train_oh, train_target, epochs=100, batch_size=64, validation_data=(val_oh, val_target), callbacks=[checkpoint_cb, early_stopping_cb])"
      ],
      "metadata": {
        "id": "U_ZOVEsmpn1R",
        "colab": {
          "base_uri": "https://localhost:8080/"
        },
        "outputId": "4f68de72-e5d4-4e51-98f9-9b9a950e925b"
      },
      "execution_count": 20,
      "outputs": [
        {
          "output_type": "stream",
          "name": "stdout",
          "text": [
            "Epoch 1/100\n",
            "313/313 [==============================] - 31s 93ms/step - loss: 0.6944 - accuracy: 0.5219 - val_loss: 0.6853 - val_accuracy: 0.5562\n",
            "Epoch 2/100\n",
            "313/313 [==============================] - 19s 61ms/step - loss: 0.6724 - accuracy: 0.5883 - val_loss: 0.6637 - val_accuracy: 0.6074\n",
            "Epoch 3/100\n",
            "313/313 [==============================] - 19s 61ms/step - loss: 0.6517 - accuracy: 0.6299 - val_loss: 0.6447 - val_accuracy: 0.6400\n",
            "Epoch 4/100\n",
            "313/313 [==============================] - 19s 60ms/step - loss: 0.6310 - accuracy: 0.6675 - val_loss: 0.6247 - val_accuracy: 0.6770\n",
            "Epoch 5/100\n",
            "313/313 [==============================] - 20s 63ms/step - loss: 0.6060 - accuracy: 0.7048 - val_loss: 0.6018 - val_accuracy: 0.7086\n",
            "Epoch 6/100\n",
            "313/313 [==============================] - 19s 60ms/step - loss: 0.5874 - accuracy: 0.7260 - val_loss: 0.5860 - val_accuracy: 0.7190\n",
            "Epoch 7/100\n",
            "313/313 [==============================] - 18s 58ms/step - loss: 0.5729 - accuracy: 0.7363 - val_loss: 0.5723 - val_accuracy: 0.7332\n",
            "Epoch 8/100\n",
            "313/313 [==============================] - 19s 61ms/step - loss: 0.5594 - accuracy: 0.7490 - val_loss: 0.5579 - val_accuracy: 0.7482\n",
            "Epoch 9/100\n",
            "313/313 [==============================] - 19s 60ms/step - loss: 0.5471 - accuracy: 0.7581 - val_loss: 0.5464 - val_accuracy: 0.7562\n",
            "Epoch 10/100\n",
            "313/313 [==============================] - 18s 57ms/step - loss: 0.5357 - accuracy: 0.7648 - val_loss: 0.5369 - val_accuracy: 0.7584\n",
            "Epoch 11/100\n",
            "313/313 [==============================] - 19s 59ms/step - loss: 0.5249 - accuracy: 0.7711 - val_loss: 0.5293 - val_accuracy: 0.7614\n",
            "Epoch 12/100\n",
            "313/313 [==============================] - 19s 60ms/step - loss: 0.5149 - accuracy: 0.7758 - val_loss: 0.5214 - val_accuracy: 0.7694\n",
            "Epoch 13/100\n",
            "313/313 [==============================] - 20s 63ms/step - loss: 0.5066 - accuracy: 0.7804 - val_loss: 0.5138 - val_accuracy: 0.7710\n",
            "Epoch 14/100\n",
            "313/313 [==============================] - 19s 60ms/step - loss: 0.4976 - accuracy: 0.7852 - val_loss: 0.5081 - val_accuracy: 0.7688\n",
            "Epoch 15/100\n",
            "313/313 [==============================] - 17s 55ms/step - loss: 0.4901 - accuracy: 0.7897 - val_loss: 0.5006 - val_accuracy: 0.7780\n",
            "Epoch 16/100\n",
            "313/313 [==============================] - 18s 59ms/step - loss: 0.4827 - accuracy: 0.7929 - val_loss: 0.4975 - val_accuracy: 0.7778\n",
            "Epoch 17/100\n",
            "313/313 [==============================] - 18s 58ms/step - loss: 0.4759 - accuracy: 0.7943 - val_loss: 0.4917 - val_accuracy: 0.7804\n",
            "Epoch 18/100\n",
            "313/313 [==============================] - 18s 57ms/step - loss: 0.4697 - accuracy: 0.7976 - val_loss: 0.4904 - val_accuracy: 0.7706\n",
            "Epoch 19/100\n",
            "313/313 [==============================] - 18s 57ms/step - loss: 0.4633 - accuracy: 0.8005 - val_loss: 0.4836 - val_accuracy: 0.7768\n",
            "Epoch 20/100\n",
            "313/313 [==============================] - 17s 56ms/step - loss: 0.4582 - accuracy: 0.8015 - val_loss: 0.4793 - val_accuracy: 0.7804\n",
            "Epoch 21/100\n",
            "313/313 [==============================] - 17s 56ms/step - loss: 0.4535 - accuracy: 0.8052 - val_loss: 0.4764 - val_accuracy: 0.7808\n",
            "Epoch 22/100\n",
            "313/313 [==============================] - 18s 56ms/step - loss: 0.4490 - accuracy: 0.8053 - val_loss: 0.4735 - val_accuracy: 0.7814\n",
            "Epoch 23/100\n",
            "313/313 [==============================] - 17s 55ms/step - loss: 0.4452 - accuracy: 0.8081 - val_loss: 0.4716 - val_accuracy: 0.7832\n",
            "Epoch 24/100\n",
            "313/313 [==============================] - 18s 56ms/step - loss: 0.4411 - accuracy: 0.8096 - val_loss: 0.4700 - val_accuracy: 0.7826\n",
            "Epoch 25/100\n",
            "313/313 [==============================] - 17s 53ms/step - loss: 0.4380 - accuracy: 0.8100 - val_loss: 0.4712 - val_accuracy: 0.7810\n",
            "Epoch 26/100\n",
            "313/313 [==============================] - 18s 56ms/step - loss: 0.4346 - accuracy: 0.8113 - val_loss: 0.4668 - val_accuracy: 0.7832\n",
            "Epoch 27/100\n",
            "313/313 [==============================] - 17s 53ms/step - loss: 0.4316 - accuracy: 0.8127 - val_loss: 0.4665 - val_accuracy: 0.7836\n",
            "Epoch 28/100\n",
            "313/313 [==============================] - 17s 54ms/step - loss: 0.4283 - accuracy: 0.8144 - val_loss: 0.4671 - val_accuracy: 0.7832\n",
            "Epoch 29/100\n",
            "313/313 [==============================] - 17s 55ms/step - loss: 0.4260 - accuracy: 0.8137 - val_loss: 0.4631 - val_accuracy: 0.7872\n",
            "Epoch 30/100\n",
            "313/313 [==============================] - 18s 59ms/step - loss: 0.4238 - accuracy: 0.8153 - val_loss: 0.4622 - val_accuracy: 0.7860\n",
            "Epoch 31/100\n",
            "313/313 [==============================] - 18s 56ms/step - loss: 0.4215 - accuracy: 0.8166 - val_loss: 0.4613 - val_accuracy: 0.7882\n",
            "Epoch 32/100\n",
            "313/313 [==============================] - 18s 57ms/step - loss: 0.4189 - accuracy: 0.8169 - val_loss: 0.4630 - val_accuracy: 0.7860\n",
            "Epoch 33/100\n",
            "313/313 [==============================] - 18s 57ms/step - loss: 0.4167 - accuracy: 0.8191 - val_loss: 0.4594 - val_accuracy: 0.7864\n",
            "Epoch 34/100\n",
            "313/313 [==============================] - 17s 56ms/step - loss: 0.4152 - accuracy: 0.8205 - val_loss: 0.4580 - val_accuracy: 0.7884\n",
            "Epoch 35/100\n",
            "313/313 [==============================] - 17s 55ms/step - loss: 0.4129 - accuracy: 0.8206 - val_loss: 0.4577 - val_accuracy: 0.7856\n",
            "Epoch 36/100\n",
            "313/313 [==============================] - 18s 59ms/step - loss: 0.4115 - accuracy: 0.8221 - val_loss: 0.4586 - val_accuracy: 0.7878\n",
            "Epoch 37/100\n",
            "313/313 [==============================] - 18s 56ms/step - loss: 0.4101 - accuracy: 0.8207 - val_loss: 0.4596 - val_accuracy: 0.7860\n",
            "Epoch 38/100\n",
            "313/313 [==============================] - 17s 54ms/step - loss: 0.4086 - accuracy: 0.8217 - val_loss: 0.4605 - val_accuracy: 0.7858\n"
          ]
        }
      ]
    }
  ]
}
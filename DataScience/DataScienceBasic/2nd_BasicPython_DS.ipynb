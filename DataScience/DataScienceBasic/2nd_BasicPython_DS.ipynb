{
  "cells": [
    {
      "cell_type": "markdown",
      "source": [
        "# Lecture 02의 데모\n",
        "\n",
        "### Lecture 02에서의 데모 코드\n",
        "\n",
        "참고자료: https://github.com/data-8/materials-sp22/blob/main/lec/lec03.ipynb"
      ],
      "metadata": {
        "id": "omVFVoCoXgix"
      }
    },
    {
      "cell_type": "code",
      "source": [
        "import os\n",
        "from google.colab import drive\n",
        "\n",
        "drive.mount('/content/gdrive')\n",
        "\n",
        "%cd /content/gdrive/MyDrive/ITEC419-fa22/lec"
      ],
      "metadata": {
        "id": "OwHsEyRPVFUh",
        "colab": {
          "base_uri": "https://localhost:8080/"
        },
        "outputId": "741b442b-387e-4d44-ba34-9f1421574bd9"
      },
      "execution_count": 1,
      "outputs": [
        {
          "output_type": "stream",
          "name": "stdout",
          "text": [
            "Mounted at /content/gdrive\n",
            "/content/gdrive/MyDrive/ITEC419-fa22/lec\n"
          ]
        }
      ]
    },
    {
      "cell_type": "code",
      "source": [
        "%pwd"
      ],
      "metadata": {
        "colab": {
          "base_uri": "https://localhost:8080/",
          "height": 36
        },
        "id": "UmgBBSpJr6YW",
        "outputId": "bf036197-a20e-4a93-eae0-c3ea54e63010"
      },
      "execution_count": 2,
      "outputs": [
        {
          "output_type": "execute_result",
          "data": {
            "text/plain": [
              "'/content/gdrive/MyDrive/ITEC419-fa22/lec'"
            ],
            "application/vnd.google.colaboratory.intrinsic+json": {
              "type": "string"
            }
          },
          "metadata": {},
          "execution_count": 2
        }
      ]
    },
    {
      "cell_type": "markdown",
      "metadata": {
        "id": "5Cw8dI2T8VWJ"
      },
      "source": [
        "## Python Arithmetic ##"
      ]
    },
    {
      "cell_type": "markdown",
      "source": [
        "이 내용은 9월 7일 수업 내용입니다."
      ],
      "metadata": {
        "id": "harwGlTqtZwN"
      }
    },
    {
      "cell_type": "code",
      "execution_count": 3,
      "metadata": {
        "id": "cUwzetWu8VWM"
      },
      "outputs": [],
      "source": [
        "hours_per_week = 7 * 24"
      ]
    },
    {
      "cell_type": "code",
      "execution_count": 4,
      "metadata": {
        "id": "70zfhu-l8VWN",
        "colab": {
          "base_uri": "https://localhost:8080/"
        },
        "outputId": "5bb1bfdd-0702-45cd-fbdb-6be63809834e"
      },
      "outputs": [
        {
          "output_type": "execute_result",
          "data": {
            "text/plain": [
              "168"
            ]
          },
          "metadata": {},
          "execution_count": 4
        }
      ],
      "source": [
        "hours_per_week"
      ]
    },
    {
      "cell_type": "code",
      "source": [
        "hours_per_week = 555555"
      ],
      "metadata": {
        "id": "MDTQFu6nsYqd"
      },
      "execution_count": 5,
      "outputs": []
    },
    {
      "cell_type": "code",
      "source": [
        "8/9"
      ],
      "metadata": {
        "colab": {
          "base_uri": "https://localhost:8080/"
        },
        "id": "IHDxPgIfsZLd",
        "outputId": "bcfdaf30-1790-4e09-c32b-406ce936c6e9"
      },
      "execution_count": 6,
      "outputs": [
        {
          "output_type": "execute_result",
          "data": {
            "text/plain": [
              "0.8888888888888888"
            ]
          },
          "metadata": {},
          "execution_count": 6
        }
      ]
    },
    {
      "cell_type": "code",
      "source": [
        "2 + 3 * 5"
      ],
      "metadata": {
        "colab": {
          "base_uri": "https://localhost:8080/"
        },
        "id": "xF7BqQPWsZYt",
        "outputId": "b511b933-d155-4f65-bb8d-e9e1294db39a"
      },
      "execution_count": 7,
      "outputs": [
        {
          "output_type": "execute_result",
          "data": {
            "text/plain": [
              "17"
            ]
          },
          "metadata": {},
          "execution_count": 7
        }
      ]
    },
    {
      "cell_type": "code",
      "source": [
        "'hello'"
      ],
      "metadata": {
        "colab": {
          "base_uri": "https://localhost:8080/",
          "height": 36
        },
        "id": "MYXtW9oJsZl9",
        "outputId": "9ba192ee-86b2-4733-9e94-6b3386650ad9"
      },
      "execution_count": 8,
      "outputs": [
        {
          "output_type": "execute_result",
          "data": {
            "text/plain": [
              "'hello'"
            ],
            "application/vnd.google.colaboratory.intrinsic+json": {
              "type": "string"
            }
          },
          "metadata": {},
          "execution_count": 8
        }
      ]
    },
    {
      "cell_type": "code",
      "source": [
        "'Introduction to Data Science'"
      ],
      "metadata": {
        "colab": {
          "base_uri": "https://localhost:8080/",
          "height": 36
        },
        "id": "b0Fb-mzDuHuQ",
        "outputId": "1c27d618-5078-4b10-b55d-cd380756976e"
      },
      "execution_count": 9,
      "outputs": [
        {
          "output_type": "execute_result",
          "data": {
            "text/plain": [
              "'Introduction to Data Science'"
            ],
            "application/vnd.google.colaboratory.intrinsic+json": {
              "type": "string"
            }
          },
          "metadata": {},
          "execution_count": 9
        }
      ]
    },
    {
      "cell_type": "markdown",
      "metadata": {
        "id": "RHKXkxIq8VWN"
      },
      "source": [
        "## Names ##"
      ]
    },
    {
      "cell_type": "code",
      "execution_count": null,
      "metadata": {
        "id": "Ps7yWKM38VWO",
        "colab": {
          "base_uri": "https://localhost:8080/"
        },
        "outputId": "4bf53eaf-d333-4f05-8625-53599165b661"
      },
      "outputs": [
        {
          "output_type": "execute_result",
          "data": {
            "text/plain": [
              "2"
            ]
          },
          "metadata": {},
          "execution_count": 45
        }
      ],
      "source": [
        "a = 2\n",
        "a"
      ]
    },
    {
      "cell_type": "code",
      "execution_count": null,
      "metadata": {
        "id": "5X9OfUXc8VWO",
        "colab": {
          "base_uri": "https://localhost:8080/"
        },
        "outputId": "680b8830-98e4-40cc-d433-95f425caff72"
      },
      "outputs": [
        {
          "output_type": "execute_result",
          "data": {
            "text/plain": [
              "6"
            ]
          },
          "metadata": {},
          "execution_count": 46
        }
      ],
      "source": [
        "b = 3\n",
        "a * b"
      ]
    },
    {
      "cell_type": "code",
      "source": [
        "total = a + b\n",
        "total"
      ],
      "metadata": {
        "colab": {
          "base_uri": "https://localhost:8080/"
        },
        "id": "AdOw2VPruzVl",
        "outputId": "7e5f7f82-15af-4b5c-c23e-881c04554204"
      },
      "execution_count": null,
      "outputs": [
        {
          "output_type": "execute_result",
          "data": {
            "text/plain": [
              "5"
            ]
          },
          "metadata": {},
          "execution_count": 47
        }
      ]
    },
    {
      "cell_type": "code",
      "source": [
        "a = 5\n",
        "total"
      ],
      "metadata": {
        "colab": {
          "base_uri": "https://localhost:8080/"
        },
        "id": "8slxQQ_Du4Zt",
        "outputId": "ef35981d-8312-4e65-981b-93444ad9b9c5"
      },
      "execution_count": null,
      "outputs": [
        {
          "output_type": "execute_result",
          "data": {
            "text/plain": [
              "5"
            ]
          },
          "metadata": {},
          "execution_count": 48
        }
      ]
    },
    {
      "cell_type": "code",
      "source": [
        "a = a + 1\n",
        "a"
      ],
      "metadata": {
        "colab": {
          "base_uri": "https://localhost:8080/"
        },
        "id": "rqUEbHyBvMHt",
        "outputId": "f86249d4-f42c-4896-dec5-1c1506813a22"
      },
      "execution_count": null,
      "outputs": [
        {
          "output_type": "execute_result",
          "data": {
            "text/plain": [
              "9"
            ]
          },
          "metadata": {},
          "execution_count": 52
        }
      ]
    },
    {
      "cell_type": "markdown",
      "metadata": {
        "id": "SjqcAeh98VWO"
      },
      "source": [
        "### Why Names?"
      ]
    },
    {
      "cell_type": "code",
      "execution_count": null,
      "metadata": {
        "id": "I0yGSrvp8VWO",
        "colab": {
          "base_uri": "https://localhost:8080/"
        },
        "outputId": "40b00bae-5c63-46a2-a08e-45e9071285b4"
      },
      "outputs": [
        {
          "output_type": "execute_result",
          "data": {
            "text/plain": [
              "73280"
            ]
          },
          "metadata": {},
          "execution_count": 53
        }
      ],
      "source": [
        "# Option 1\n",
        "8 * 9160"
      ]
    },
    {
      "cell_type": "code",
      "execution_count": null,
      "metadata": {
        "id": "K4OKcRe68VWP",
        "colab": {
          "base_uri": "https://localhost:8080/"
        },
        "outputId": "3886018e-2bfa-4601-c601-b57022de854e"
      },
      "outputs": [
        {
          "output_type": "execute_result",
          "data": {
            "text/plain": [
              "173.33333333333334"
            ]
          },
          "metadata": {},
          "execution_count": 54
        }
      ],
      "source": [
        "5 * 8 * 52 / 12"
      ]
    },
    {
      "cell_type": "code",
      "source": [
        "8 * 52 / 12"
      ],
      "metadata": {
        "id": "oFuNLCPMuQC0",
        "colab": {
          "base_uri": "https://localhost:8080/"
        },
        "outputId": "524daf63-cf92-41a5-d549-e5663b4b33c5"
      },
      "execution_count": null,
      "outputs": [
        {
          "output_type": "execute_result",
          "data": {
            "text/plain": [
              "34.666666666666664"
            ]
          },
          "metadata": {},
          "execution_count": 55
        }
      ]
    },
    {
      "cell_type": "code",
      "source": [
        "(5 * 8 + 8) * 52 * 9160"
      ],
      "metadata": {
        "id": "xvzR46TcGbVQ",
        "colab": {
          "base_uri": "https://localhost:8080/"
        },
        "outputId": "df6db3d6-a180-4ad1-a236-f5230dc81afc"
      },
      "execution_count": null,
      "outputs": [
        {
          "output_type": "execute_result",
          "data": {
            "text/plain": [
              "22863360"
            ]
          },
          "metadata": {},
          "execution_count": 56
        }
      ]
    },
    {
      "cell_type": "markdown",
      "metadata": {
        "id": "rADFAzS58VWQ"
      },
      "source": [
        "On August 5, 2021, the Ministry of Employment and Labor announced the minimum wage applied in 2022 as an hourly wage of 9,160 won."
      ]
    },
    {
      "cell_type": "code",
      "execution_count": 10,
      "metadata": {
        "id": "L4op4RnP8VWQ"
      },
      "outputs": [],
      "source": [
        "# Option 2\n",
        "# 숫자가 지칭하는것이 무엇인지 분명히함으로서 알아보기 쉽도록한다.\n",
        "hourly_minimum_wage = 9160\n",
        "hours_per_week = 5 * 8\n",
        "weeks_per_year = 52\n",
        "months_per_year = 12\n",
        "paid_vacation_hours_per_week = 8"
      ]
    },
    {
      "cell_type": "code",
      "execution_count": null,
      "metadata": {
        "id": "_7q8dbG58VWQ",
        "colab": {
          "base_uri": "https://localhost:8080/"
        },
        "outputId": "32ffc56b-75ae-4119-83af-8b4cf8899da7"
      },
      "outputs": [
        {
          "output_type": "stream",
          "name": "stdout",
          "text": [
            "173.33333333333334\n"
          ]
        },
        {
          "output_type": "execute_result",
          "data": {
            "text/plain": [
              "174"
            ]
          },
          "metadata": {},
          "execution_count": 59
        }
      ],
      "source": [
        "hours_per_month = hours_per_week * weeks_per_year / months_per_year\n",
        "print(hours_per_month)\n",
        "hours_per_month = int(hours_per_month + 1)\n",
        "hours_per_month"
      ]
    },
    {
      "cell_type": "code",
      "execution_count": null,
      "metadata": {
        "id": "BycoP9xf8VWR",
        "colab": {
          "base_uri": "https://localhost:8080/"
        },
        "outputId": "1ba8da4c-a28c-49d9-87c8-4294de50c7a9"
      },
      "outputs": [
        {
          "output_type": "stream",
          "name": "stdout",
          "text": [
            "34.666666666666664\n"
          ]
        },
        {
          "output_type": "execute_result",
          "data": {
            "text/plain": [
              "35"
            ]
          },
          "metadata": {},
          "execution_count": 60
        }
      ],
      "source": [
        "paid_vacation_hours_per_month = paid_vacation_hours_per_week * weeks_per_year / months_per_year\n",
        "print(paid_vacation_hours_per_month)\n",
        "paid_vacation_hours_per_month = int(paid_vacation_hours_per_month + 1)\n",
        "paid_vacation_hours_per_month"
      ]
    },
    {
      "cell_type": "code",
      "execution_count": null,
      "metadata": {
        "id": "YAmPIrEO8VWR",
        "colab": {
          "base_uri": "https://localhost:8080/"
        },
        "outputId": "3370f7aa-b229-49f8-8532-7175aae5d842"
      },
      "outputs": [
        {
          "output_type": "execute_result",
          "data": {
            "text/plain": [
              "1914440"
            ]
          },
          "metadata": {},
          "execution_count": 61
        }
      ],
      "source": [
        "monthly_wages = (hours_per_month + paid_vacation_hours_per_month) * hourly_minimum_wage\n",
        "monthly_wages"
      ]
    },
    {
      "cell_type": "code",
      "execution_count": null,
      "metadata": {
        "id": "aly4SZFG8VWR",
        "colab": {
          "base_uri": "https://localhost:8080/"
        },
        "outputId": "df701818-bd2c-4708-c69b-049bbb6a0638"
      },
      "outputs": [
        {
          "output_type": "execute_result",
          "data": {
            "text/plain": [
              "22973280"
            ]
          },
          "metadata": {},
          "execution_count": 62
        }
      ],
      "source": [
        "yearly_wages = monthly_wages * months_per_year\n",
        "yearly_wages"
      ]
    },
    {
      "cell_type": "markdown",
      "metadata": {
        "id": "PC24nGAp8VWS"
      },
      "source": [
        "## Functions and Call Expressions"
      ]
    },
    {
      "cell_type": "code",
      "execution_count": null,
      "metadata": {
        "id": "lGiyapaP8VWS",
        "colab": {
          "base_uri": "https://localhost:8080/"
        },
        "outputId": "bd11c8e9-65cb-48f6-ce99-f3a48481fed9"
      },
      "outputs": [
        {
          "output_type": "execute_result",
          "data": {
            "text/plain": [
              "4"
            ]
          },
          "metadata": {},
          "execution_count": 64
        }
      ],
      "source": [
        "abs(1 - 5)"
      ]
    },
    {
      "cell_type": "code",
      "execution_count": 12,
      "metadata": {
        "id": "fQ4fh_te8VWS",
        "colab": {
          "base_uri": "https://localhost:8080/"
        },
        "outputId": "900dfcc4-1ddd-4fdb-accf-03a6b383ed85"
      },
      "outputs": [
        {
          "output_type": "execute_result",
          "data": {
            "text/plain": [
              "int"
            ]
          },
          "metadata": {},
          "execution_count": 12
        }
      ],
      "source": [
        "day_temp = 52\n",
        "night_temp = 47\n",
        "abs(night_temp - day_temp)"
      ]
    },
    {
      "cell_type": "code",
      "execution_count": null,
      "metadata": {
        "id": "gZhGo-q48VWS",
        "colab": {
          "base_uri": "https://localhost:8080/"
        },
        "outputId": "78fef514-a19b-4ba3-d519-136d8151a3cd"
      },
      "outputs": [
        {
          "output_type": "execute_result",
          "data": {
            "text/plain": [
              "1234.6"
            ]
          },
          "metadata": {},
          "execution_count": 71
        }
      ],
      "source": [
        "round(1234.5678, ndigits=1)"
      ]
    },
    {
      "cell_type": "code",
      "execution_count": null,
      "metadata": {
        "id": "rh4nxqyo8VWT"
      },
      "outputs": [],
      "source": [
        "round?"
      ]
    },
    {
      "cell_type": "code",
      "source": [
        "import math as m"
      ],
      "metadata": {
        "id": "i_LMErYsy5Y0"
      },
      "execution_count": null,
      "outputs": []
    },
    {
      "cell_type": "code",
      "source": [
        "m.sqrt(4)"
      ],
      "metadata": {
        "colab": {
          "base_uri": "https://localhost:8080/"
        },
        "id": "gAGIhQW7y0ck",
        "outputId": "8240391d-e802-4a1b-f936-141989014758"
      },
      "execution_count": null,
      "outputs": [
        {
          "output_type": "execute_result",
          "data": {
            "text/plain": [
              "2.0"
            ]
          },
          "metadata": {},
          "execution_count": 78
        }
      ]
    },
    {
      "cell_type": "markdown",
      "metadata": {
        "id": "sC2T91Pb8VWT"
      },
      "source": [
        "## Tables ##"
      ]
    },
    {
      "cell_type": "code",
      "execution_count": 14,
      "metadata": {
        "id": "_BWLN5jx8VWT"
      },
      "outputs": [],
      "source": [
        "# Table을 관리하는 package가 담겨있는 datascience 라이브러리\n",
        "from datascience import *"
      ]
    },
    {
      "cell_type": "code",
      "execution_count": 23,
      "metadata": {
        "id": "mr2JNA3v8VWT",
        "colab": {
          "base_uri": "https://localhost:8080/",
          "height": 238
        },
        "outputId": "01914925-4740-44b3-ccf4-b2345117f370"
      },
      "outputs": [
        {
          "output_type": "execute_result",
          "data": {
            "text/plain": [
              "Flavor     | Color       | Price\n",
              "strawberry | pink        | 3.55\n",
              "chocolate  | light brown | 4.75\n",
              "chocolate  | dark brown  | 5.25\n",
              "strawberry | pink        | 5.25\n",
              "chocolate  | dark brown  | 5.25\n",
              "bubblegum  | pink        | 4.75"
            ],
            "text/html": [
              "<table border=\"1\" class=\"dataframe\">\n",
              "    <thead>\n",
              "        <tr>\n",
              "            <th>Flavor</th> <th>Color</th> <th>Price</th>\n",
              "        </tr>\n",
              "    </thead>\n",
              "    <tbody>\n",
              "        <tr>\n",
              "            <td>strawberry</td> <td>pink       </td> <td>3.55 </td>\n",
              "        </tr>\n",
              "        <tr>\n",
              "            <td>chocolate </td> <td>light brown</td> <td>4.75 </td>\n",
              "        </tr>\n",
              "        <tr>\n",
              "            <td>chocolate </td> <td>dark brown </td> <td>5.25 </td>\n",
              "        </tr>\n",
              "        <tr>\n",
              "            <td>strawberry</td> <td>pink       </td> <td>5.25 </td>\n",
              "        </tr>\n",
              "        <tr>\n",
              "            <td>chocolate </td> <td>dark brown </td> <td>5.25 </td>\n",
              "        </tr>\n",
              "        <tr>\n",
              "            <td>bubblegum </td> <td>pink       </td> <td>4.75 </td>\n",
              "        </tr>\n",
              "    </tbody>\n",
              "</table>"
            ]
          },
          "metadata": {},
          "execution_count": 23
        }
      ],
      "source": [
        "# Table.read_table(파일 이름)로 파일에서 가져와 테이블을 구성\n",
        "cones = Table.read_table('cones.csv')\n",
        "cones"
      ]
    },
    {
      "cell_type": "code",
      "execution_count": 24,
      "metadata": {
        "id": "7ySaZJda8VWT",
        "colab": {
          "base_uri": "https://localhost:8080/",
          "height": 141
        },
        "outputId": "e2833771-0b9c-4456-9d44-21ce04a076ec"
      },
      "outputs": [
        {
          "output_type": "display_data",
          "data": {
            "text/plain": [
              "<IPython.core.display.HTML object>"
            ],
            "text/html": [
              "<table border=\"1\" class=\"dataframe\">\n",
              "    <thead>\n",
              "        <tr>\n",
              "            <th>Flavor</th> <th>Color</th> <th>Price</th>\n",
              "        </tr>\n",
              "    </thead>\n",
              "    <tbody>\n",
              "        <tr>\n",
              "            <td>strawberry</td> <td>pink       </td> <td>3.55 </td>\n",
              "        </tr>\n",
              "        <tr>\n",
              "            <td>chocolate </td> <td>light brown</td> <td>4.75 </td>\n",
              "        </tr>\n",
              "    </tbody>\n",
              "</table>\n",
              "<p>... (4 rows omitted)</p>"
            ]
          },
          "metadata": {}
        }
      ],
      "source": [
        "# show(보여줄 행의 개수)\n",
        "cones.show(2)"
      ]
    },
    {
      "cell_type": "code",
      "source": [
        "# t.select(label)은 특정행을 추출하여 새로운 테이블 구성\n",
        "cones.select('Color')"
      ],
      "metadata": {
        "colab": {
          "base_uri": "https://localhost:8080/",
          "height": 238
        },
        "id": "jtfM43n6kFA3",
        "outputId": "313c56f7-6254-40db-9534-223407015a59"
      },
      "execution_count": 25,
      "outputs": [
        {
          "output_type": "execute_result",
          "data": {
            "text/plain": [
              "Flavor     | Color       | Price\n",
              "strawberry | pink        | 3.55\n",
              "chocolate  | light brown | 4.75\n",
              "chocolate  | dark brown  | 5.25\n",
              "strawberry | pink        | 5.25\n",
              "chocolate  | dark brown  | 5.25\n",
              "bubblegum  | pink        | 4.75"
            ],
            "text/html": [
              "<table border=\"1\" class=\"dataframe\">\n",
              "    <thead>\n",
              "        <tr>\n",
              "            <th>Flavor</th> <th>Color</th> <th>Price</th>\n",
              "        </tr>\n",
              "    </thead>\n",
              "    <tbody>\n",
              "        <tr>\n",
              "            <td>strawberry</td> <td>pink       </td> <td>3.55 </td>\n",
              "        </tr>\n",
              "        <tr>\n",
              "            <td>chocolate </td> <td>light brown</td> <td>4.75 </td>\n",
              "        </tr>\n",
              "        <tr>\n",
              "            <td>chocolate </td> <td>dark brown </td> <td>5.25 </td>\n",
              "        </tr>\n",
              "        <tr>\n",
              "            <td>strawberry</td> <td>pink       </td> <td>5.25 </td>\n",
              "        </tr>\n",
              "        <tr>\n",
              "            <td>chocolate </td> <td>dark brown </td> <td>5.25 </td>\n",
              "        </tr>\n",
              "        <tr>\n",
              "            <td>bubblegum </td> <td>pink       </td> <td>4.75 </td>\n",
              "        </tr>\n",
              "    </tbody>\n",
              "</table>"
            ]
          },
          "metadata": {},
          "execution_count": 25
        }
      ]
    },
    {
      "cell_type": "code",
      "execution_count": 26,
      "metadata": {
        "id": "xTVXYcgO8VWT"
      },
      "outputs": [],
      "source": [
        "# t.drop(label)은 특정행을 삭제한 새로운 테이블 보여줌\n",
        "# 주의! 대입하지않고 cones.drop('Price')를 하고 다시 cones 출력하면 원래대로 나옴\n",
        "cones = cones.drop( 'Price')"
      ]
    },
    {
      "cell_type": "code",
      "source": [
        "cones"
      ],
      "metadata": {
        "colab": {
          "base_uri": "https://localhost:8080/",
          "height": 238
        },
        "id": "Rs9V-fa80sKL",
        "outputId": "e8990ca3-0c6d-4fa3-ce7a-79a6f1558a32"
      },
      "execution_count": 27,
      "outputs": [
        {
          "output_type": "execute_result",
          "data": {
            "text/plain": [
              "Flavor     | Color\n",
              "strawberry | pink\n",
              "chocolate  | light brown\n",
              "chocolate  | dark brown\n",
              "strawberry | pink\n",
              "chocolate  | dark brown\n",
              "bubblegum  | pink"
            ],
            "text/html": [
              "<table border=\"1\" class=\"dataframe\">\n",
              "    <thead>\n",
              "        <tr>\n",
              "            <th>Flavor</th> <th>Color</th>\n",
              "        </tr>\n",
              "    </thead>\n",
              "    <tbody>\n",
              "        <tr>\n",
              "            <td>strawberry</td> <td>pink       </td>\n",
              "        </tr>\n",
              "        <tr>\n",
              "            <td>chocolate </td> <td>light brown</td>\n",
              "        </tr>\n",
              "        <tr>\n",
              "            <td>chocolate </td> <td>dark brown </td>\n",
              "        </tr>\n",
              "        <tr>\n",
              "            <td>strawberry</td> <td>pink       </td>\n",
              "        </tr>\n",
              "        <tr>\n",
              "            <td>chocolate </td> <td>dark brown </td>\n",
              "        </tr>\n",
              "        <tr>\n",
              "            <td>bubblegum </td> <td>pink       </td>\n",
              "        </tr>\n",
              "    </tbody>\n",
              "</table>"
            ]
          },
          "metadata": {},
          "execution_count": 27
        }
      ]
    },
    {
      "cell_type": "code",
      "source": [
        "cones = Table.read_table('cones.csv')"
      ],
      "metadata": {
        "id": "ZEC5e5r4kzFP"
      },
      "execution_count": 29,
      "outputs": []
    },
    {
      "cell_type": "code",
      "source": [
        "# t.sort(label, descending=False 또는 True) 행을 정렬하여 테이블 구성\n",
        "cones.sort('Price', descending=True)"
      ],
      "metadata": {
        "colab": {
          "base_uri": "https://localhost:8080/",
          "height": 238
        },
        "id": "vViSzIQT0iNk",
        "outputId": "8d9acf50-c30f-4c2e-caf6-bad53ca7712d"
      },
      "execution_count": 30,
      "outputs": [
        {
          "output_type": "execute_result",
          "data": {
            "text/plain": [
              "Flavor     | Color       | Price\n",
              "chocolate  | dark brown  | 5.25\n",
              "strawberry | pink        | 5.25\n",
              "chocolate  | dark brown  | 5.25\n",
              "chocolate  | light brown | 4.75\n",
              "bubblegum  | pink        | 4.75\n",
              "strawberry | pink        | 3.55"
            ],
            "text/html": [
              "<table border=\"1\" class=\"dataframe\">\n",
              "    <thead>\n",
              "        <tr>\n",
              "            <th>Flavor</th> <th>Color</th> <th>Price</th>\n",
              "        </tr>\n",
              "    </thead>\n",
              "    <tbody>\n",
              "        <tr>\n",
              "            <td>chocolate </td> <td>dark brown </td> <td>5.25 </td>\n",
              "        </tr>\n",
              "        <tr>\n",
              "            <td>strawberry</td> <td>pink       </td> <td>5.25 </td>\n",
              "        </tr>\n",
              "        <tr>\n",
              "            <td>chocolate </td> <td>dark brown </td> <td>5.25 </td>\n",
              "        </tr>\n",
              "        <tr>\n",
              "            <td>chocolate </td> <td>light brown</td> <td>4.75 </td>\n",
              "        </tr>\n",
              "        <tr>\n",
              "            <td>bubblegum </td> <td>pink       </td> <td>4.75 </td>\n",
              "        </tr>\n",
              "        <tr>\n",
              "            <td>strawberry</td> <td>pink       </td> <td>3.55 </td>\n",
              "        </tr>\n",
              "    </tbody>\n",
              "</table>"
            ]
          },
          "metadata": {},
          "execution_count": 30
        }
      ]
    },
    {
      "cell_type": "code",
      "source": [
        "# t.where(label, condition) label에 조건에 해당하는 행만 뽑아서 테이블을 구성\n",
        "cones.where('Flavor','chocolate').sort('Price')"
      ],
      "metadata": {
        "colab": {
          "base_uri": "https://localhost:8080/",
          "height": 143
        },
        "id": "prle2Z9Wk_Qp",
        "outputId": "8e4fa916-aeaf-4e82-8bdf-6e38de6b2a37"
      },
      "execution_count": 32,
      "outputs": [
        {
          "output_type": "execute_result",
          "data": {
            "text/plain": [
              "Flavor    | Color       | Price\n",
              "chocolate | light brown | 4.75\n",
              "chocolate | dark brown  | 5.25\n",
              "chocolate | dark brown  | 5.25"
            ],
            "text/html": [
              "<table border=\"1\" class=\"dataframe\">\n",
              "    <thead>\n",
              "        <tr>\n",
              "            <th>Flavor</th> <th>Color</th> <th>Price</th>\n",
              "        </tr>\n",
              "    </thead>\n",
              "    <tbody>\n",
              "        <tr>\n",
              "            <td>chocolate</td> <td>light brown</td> <td>4.75 </td>\n",
              "        </tr>\n",
              "        <tr>\n",
              "            <td>chocolate</td> <td>dark brown </td> <td>5.25 </td>\n",
              "        </tr>\n",
              "        <tr>\n",
              "            <td>chocolate</td> <td>dark brown </td> <td>5.25 </td>\n",
              "        </tr>\n",
              "    </tbody>\n",
              "</table>"
            ]
          },
          "metadata": {},
          "execution_count": 32
        }
      ]
    },
    {
      "cell_type": "markdown",
      "metadata": {
        "id": "Ium3_33v8VWT"
      },
      "source": [
        "### A more interesting table"
      ]
    },
    {
      "cell_type": "code",
      "execution_count": 33,
      "metadata": {
        "id": "zuVkfbdv8VWT",
        "colab": {
          "base_uri": "https://localhost:8080/",
          "height": 392
        },
        "outputId": "2be898d6-defe-437a-bbb0-43f81d33a8f0"
      },
      "outputs": [
        {
          "output_type": "execute_result",
          "data": {
            "text/plain": [
              "rank | name             | position | team                   | salary   | season\n",
              "1    | Shaquille O'Neal | C        | Los Angeles Lakers     | 17142000 | 2000\n",
              "2    | Kevin Garnett    | PF       | Minnesota Timberwolves | 16806000 | 2000\n",
              "3    | Alonzo Mourning  | C        | Miami Heat             | 15004000 | 2000\n",
              "4    | Juwan Howard     | PF       | Washington Wizards     | 15000000 | 2000\n",
              "5    | Scottie Pippen   | SF       | Portland Trail Blazers | 14795000 | 2000\n",
              "6    | Karl Malone      | PF       | Utah Jazz              | 14000000 | 2000\n",
              "7    | Larry Johnson    | F        | New York Knicks        | 11910000 | 2000\n",
              "8    | Gary Payton      | PG       | Seattle SuperSonics    | 11020000 | 2000\n",
              "9    | Rasheed Wallace  | PF       | Portland Trail Blazers | 10800000 | 2000\n",
              "10   | Shawn Kemp       | C        | Cleveland Cavaliers    | 10780000 | 2000\n",
              "... (9446 rows omitted)"
            ],
            "text/html": [
              "<table border=\"1\" class=\"dataframe\">\n",
              "    <thead>\n",
              "        <tr>\n",
              "            <th>rank</th> <th>name</th> <th>position</th> <th>team</th> <th>salary</th> <th>season</th>\n",
              "        </tr>\n",
              "    </thead>\n",
              "    <tbody>\n",
              "        <tr>\n",
              "            <td>1   </td> <td>Shaquille O'Neal</td> <td>C       </td> <td>Los Angeles Lakers    </td> <td>17142000</td> <td>2000  </td>\n",
              "        </tr>\n",
              "        <tr>\n",
              "            <td>2   </td> <td>Kevin Garnett   </td> <td>PF      </td> <td>Minnesota Timberwolves</td> <td>16806000</td> <td>2000  </td>\n",
              "        </tr>\n",
              "        <tr>\n",
              "            <td>3   </td> <td>Alonzo Mourning </td> <td>C       </td> <td>Miami Heat            </td> <td>15004000</td> <td>2000  </td>\n",
              "        </tr>\n",
              "        <tr>\n",
              "            <td>4   </td> <td>Juwan Howard    </td> <td>PF      </td> <td>Washington Wizards    </td> <td>15000000</td> <td>2000  </td>\n",
              "        </tr>\n",
              "        <tr>\n",
              "            <td>5   </td> <td>Scottie Pippen  </td> <td>SF      </td> <td>Portland Trail Blazers</td> <td>14795000</td> <td>2000  </td>\n",
              "        </tr>\n",
              "        <tr>\n",
              "            <td>6   </td> <td>Karl Malone     </td> <td>PF      </td> <td>Utah Jazz             </td> <td>14000000</td> <td>2000  </td>\n",
              "        </tr>\n",
              "        <tr>\n",
              "            <td>7   </td> <td>Larry Johnson   </td> <td>F       </td> <td>New York Knicks       </td> <td>11910000</td> <td>2000  </td>\n",
              "        </tr>\n",
              "        <tr>\n",
              "            <td>8   </td> <td>Gary Payton     </td> <td>PG      </td> <td>Seattle SuperSonics   </td> <td>11020000</td> <td>2000  </td>\n",
              "        </tr>\n",
              "        <tr>\n",
              "            <td>9   </td> <td>Rasheed Wallace </td> <td>PF      </td> <td>Portland Trail Blazers</td> <td>10800000</td> <td>2000  </td>\n",
              "        </tr>\n",
              "        <tr>\n",
              "            <td>10  </td> <td>Shawn Kemp      </td> <td>C       </td> <td>Cleveland Cavaliers   </td> <td>10780000</td> <td>2000  </td>\n",
              "        </tr>\n",
              "    </tbody>\n",
              "</table>\n",
              "<p>... (9446 rows omitted)</p>"
            ]
          },
          "metadata": {},
          "execution_count": 33
        }
      ],
      "source": [
        "# From https://github.com/erikgregorywebb/datasets/blob/master/nba-salaries.csv\n",
        "nba = Table.read_table('nba_salaries.csv')\n",
        "nba"
      ]
    },
    {
      "cell_type": "markdown",
      "metadata": {
        "id": "eTzJsV9Z8VWU"
      },
      "source": [
        "**Discussion question**: Create a table of just the point guards in the 2020 season?"
      ]
    },
    {
      "cell_type": "code",
      "execution_count": 34,
      "metadata": {
        "id": "FgGYNCof8VWU",
        "colab": {
          "base_uri": "https://localhost:8080/",
          "height": 392
        },
        "outputId": "19a8a315-ae7f-43b9-e9dd-c75b9379d9a8"
      },
      "outputs": [
        {
          "output_type": "execute_result",
          "data": {
            "text/plain": [
              "rank | name              | position | team                   | salary   | season\n",
              "1    | Stephen Curry     | PG       | Golden State Warriors  | 40231758 | 2020\n",
              "2    | Chris Paul        | PG       | Oklahoma City Thunder  | 38506482 | 2020\n",
              "3    | Russell Westbrook | PG       | Houston Rockets        | 38506482 | 2020\n",
              "4    | John Wall         | PG       | Washington Wizards     | 38199000 | 2020\n",
              "8    | Kyle Lowry        | PG       | Toronto Raptors        | 34996296 | 2020\n",
              "14   | Kemba Walker      | PG       | Boston Celtics         | 32742000 | 2020\n",
              "16   | Mike Conley       | PG       | Utah Jazz              | 32511624 | 2020\n",
              "17   | Kyrie Irving      | PG       | Brooklyn Nets          | 31742000 | 2020\n",
              "21   | Damian Lillard    | PG       | Portland Trail Blazers | 29802321 | 2020\n",
              "52   | Malcolm Brogdon   | PG       | Indiana Pacers         | 20000000 | 2020\n",
              "... (72 rows omitted)"
            ],
            "text/html": [
              "<table border=\"1\" class=\"dataframe\">\n",
              "    <thead>\n",
              "        <tr>\n",
              "            <th>rank</th> <th>name</th> <th>position</th> <th>team</th> <th>salary</th> <th>season</th>\n",
              "        </tr>\n",
              "    </thead>\n",
              "    <tbody>\n",
              "        <tr>\n",
              "            <td>1   </td> <td>Stephen Curry    </td> <td>PG      </td> <td>Golden State Warriors </td> <td>40231758</td> <td>2020  </td>\n",
              "        </tr>\n",
              "        <tr>\n",
              "            <td>2   </td> <td>Chris Paul       </td> <td>PG      </td> <td>Oklahoma City Thunder </td> <td>38506482</td> <td>2020  </td>\n",
              "        </tr>\n",
              "        <tr>\n",
              "            <td>3   </td> <td>Russell Westbrook</td> <td>PG      </td> <td>Houston Rockets       </td> <td>38506482</td> <td>2020  </td>\n",
              "        </tr>\n",
              "        <tr>\n",
              "            <td>4   </td> <td>John Wall        </td> <td>PG      </td> <td>Washington Wizards    </td> <td>38199000</td> <td>2020  </td>\n",
              "        </tr>\n",
              "        <tr>\n",
              "            <td>8   </td> <td>Kyle Lowry       </td> <td>PG      </td> <td>Toronto Raptors       </td> <td>34996296</td> <td>2020  </td>\n",
              "        </tr>\n",
              "        <tr>\n",
              "            <td>14  </td> <td>Kemba Walker     </td> <td>PG      </td> <td>Boston Celtics        </td> <td>32742000</td> <td>2020  </td>\n",
              "        </tr>\n",
              "        <tr>\n",
              "            <td>16  </td> <td>Mike Conley      </td> <td>PG      </td> <td>Utah Jazz             </td> <td>32511624</td> <td>2020  </td>\n",
              "        </tr>\n",
              "        <tr>\n",
              "            <td>17  </td> <td>Kyrie Irving     </td> <td>PG      </td> <td>Brooklyn Nets         </td> <td>31742000</td> <td>2020  </td>\n",
              "        </tr>\n",
              "        <tr>\n",
              "            <td>21  </td> <td>Damian Lillard   </td> <td>PG      </td> <td>Portland Trail Blazers</td> <td>29802321</td> <td>2020  </td>\n",
              "        </tr>\n",
              "        <tr>\n",
              "            <td>52  </td> <td>Malcolm Brogdon  </td> <td>PG      </td> <td>Indiana Pacers        </td> <td>20000000</td> <td>2020  </td>\n",
              "        </tr>\n",
              "    </tbody>\n",
              "</table>\n",
              "<p>... (72 rows omitted)</p>"
            ]
          },
          "metadata": {},
          "execution_count": 34
        }
      ],
      "source": [
        "# 이런식으로 where문을 두번 사용해서 데이터를 뽑을 수도 있음\n",
        "point_guards = nba.where('position', 'PG').where('season', 2020)\n",
        "point_guards"
      ]
    },
    {
      "cell_type": "code",
      "execution_count": null,
      "metadata": {
        "id": "Zh75fMGE8VWU"
      },
      "outputs": [],
      "source": []
    }
  ],
  "metadata": {
    "anaconda-cloud": {},
    "kernelspec": {
      "display_name": "Python 3",
      "language": "python",
      "name": "python3"
    },
    "language_info": {
      "codemirror_mode": {
        "name": "ipython",
        "version": 3
      },
      "file_extension": ".py",
      "mimetype": "text/x-python",
      "name": "python",
      "nbconvert_exporter": "python",
      "pygments_lexer": "ipython3",
      "version": "3.8.5"
    },
    "colab": {
      "provenance": [],
      "collapsed_sections": [
        "5Cw8dI2T8VWJ",
        "RHKXkxIq8VWN",
        "SjqcAeh98VWO",
        "PC24nGAp8VWS"
      ]
    }
  },
  "nbformat": 4,
  "nbformat_minor": 0
}
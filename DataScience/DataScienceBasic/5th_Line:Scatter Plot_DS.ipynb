{
  "cells": [
    {
      "cell_type": "markdown",
      "source": [
        "# Lecture 05의 데모\n",
        "\n",
        "### Lecture 05의 데모에 대한 코드\n",
        "\n",
        "참고자료: \n",
        "\n",
        "https://github.com/data-8/materials-sp22/blob/main/lec/lec06.ipynb\n",
        "\n",
        "https://github.com/data-8/materials-sp22/blob/main/lec/lec07.ipynb"
      ],
      "metadata": {
        "id": "k_5WHxS4bDgg"
      }
    },
    {
      "cell_type": "code",
      "source": [
        "import os\n",
        "from google.colab import drive\n",
        "\n",
        "drive.mount('/content/gdrive')\n",
        "\n",
        "%cd /content/gdrive/MyDrive/ITEC419-fa22/lec"
      ],
      "metadata": {
        "id": "HJsP9gm9c6fs",
        "colab": {
          "base_uri": "https://localhost:8080/"
        },
        "outputId": "ad85d8a3-b298-4415-ebe7-c091472c710c"
      },
      "execution_count": null,
      "outputs": [
        {
          "output_type": "stream",
          "name": "stdout",
          "text": [
            "Mounted at /content/gdrive\n",
            "/content/gdrive/MyDrive/ITEC419-fa22/lec\n"
          ]
        }
      ]
    },
    {
      "cell_type": "code",
      "execution_count": null,
      "metadata": {
        "id": "kYA_rysSasQp"
      },
      "outputs": [],
      "source": [
        "from datascience import *\n",
        "import numpy as np\n",
        "\n",
        "%matplotlib inline\n",
        "import matplotlib.pyplot as plots\n",
        "plots.style.use('fivethirtyeight')\n",
        "plots.rcParams[\"patch.force_edgecolor\"] = True"
      ]
    },
    {
      "cell_type": "markdown",
      "source": [
        "## **Census**"
      ],
      "metadata": {
        "id": "JGJVo6VFvCIh"
      }
    },
    {
      "cell_type": "code",
      "source": [
        "full = Table.read_table('nc-est2019-agesex-res.csv')"
      ],
      "metadata": {
        "id": "Klmg6ZbYjNRY"
      },
      "execution_count": null,
      "outputs": []
    },
    {
      "cell_type": "code",
      "source": [
        "# Keep only the columns we care about\n",
        "partial = full.select('SEX', 'AGE', 'POPESTIMATE2014', 'POPESTIMATE2019')"
      ],
      "metadata": {
        "id": "rear2JSKvE6F"
      },
      "execution_count": null,
      "outputs": []
    },
    {
      "cell_type": "code",
      "source": [
        "# Make things easier to read\n",
        "# relabeled 한번 이상 사용 가능\n",
        "us_pop = partial.relabeled(2, '2014').relabeled(3, '2019')"
      ],
      "metadata": {
        "id": "CzoVSfG2vosS"
      },
      "execution_count": null,
      "outputs": []
    },
    {
      "cell_type": "code",
      "source": [
        "us_pop.where('AGE',are.above_or_equal_to(80)).sort('AGE')"
      ],
      "metadata": {
        "id": "ZSncLhctjhfb",
        "colab": {
          "base_uri": "https://localhost:8080/",
          "height": 392
        },
        "outputId": "1f56e8f1-1ab2-423e-ad9e-f3a7dcdbdf85"
      },
      "execution_count": null,
      "outputs": [
        {
          "output_type": "execute_result",
          "data": {
            "text/plain": [
              "SEX  | AGE  | 2014    | 2019\n",
              "0    | 80   | 1263540 | 1475278\n",
              "1    | 80   | 539342  | 643638\n",
              "2    | 80   | 724198  | 831640\n",
              "0    | 81   | 1215634 | 1381641\n",
              "1    | 81   | 510456  | 593628\n",
              "2    | 81   | 705178  | 788013\n",
              "0    | 82   | 1152926 | 1241341\n",
              "1    | 82   | 476098  | 525766\n",
              "2    | 82   | 676828  | 715575\n",
              "0    | 83   | 1089054 | 1151190\n",
              "... (56 rows omitted)"
            ],
            "text/html": [
              "<table border=\"1\" class=\"dataframe\">\n",
              "    <thead>\n",
              "        <tr>\n",
              "            <th>SEX</th> <th>AGE</th> <th>2014</th> <th>2019</th>\n",
              "        </tr>\n",
              "    </thead>\n",
              "    <tbody>\n",
              "        <tr>\n",
              "            <td>0   </td> <td>80  </td> <td>1263540</td> <td>1475278</td>\n",
              "        </tr>\n",
              "        <tr>\n",
              "            <td>1   </td> <td>80  </td> <td>539342 </td> <td>643638 </td>\n",
              "        </tr>\n",
              "        <tr>\n",
              "            <td>2   </td> <td>80  </td> <td>724198 </td> <td>831640 </td>\n",
              "        </tr>\n",
              "        <tr>\n",
              "            <td>0   </td> <td>81  </td> <td>1215634</td> <td>1381641</td>\n",
              "        </tr>\n",
              "        <tr>\n",
              "            <td>1   </td> <td>81  </td> <td>510456 </td> <td>593628 </td>\n",
              "        </tr>\n",
              "        <tr>\n",
              "            <td>2   </td> <td>81  </td> <td>705178 </td> <td>788013 </td>\n",
              "        </tr>\n",
              "        <tr>\n",
              "            <td>0   </td> <td>82  </td> <td>1152926</td> <td>1241341</td>\n",
              "        </tr>\n",
              "        <tr>\n",
              "            <td>1   </td> <td>82  </td> <td>476098 </td> <td>525766 </td>\n",
              "        </tr>\n",
              "        <tr>\n",
              "            <td>2   </td> <td>82  </td> <td>676828 </td> <td>715575 </td>\n",
              "        </tr>\n",
              "        <tr>\n",
              "            <td>0   </td> <td>83  </td> <td>1089054</td> <td>1151190</td>\n",
              "        </tr>\n",
              "    </tbody>\n",
              "</table>\n",
              "<p>... (56 rows omitted)</p>"
            ]
          },
          "metadata": {},
          "execution_count": 6
        }
      ]
    },
    {
      "cell_type": "code",
      "source": [
        "us_pop.where('AGE',are.above_or_equal_to(99)).sort('AGE')"
      ],
      "metadata": {
        "id": "2Y8P9QG2jic1",
        "colab": {
          "base_uri": "https://localhost:8080/",
          "height": 332
        },
        "outputId": "23c65cd6-28b6-4af5-93b5-b19e772a16de"
      },
      "execution_count": null,
      "outputs": [
        {
          "output_type": "execute_result",
          "data": {
            "text/plain": [
              "SEX  | AGE  | 2014      | 2019\n",
              "0    | 99   | 41277     | 57124\n",
              "1    | 99   | 9032      | 14596\n",
              "2    | 99   | 32245     | 42528\n",
              "0    | 100  | 70685     | 100322\n",
              "1    | 100  | 13577     | 23472\n",
              "2    | 100  | 57108     | 76850\n",
              "0    | 999  | 318301008 | 328239523\n",
              "1    | 999  | 156654424 | 161657324\n",
              "2    | 999  | 161646584 | 166582199"
            ],
            "text/html": [
              "<table border=\"1\" class=\"dataframe\">\n",
              "    <thead>\n",
              "        <tr>\n",
              "            <th>SEX</th> <th>AGE</th> <th>2014</th> <th>2019</th>\n",
              "        </tr>\n",
              "    </thead>\n",
              "    <tbody>\n",
              "        <tr>\n",
              "            <td>0   </td> <td>99  </td> <td>41277    </td> <td>57124    </td>\n",
              "        </tr>\n",
              "        <tr>\n",
              "            <td>1   </td> <td>99  </td> <td>9032     </td> <td>14596    </td>\n",
              "        </tr>\n",
              "        <tr>\n",
              "            <td>2   </td> <td>99  </td> <td>32245    </td> <td>42528    </td>\n",
              "        </tr>\n",
              "        <tr>\n",
              "            <td>0   </td> <td>100 </td> <td>70685    </td> <td>100322   </td>\n",
              "        </tr>\n",
              "        <tr>\n",
              "            <td>1   </td> <td>100 </td> <td>13577    </td> <td>23472    </td>\n",
              "        </tr>\n",
              "        <tr>\n",
              "            <td>2   </td> <td>100 </td> <td>57108    </td> <td>76850    </td>\n",
              "        </tr>\n",
              "        <tr>\n",
              "            <td>0   </td> <td>999 </td> <td>318301008</td> <td>328239523</td>\n",
              "        </tr>\n",
              "        <tr>\n",
              "            <td>1   </td> <td>999 </td> <td>156654424</td> <td>161657324</td>\n",
              "        </tr>\n",
              "        <tr>\n",
              "            <td>2   </td> <td>999 </td> <td>161646584</td> <td>166582199</td>\n",
              "        </tr>\n",
              "    </tbody>\n",
              "</table>"
            ]
          },
          "metadata": {},
          "execution_count": 7
        }
      ]
    },
    {
      "cell_type": "markdown",
      "source": [
        "## **Census (Recall)**"
      ],
      "metadata": {
        "id": "3oGjT_BhFOda"
      }
    },
    {
      "cell_type": "code",
      "source": [
        "full = Table.read_table('nc-est2019-agesex-res.csv')"
      ],
      "metadata": {
        "id": "kejpDRPFFN2U"
      },
      "execution_count": null,
      "outputs": []
    },
    {
      "cell_type": "code",
      "source": [
        "# 특정 열만 뽑아오기\n",
        "partial = full.select('SEX', 'AGE', 'POPESTIMATE2014', 'POPESTIMATE2019')\n",
        "partial"
      ],
      "metadata": {
        "colab": {
          "base_uri": "https://localhost:8080/",
          "height": 392
        },
        "id": "1yUsHL_fFZj-",
        "outputId": "1fb3e2d4-40bf-4ffc-81a0-1583aecfdae6"
      },
      "execution_count": null,
      "outputs": [
        {
          "output_type": "execute_result",
          "data": {
            "text/plain": [
              "SEX  | AGE  | POPESTIMATE2014 | POPESTIMATE2019\n",
              "0    | 0    | 3954787         | 3783052\n",
              "0    | 1    | 3948891         | 3829599\n",
              "0    | 2    | 3958711         | 3922044\n",
              "0    | 3    | 4005928         | 3998665\n",
              "0    | 4    | 4004032         | 4043323\n",
              "0    | 5    | 4004576         | 4028281\n",
              "0    | 6    | 4133372         | 4017227\n",
              "0    | 7    | 4152666         | 4022319\n",
              "0    | 8    | 4118349         | 4066194\n",
              "0    | 9    | 4106068         | 4061874\n",
              "... (296 rows omitted)"
            ],
            "text/html": [
              "<table border=\"1\" class=\"dataframe\">\n",
              "    <thead>\n",
              "        <tr>\n",
              "            <th>SEX</th> <th>AGE</th> <th>POPESTIMATE2014</th> <th>POPESTIMATE2019</th>\n",
              "        </tr>\n",
              "    </thead>\n",
              "    <tbody>\n",
              "        <tr>\n",
              "            <td>0   </td> <td>0   </td> <td>3954787        </td> <td>3783052        </td>\n",
              "        </tr>\n",
              "        <tr>\n",
              "            <td>0   </td> <td>1   </td> <td>3948891        </td> <td>3829599        </td>\n",
              "        </tr>\n",
              "        <tr>\n",
              "            <td>0   </td> <td>2   </td> <td>3958711        </td> <td>3922044        </td>\n",
              "        </tr>\n",
              "        <tr>\n",
              "            <td>0   </td> <td>3   </td> <td>4005928        </td> <td>3998665        </td>\n",
              "        </tr>\n",
              "        <tr>\n",
              "            <td>0   </td> <td>4   </td> <td>4004032        </td> <td>4043323        </td>\n",
              "        </tr>\n",
              "        <tr>\n",
              "            <td>0   </td> <td>5   </td> <td>4004576        </td> <td>4028281        </td>\n",
              "        </tr>\n",
              "        <tr>\n",
              "            <td>0   </td> <td>6   </td> <td>4133372        </td> <td>4017227        </td>\n",
              "        </tr>\n",
              "        <tr>\n",
              "            <td>0   </td> <td>7   </td> <td>4152666        </td> <td>4022319        </td>\n",
              "        </tr>\n",
              "        <tr>\n",
              "            <td>0   </td> <td>8   </td> <td>4118349        </td> <td>4066194        </td>\n",
              "        </tr>\n",
              "        <tr>\n",
              "            <td>0   </td> <td>9   </td> <td>4106068        </td> <td>4061874        </td>\n",
              "        </tr>\n",
              "    </tbody>\n",
              "</table>\n",
              "<p>... (296 rows omitted)</p>"
            ]
          },
          "metadata": {},
          "execution_count": 10
        }
      ]
    },
    {
      "cell_type": "code",
      "source": [
        "# relabeled는 특정 열의 label를 바꿔준다.\n",
        "simple = partial.relabeled(2, '2014').relabeled(3, '2019')\n",
        "simple"
      ],
      "metadata": {
        "colab": {
          "base_uri": "https://localhost:8080/",
          "height": 392
        },
        "id": "pojHoCQgFqyv",
        "outputId": "95c93b87-74c9-4a05-d7e5-31ebdd34a112"
      },
      "execution_count": null,
      "outputs": [
        {
          "output_type": "execute_result",
          "data": {
            "text/plain": [
              "SEX  | AGE  | 2014    | 2019\n",
              "0    | 0    | 3954787 | 3783052\n",
              "0    | 1    | 3948891 | 3829599\n",
              "0    | 2    | 3958711 | 3922044\n",
              "0    | 3    | 4005928 | 3998665\n",
              "0    | 4    | 4004032 | 4043323\n",
              "0    | 5    | 4004576 | 4028281\n",
              "0    | 6    | 4133372 | 4017227\n",
              "0    | 7    | 4152666 | 4022319\n",
              "0    | 8    | 4118349 | 4066194\n",
              "0    | 9    | 4106068 | 4061874\n",
              "... (296 rows omitted)"
            ],
            "text/html": [
              "<table border=\"1\" class=\"dataframe\">\n",
              "    <thead>\n",
              "        <tr>\n",
              "            <th>SEX</th> <th>AGE</th> <th>2014</th> <th>2019</th>\n",
              "        </tr>\n",
              "    </thead>\n",
              "    <tbody>\n",
              "        <tr>\n",
              "            <td>0   </td> <td>0   </td> <td>3954787</td> <td>3783052</td>\n",
              "        </tr>\n",
              "        <tr>\n",
              "            <td>0   </td> <td>1   </td> <td>3948891</td> <td>3829599</td>\n",
              "        </tr>\n",
              "        <tr>\n",
              "            <td>0   </td> <td>2   </td> <td>3958711</td> <td>3922044</td>\n",
              "        </tr>\n",
              "        <tr>\n",
              "            <td>0   </td> <td>3   </td> <td>4005928</td> <td>3998665</td>\n",
              "        </tr>\n",
              "        <tr>\n",
              "            <td>0   </td> <td>4   </td> <td>4004032</td> <td>4043323</td>\n",
              "        </tr>\n",
              "        <tr>\n",
              "            <td>0   </td> <td>5   </td> <td>4004576</td> <td>4028281</td>\n",
              "        </tr>\n",
              "        <tr>\n",
              "            <td>0   </td> <td>6   </td> <td>4133372</td> <td>4017227</td>\n",
              "        </tr>\n",
              "        <tr>\n",
              "            <td>0   </td> <td>7   </td> <td>4152666</td> <td>4022319</td>\n",
              "        </tr>\n",
              "        <tr>\n",
              "            <td>0   </td> <td>8   </td> <td>4118349</td> <td>4066194</td>\n",
              "        </tr>\n",
              "        <tr>\n",
              "            <td>0   </td> <td>9   </td> <td>4106068</td> <td>4061874</td>\n",
              "        </tr>\n",
              "    </tbody>\n",
              "</table>\n",
              "<p>... (296 rows omitted)</p>"
            ]
          },
          "metadata": {},
          "execution_count": 11
        }
      ]
    },
    {
      "cell_type": "markdown",
      "source": [
        "## **Line Plots**"
      ],
      "metadata": {
        "id": "7Lnf93YF_W8T"
      }
    },
    {
      "cell_type": "code",
      "source": [
        "no_999 = simple.where('AGE', are.below(999))\n",
        "no_999"
      ],
      "metadata": {
        "id": "I7IZ84YjtXhU",
        "colab": {
          "base_uri": "https://localhost:8080/",
          "height": 392
        },
        "outputId": "9b00a578-e276-45d1-969d-3f1e676a93c1"
      },
      "execution_count": null,
      "outputs": [
        {
          "output_type": "execute_result",
          "data": {
            "text/plain": [
              "SEX  | AGE  | 2014    | 2019\n",
              "0    | 0    | 3954787 | 3783052\n",
              "0    | 1    | 3948891 | 3829599\n",
              "0    | 2    | 3958711 | 3922044\n",
              "0    | 3    | 4005928 | 3998665\n",
              "0    | 4    | 4004032 | 4043323\n",
              "0    | 5    | 4004576 | 4028281\n",
              "0    | 6    | 4133372 | 4017227\n",
              "0    | 7    | 4152666 | 4022319\n",
              "0    | 8    | 4118349 | 4066194\n",
              "0    | 9    | 4106068 | 4061874\n",
              "... (293 rows omitted)"
            ],
            "text/html": [
              "<table border=\"1\" class=\"dataframe\">\n",
              "    <thead>\n",
              "        <tr>\n",
              "            <th>SEX</th> <th>AGE</th> <th>2014</th> <th>2019</th>\n",
              "        </tr>\n",
              "    </thead>\n",
              "    <tbody>\n",
              "        <tr>\n",
              "            <td>0   </td> <td>0   </td> <td>3954787</td> <td>3783052</td>\n",
              "        </tr>\n",
              "        <tr>\n",
              "            <td>0   </td> <td>1   </td> <td>3948891</td> <td>3829599</td>\n",
              "        </tr>\n",
              "        <tr>\n",
              "            <td>0   </td> <td>2   </td> <td>3958711</td> <td>3922044</td>\n",
              "        </tr>\n",
              "        <tr>\n",
              "            <td>0   </td> <td>3   </td> <td>4005928</td> <td>3998665</td>\n",
              "        </tr>\n",
              "        <tr>\n",
              "            <td>0   </td> <td>4   </td> <td>4004032</td> <td>4043323</td>\n",
              "        </tr>\n",
              "        <tr>\n",
              "            <td>0   </td> <td>5   </td> <td>4004576</td> <td>4028281</td>\n",
              "        </tr>\n",
              "        <tr>\n",
              "            <td>0   </td> <td>6   </td> <td>4133372</td> <td>4017227</td>\n",
              "        </tr>\n",
              "        <tr>\n",
              "            <td>0   </td> <td>7   </td> <td>4152666</td> <td>4022319</td>\n",
              "        </tr>\n",
              "        <tr>\n",
              "            <td>0   </td> <td>8   </td> <td>4118349</td> <td>4066194</td>\n",
              "        </tr>\n",
              "        <tr>\n",
              "            <td>0   </td> <td>9   </td> <td>4106068</td> <td>4061874</td>\n",
              "        </tr>\n",
              "    </tbody>\n",
              "</table>\n",
              "<p>... (293 rows omitted)</p>"
            ]
          },
          "metadata": {},
          "execution_count": 13
        }
      ]
    },
    {
      "cell_type": "code",
      "source": [
        "overall = no_999.where('SEX', 0).drop('SEX')\n",
        "\n",
        "# visualization\n",
        "overall.plot('AGE', '2019') # x가 불연속 값들이라도 점들을 이어준다."
      ],
      "metadata": {
        "id": "7GOZXJ3ZtXNc",
        "colab": {
          "base_uri": "https://localhost:8080/",
          "height": 431
        },
        "outputId": "5f190330-37a2-4715-c2bb-ee031e24bd1a"
      },
      "execution_count": null,
      "outputs": [
        {
          "output_type": "display_data",
          "data": {
            "text/plain": [
              "<Figure size 432x432 with 1 Axes>"
            ],
            "image/png": "[encoded data removed]"
          },
          "metadata": {}
        }
      ]
    },
    {
      "cell_type": "code",
      "source": [
        "overall.plot('AGE','2019')\n",
        "print('US Population')"
      ],
      "metadata": {
        "id": "boDCfotNtXDa",
        "colab": {
          "base_uri": "https://localhost:8080/",
          "height": 449
        },
        "outputId": "2fdcef5d-0548-4639-b08c-3da9e77eb493"
      },
      "execution_count": null,
      "outputs": [
        {
          "output_type": "stream",
          "name": "stdout",
          "text": [
            "US Population\n"
          ]
        },
        {
          "output_type": "display_data",
          "data": {
            "text/plain": [
              "<Figure size 432x432 with 1 Axes>"
            ],
            "image/png": "[encoded data removed]"
          },
          "metadata": {}
        }
      ]
    },
    {
      "cell_type": "code",
      "source": [
        "# import mathplotlib.pyplot as plots\n",
        "overall.plot('AGE', '2019')\n",
        "plots.title('US Population')"
      ],
      "metadata": {
        "id": "QxHbnTgUtW7W",
        "colab": {
          "base_uri": "https://localhost:8080/",
          "height": 456
        },
        "outputId": "470ad82c-2514-4f36-dc18-9e90adcd367d"
      },
      "execution_count": null,
      "outputs": [
        {
          "output_type": "execute_result",
          "data": {
            "text/plain": [
              "Text(0.5, 1.0, 'US Population')"
            ]
          },
          "metadata": {},
          "execution_count": 19
        },
        {
          "output_type": "display_data",
          "data": {
            "text/plain": [
              "<Figure size 432x432 with 1 Axes>"
            ],
            "image/png": "[encoded data removed]"
          },
          "metadata": {}
        }
      ]
    },
    {
      "cell_type": "markdown",
      "source": [
        "## **Males vs Females**"
      ],
      "metadata": {
        "id": "zLeoRT7aCQRT"
      }
    },
    {
      "cell_type": "code",
      "source": [
        "# Let's compare male and female counts per age\n",
        "males = no_999.where('SEX', 1).drop('SEX')\n",
        "females = no_999.where('SEX', 2).drop('SEX')"
      ],
      "metadata": {
        "id": "0nCZrFE5CTSB"
      },
      "execution_count": null,
      "outputs": []
    },
    {
      "cell_type": "code",
      "source": [
        "pop_2019 = Table().with_columns(\n",
        "    'Age', males.column('AGE'),\n",
        "    'Males', males.column('2019'),\n",
        "    'Females', females.column('2019')\n",
        ")\n",
        "pop_2019"
      ],
      "metadata": {
        "id": "OuGWChOjtd5j",
        "colab": {
          "base_uri": "https://localhost:8080/",
          "height": 392
        },
        "outputId": "d037d1d9-f8a0-4a78-a187-13e61ce8e53b"
      },
      "execution_count": null,
      "outputs": [
        {
          "output_type": "execute_result",
          "data": {
            "text/plain": [
              "Age  | Males   | Females\n",
              "0    | 1935117 | 1847935\n",
              "1    | 1958585 | 1871014\n",
              "2    | 2005544 | 1916500\n",
              "3    | 2043010 | 1955655\n",
              "4    | 2066951 | 1976372\n",
              "5    | 2061200 | 1967081\n",
              "6    | 2052956 | 1964271\n",
              "7    | 2055735 | 1966584\n",
              "8    | 2079723 | 1986471\n",
              "9    | 2073148 | 1988726\n",
              "... (91 rows omitted)"
            ],
            "text/html": [
              "<table border=\"1\" class=\"dataframe\">\n",
              "    <thead>\n",
              "        <tr>\n",
              "            <th>Age</th> <th>Males</th> <th>Females</th>\n",
              "        </tr>\n",
              "    </thead>\n",
              "    <tbody>\n",
              "        <tr>\n",
              "            <td>0   </td> <td>1935117</td> <td>1847935</td>\n",
              "        </tr>\n",
              "        <tr>\n",
              "            <td>1   </td> <td>1958585</td> <td>1871014</td>\n",
              "        </tr>\n",
              "        <tr>\n",
              "            <td>2   </td> <td>2005544</td> <td>1916500</td>\n",
              "        </tr>\n",
              "        <tr>\n",
              "            <td>3   </td> <td>2043010</td> <td>1955655</td>\n",
              "        </tr>\n",
              "        <tr>\n",
              "            <td>4   </td> <td>2066951</td> <td>1976372</td>\n",
              "        </tr>\n",
              "        <tr>\n",
              "            <td>5   </td> <td>2061200</td> <td>1967081</td>\n",
              "        </tr>\n",
              "        <tr>\n",
              "            <td>6   </td> <td>2052956</td> <td>1964271</td>\n",
              "        </tr>\n",
              "        <tr>\n",
              "            <td>7   </td> <td>2055735</td> <td>1966584</td>\n",
              "        </tr>\n",
              "        <tr>\n",
              "            <td>8   </td> <td>2079723</td> <td>1986471</td>\n",
              "        </tr>\n",
              "        <tr>\n",
              "            <td>9   </td> <td>2073148</td> <td>1988726</td>\n",
              "        </tr>\n",
              "    </tbody>\n",
              "</table>\n",
              "<p>... (91 rows omitted)</p>"
            ]
          },
          "metadata": {},
          "execution_count": 21
        }
      ]
    },
    {
      "cell_type": "code",
      "source": [
        "# Age를 x축으로 하고 나머지 그래프를 그려준다.\n",
        "# pop_2019.plot -> 먼저해보기\n",
        "pop_2019.plot('Age') # 괄호 안에 label을 x축으로 취급하고 나머지를 y로 자동 취급"
      ],
      "metadata": {
        "id": "XQXDwlkxtd29",
        "colab": {
          "base_uri": "https://localhost:8080/",
          "height": 434
        },
        "outputId": "22abab3d-b033-4f25-cd08-073645e9a69f"
      },
      "execution_count": null,
      "outputs": [
        {
          "output_type": "display_data",
          "data": {
            "text/plain": [
              "<Figure size 432x432 with 1 Axes>"
            ],
            "image/png": "[encoded data removed]"
          },
          "metadata": {}
        }
      ]
    },
    {
      "cell_type": "code",
      "source": [
        "# Calculate the percent female for each age\n",
        "# males와 females에 해당하는 값들을 들고와서 더한다.\n",
        "total = pop_2019.column('Males') + pop_2019.column('Females')\n",
        "pct_female = pop_2019.column('Females') / total * 100\n",
        "pct_female"
      ],
      "metadata": {
        "id": "12A-7ftStdz3",
        "colab": {
          "base_uri": "https://localhost:8080/"
        },
        "outputId": "62aeebed-4436-41ed-ff2e-d3905a558a5d"
      },
      "execution_count": null,
      "outputs": [
        {
          "output_type": "execute_result",
          "data": {
            "text/plain": [
              "array([ 48.84772929,  48.85665575,  48.86482661,  48.90769794,\n",
              "        48.87989409,  48.83177216,  48.89619133,  48.891796  ,\n",
              "        48.85332574,  48.96079987,  48.98279709,  48.9638626 ,\n",
              "        48.91584353,  48.91319525,  48.95759569,  48.99435008,\n",
              "        49.0132324 ,  49.00202176,  48.95504446,  48.85543937,\n",
              "        48.86882703,  48.87982978,  48.93202059,  48.82680386,\n",
              "        48.75770556,  48.75912579,  48.69284051,  48.8521968 ,\n",
              "        49.12023409,  49.23570746,  49.27026013,  49.32986637,\n",
              "        49.3410954 ,  49.39558621,  49.56983336,  49.77550276,\n",
              "        49.88230838,  49.98809984,  50.07964091,  49.90289454,\n",
              "        50.14599374,  50.21453868,  50.37201166,  50.35627549,\n",
              "        50.26558532,  50.48105622,  50.6527532 ,  50.58644103,\n",
              "        50.62378332,  50.44245948,  50.55924807,  50.63152682,\n",
              "        50.80644073,  50.81350976,  50.89171017,  51.13603295,\n",
              "        51.27000222,  51.3678543 ,  51.52798838,  51.46621264,\n",
              "        51.73196183,  51.88924675,  52.0955001 ,  52.30730655,\n",
              "        52.43632704,  52.7518302 ,  52.90614966,  53.01219217,\n",
              "        53.24642988,  53.25131448,  53.38673971,  53.44342011,\n",
              "        53.51884397,  53.96008367,  54.26079774,  54.58325259,\n",
              "        54.83740042,  55.26879898,  55.82505287,  56.16506939,\n",
              "        56.37174824,  57.03456976,  57.64532067,  58.28968285,\n",
              "        59.11738345,  59.77286992,  60.62480885,  61.50518087,\n",
              "        62.42365712,  63.41893324,  64.35435374,  65.54994734,\n",
              "        66.5833475 ,  67.7618966 ,  69.01243771,  70.06364506,\n",
              "        70.7575748 ,  72.11996341,  72.67208358,  74.44856803,  76.60333725])"
            ]
          },
          "metadata": {},
          "execution_count": 24
        }
      ]
    },
    {
      "cell_type": "code",
      "source": [
        "# Round it to 3 so that it's easier to read\n",
        "pct_female = np.round(pct_female, 3)\n",
        "pct_female"
      ],
      "metadata": {
        "id": "uxVc2QCutdAi",
        "colab": {
          "base_uri": "https://localhost:8080/"
        },
        "outputId": "c0a798f1-5566-441a-f8cd-ea350fce5270"
      },
      "execution_count": null,
      "outputs": [
        {
          "output_type": "execute_result",
          "data": {
            "text/plain": [
              "array([ 48.848,  48.857,  48.865,  48.908,  48.88 ,  48.832,  48.896,\n",
              "        48.892,  48.853,  48.961,  48.983,  48.964,  48.916,  48.913,\n",
              "        48.958,  48.994,  49.013,  49.002,  48.955,  48.855,  48.869,\n",
              "        48.88 ,  48.932,  48.827,  48.758,  48.759,  48.693,  48.852,\n",
              "        49.12 ,  49.236,  49.27 ,  49.33 ,  49.341,  49.396,  49.57 ,\n",
              "        49.776,  49.882,  49.988,  50.08 ,  49.903,  50.146,  50.215,\n",
              "        50.372,  50.356,  50.266,  50.481,  50.653,  50.586,  50.624,\n",
              "        50.442,  50.559,  50.632,  50.806,  50.814,  50.892,  51.136,\n",
              "        51.27 ,  51.368,  51.528,  51.466,  51.732,  51.889,  52.096,\n",
              "        52.307,  52.436,  52.752,  52.906,  53.012,  53.246,  53.251,\n",
              "        53.387,  53.443,  53.519,  53.96 ,  54.261,  54.583,  54.837,\n",
              "        55.269,  55.825,  56.165,  56.372,  57.035,  57.645,  58.29 ,\n",
              "        59.117,  59.773,  60.625,  61.505,  62.424,  63.419,  64.354,\n",
              "        65.55 ,  66.583,  67.762,  69.012,  70.064,  70.758,  72.12 ,\n",
              "        72.672,  74.449,  76.603])"
            ]
          },
          "metadata": {},
          "execution_count": 25
        }
      ]
    },
    {
      "cell_type": "code",
      "source": [
        "# Add female percent to our table\n",
        "pop_2019 = pop_2019.with_column('Percent female', pct_female)\n",
        "pop_2019"
      ],
      "metadata": {
        "id": "vPhtfwMTtc7l",
        "colab": {
          "base_uri": "https://localhost:8080/",
          "height": 392
        },
        "outputId": "2578a550-4071-4901-bed0-64f15decb272"
      },
      "execution_count": null,
      "outputs": [
        {
          "output_type": "execute_result",
          "data": {
            "text/plain": [
              "Age  | Males   | Females | Percent female\n",
              "0    | 1935117 | 1847935 | 48.848\n",
              "1    | 1958585 | 1871014 | 48.857\n",
              "2    | 2005544 | 1916500 | 48.865\n",
              "3    | 2043010 | 1955655 | 48.908\n",
              "4    | 2066951 | 1976372 | 48.88\n",
              "5    | 2061200 | 1967081 | 48.832\n",
              "6    | 2052956 | 1964271 | 48.896\n",
              "7    | 2055735 | 1966584 | 48.892\n",
              "8    | 2079723 | 1986471 | 48.853\n",
              "9    | 2073148 | 1988726 | 48.961\n",
              "... (91 rows omitted)"
            ],
            "text/html": [
              "<table border=\"1\" class=\"dataframe\">\n",
              "    <thead>\n",
              "        <tr>\n",
              "            <th>Age</th> <th>Males</th> <th>Females</th> <th>Percent female</th>\n",
              "        </tr>\n",
              "    </thead>\n",
              "    <tbody>\n",
              "        <tr>\n",
              "            <td>0   </td> <td>1935117</td> <td>1847935</td> <td>48.848        </td>\n",
              "        </tr>\n",
              "        <tr>\n",
              "            <td>1   </td> <td>1958585</td> <td>1871014</td> <td>48.857        </td>\n",
              "        </tr>\n",
              "        <tr>\n",
              "            <td>2   </td> <td>2005544</td> <td>1916500</td> <td>48.865        </td>\n",
              "        </tr>\n",
              "        <tr>\n",
              "            <td>3   </td> <td>2043010</td> <td>1955655</td> <td>48.908        </td>\n",
              "        </tr>\n",
              "        <tr>\n",
              "            <td>4   </td> <td>2066951</td> <td>1976372</td> <td>48.88         </td>\n",
              "        </tr>\n",
              "        <tr>\n",
              "            <td>5   </td> <td>2061200</td> <td>1967081</td> <td>48.832        </td>\n",
              "        </tr>\n",
              "        <tr>\n",
              "            <td>6   </td> <td>2052956</td> <td>1964271</td> <td>48.896        </td>\n",
              "        </tr>\n",
              "        <tr>\n",
              "            <td>7   </td> <td>2055735</td> <td>1966584</td> <td>48.892        </td>\n",
              "        </tr>\n",
              "        <tr>\n",
              "            <td>8   </td> <td>2079723</td> <td>1986471</td> <td>48.853        </td>\n",
              "        </tr>\n",
              "        <tr>\n",
              "            <td>9   </td> <td>2073148</td> <td>1988726</td> <td>48.961        </td>\n",
              "        </tr>\n",
              "    </tbody>\n",
              "</table>\n",
              "<p>... (91 rows omitted)</p>"
            ]
          },
          "metadata": {},
          "execution_count": 26
        }
      ]
    },
    {
      "cell_type": "code",
      "source": [
        "pop_2019.plot('Age', 'Percent female')"
      ],
      "metadata": {
        "id": "1R8ngdZatc38",
        "colab": {
          "base_uri": "https://localhost:8080/",
          "height": 417
        },
        "outputId": "00c740a9-2f8b-49be-bbf4-7e7af4f40805"
      },
      "execution_count": null,
      "outputs": [
        {
          "output_type": "display_data",
          "data": {
            "text/plain": [
              "<Figure size 432x432 with 1 Axes>"
            ],
            "image/png": "[encoded data removed]"
          },
          "metadata": {}
        }
      ]
    },
    {
      "cell_type": "code",
      "source": [
        "# ^^ Look at the y-axis! Trend is not as dramatic as you might think\n",
        "# y축에 한계를 둠으로써 그래프의 왜곡을 줄여준다.\n",
        "# mathlib.pyplot 안에 있는 ylim이라는 것은 y축의 범위를 제한한다.\n",
        "\n",
        "pop_2019.plot('Age', 'Percent female')\n",
        "plots.ylim(0, 100);  # 0에서 100까지의 데이터로 제한"
      ],
      "metadata": {
        "id": "jtFSFpyMtc0j",
        "colab": {
          "base_uri": "https://localhost:8080/",
          "height": 423
        },
        "outputId": "777e718e-d202-49a0-fdd6-3fbc81aedcdc"
      },
      "execution_count": null,
      "outputs": [
        {
          "output_type": "display_data",
          "data": {
            "text/plain": [
              "<Figure size 432x432 with 1 Axes>"
            ],
            "image/png": "[encoded data removed]"
          },
          "metadata": {}
        }
      ]
    },
    {
      "cell_type": "markdown",
      "source": [
        "## **Scatter Plots**"
      ],
      "metadata": {
        "id": "o5X5xy2WEnnF"
      }
    },
    {
      "cell_type": "code",
      "source": [
        "# Actors and their highest grossing movies\n",
        "# 배우의 이름과 수익에 대한 정보를 기록\n",
        "actors = Table.read_table('actors.csv')\n",
        "actors"
      ],
      "metadata": {
        "id": "ufkgLKKuEnOS",
        "colab": {
          "base_uri": "https://localhost:8080/",
          "height": 392
        },
        "outputId": "cd24b9da-fe91-45d8-c798-f4fd3f0b7fe4"
      },
      "execution_count": null,
      "outputs": [
        {
          "output_type": "execute_result",
          "data": {
            "text/plain": [
              "Actor              | Total Gross | Number of Movies | Average per Movie | #1 Movie                     | Gross\n",
              "Harrison Ford      | 4871.7      | 41               | 118.8             | Star Wars: The Force Awakens | 936.7\n",
              "Samuel L. Jackson  | 4772.8      | 69               | 69.2              | The Avengers                 | 623.4\n",
              "Morgan Freeman     | 4468.3      | 61               | 73.3              | The Dark Knight              | 534.9\n",
              "Tom Hanks          | 4340.8      | 44               | 98.7              | Toy Story 3                  | 415\n",
              "Robert Downey, Jr. | 3947.3      | 53               | 74.5              | The Avengers                 | 623.4\n",
              "Eddie Murphy       | 3810.4      | 38               | 100.3             | Shrek 2                      | 441.2\n",
              "Tom Cruise         | 3587.2      | 36               | 99.6              | War of the Worlds            | 234.3\n",
              "Johnny Depp        | 3368.6      | 45               | 74.9              | Dead Man's Chest             | 423.3\n",
              "Michael Caine      | 3351.5      | 58               | 57.8              | The Dark Knight              | 534.9\n",
              "Scarlett Johansson | 3341.2      | 37               | 90.3              | The Avengers                 | 623.4\n",
              "... (40 rows omitted)"
            ],
            "text/html": [
              "<table border=\"1\" class=\"dataframe\">\n",
              "    <thead>\n",
              "        <tr>\n",
              "            <th>Actor</th> <th>Total Gross</th> <th>Number of Movies</th> <th>Average per Movie</th> <th>#1 Movie</th> <th>Gross</th>\n",
              "        </tr>\n",
              "    </thead>\n",
              "    <tbody>\n",
              "        <tr>\n",
              "            <td>Harrison Ford     </td> <td>4871.7     </td> <td>41              </td> <td>118.8            </td> <td>Star Wars: The Force Awakens</td> <td>936.7</td>\n",
              "        </tr>\n",
              "        <tr>\n",
              "            <td>Samuel L. Jackson </td> <td>4772.8     </td> <td>69              </td> <td>69.2             </td> <td>The Avengers                </td> <td>623.4</td>\n",
              "        </tr>\n",
              "        <tr>\n",
              "            <td>Morgan Freeman    </td> <td>4468.3     </td> <td>61              </td> <td>73.3             </td> <td>The Dark Knight             </td> <td>534.9</td>\n",
              "        </tr>\n",
              "        <tr>\n",
              "            <td>Tom Hanks         </td> <td>4340.8     </td> <td>44              </td> <td>98.7             </td> <td>Toy Story 3                 </td> <td>415  </td>\n",
              "        </tr>\n",
              "        <tr>\n",
              "            <td>Robert Downey, Jr.</td> <td>3947.3     </td> <td>53              </td> <td>74.5             </td> <td>The Avengers                </td> <td>623.4</td>\n",
              "        </tr>\n",
              "        <tr>\n",
              "            <td>Eddie Murphy      </td> <td>3810.4     </td> <td>38              </td> <td>100.3            </td> <td>Shrek 2                     </td> <td>441.2</td>\n",
              "        </tr>\n",
              "        <tr>\n",
              "            <td>Tom Cruise        </td> <td>3587.2     </td> <td>36              </td> <td>99.6             </td> <td>War of the Worlds           </td> <td>234.3</td>\n",
              "        </tr>\n",
              "        <tr>\n",
              "            <td>Johnny Depp       </td> <td>3368.6     </td> <td>45              </td> <td>74.9             </td> <td>Dead Man's Chest            </td> <td>423.3</td>\n",
              "        </tr>\n",
              "        <tr>\n",
              "            <td>Michael Caine     </td> <td>3351.5     </td> <td>58              </td> <td>57.8             </td> <td>The Dark Knight             </td> <td>534.9</td>\n",
              "        </tr>\n",
              "        <tr>\n",
              "            <td>Scarlett Johansson</td> <td>3341.2     </td> <td>37              </td> <td>90.3             </td> <td>The Avengers                </td> <td>623.4</td>\n",
              "        </tr>\n",
              "    </tbody>\n",
              "</table>\n",
              "<p>... (40 rows omitted)</p>"
            ]
          },
          "metadata": {},
          "execution_count": 34
        }
      ]
    },
    {
      "cell_type": "code",
      "source": [
        "# 두개의 데이터간의 관계를 점으로 보여준다.\n",
        "actors.scatter('Number of Movies', 'Total Gross')"
      ],
      "metadata": {
        "id": "NoYwPRVptnkU",
        "colab": {
          "base_uri": "https://localhost:8080/",
          "height": 359
        },
        "outputId": "d2221e8e-279e-4b6f-8520-67d7fdf04274"
      },
      "execution_count": null,
      "outputs": [
        {
          "output_type": "display_data",
          "data": {
            "text/plain": [
              "<Figure size 360x360 with 1 Axes>"
            ],
            "image/png": "[encoded data removed]"
          },
          "metadata": {}
        }
      ]
    },
    {
      "cell_type": "code",
      "source": [
        "# 이렇게 두 변수간의 관계로 많은 것을 파악할 수 있다.\n",
        "actors.scatter('Number of Movies', 'Gross')"
      ],
      "metadata": {
        "id": "SykmjJQEtpwJ",
        "colab": {
          "base_uri": "https://localhost:8080/",
          "height": 359
        },
        "outputId": "4e3f45a3-26e2-4462-b874-f0e9f5f2e892"
      },
      "execution_count": null,
      "outputs": [
        {
          "output_type": "display_data",
          "data": {
            "text/plain": [
              "<Figure size 360x360 with 1 Axes>"
            ],
            "image/png": "[encoded data removed]"
          },
          "metadata": {}
        }
      ]
    },
    {
      "cell_type": "code",
      "source": [
        "actors.where('Average per Movie', are.above(400))"
      ],
      "metadata": {
        "id": "Sb9ddKQZFlfY",
        "colab": {
          "base_uri": "https://localhost:8080/",
          "height": 81
        },
        "outputId": "6556226b-010d-4101-c5ce-9e34f50532d4"
      },
      "execution_count": null,
      "outputs": [
        {
          "output_type": "execute_result",
          "data": {
            "text/plain": [
              "Actor           | Total Gross | Number of Movies | Average per Movie | #1 Movie                     | Gross\n",
              "Anthony Daniels | 3162.9      | 7                | 451.8             | Star Wars: The Force Awakens | 936.7"
            ],
            "text/html": [
              "<table border=\"1\" class=\"dataframe\">\n",
              "    <thead>\n",
              "        <tr>\n",
              "            <th>Actor</th> <th>Total Gross</th> <th>Number of Movies</th> <th>Average per Movie</th> <th>#1 Movie</th> <th>Gross</th>\n",
              "        </tr>\n",
              "    </thead>\n",
              "    <tbody>\n",
              "        <tr>\n",
              "            <td>Anthony Daniels</td> <td>3162.9     </td> <td>7               </td> <td>451.8            </td> <td>Star Wars: The Force Awakens</td> <td>936.7</td>\n",
              "        </tr>\n",
              "    </tbody>\n",
              "</table>"
            ]
          },
          "metadata": {},
          "execution_count": 37
        }
      ]
    }
  ],
  "metadata": {
    "anaconda-cloud": {},
    "kernelspec": {
      "display_name": "Python 3",
      "language": "python",
      "name": "python3"
    },
    "language_info": {
      "codemirror_mode": {
        "name": "ipython",
        "version": 3
      },
      "file_extension": ".py",
      "mimetype": "text/x-python",
      "name": "python",
      "nbconvert_exporter": "python",
      "pygments_lexer": "ipython3",
      "version": "3.8.5"
    },
    "colab": {
      "provenance": [],
      "collapsed_sections": []
    }
  },
  "nbformat": 4,
  "nbformat_minor": 0
}
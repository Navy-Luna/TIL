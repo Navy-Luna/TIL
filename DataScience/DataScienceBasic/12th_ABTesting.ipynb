{
  "cells": [
    {
      "cell_type": "markdown",
      "source": [
        "# Lecture 12의 데모\n",
        "\n",
        "### Lecture 12의 데모에 대한 코드\n",
        "\n",
        "참고자료: \n",
        "\n",
        "https://github.com/data-8/materials-sp22/blob/main/lec/lec19.ipynb\n",
        "\n",
        "https://github.com/data-8/materials-sp22/blob/main/lec/lec20.ipynb"
      ],
      "metadata": {
        "id": "md5NsWZP1nnc"
      }
    },
    {
      "cell_type": "code",
      "source": [
        "import os\n",
        "from google.colab import drive\n",
        "\n",
        "drive.mount('/content/gdrive')\n",
        "\n",
        "%cd /content/gdrive/MyDrive/ITEC419-fa22/lec"
      ],
      "metadata": {
        "colab": {
          "base_uri": "https://localhost:8080/"
        },
        "id": "zPKz9YMH1u2c",
        "outputId": "25a0f9dd-caf9-483b-d975-b801e411a62a"
      },
      "execution_count": 1,
      "outputs": [
        {
          "output_type": "stream",
          "name": "stdout",
          "text": [
            "Mounted at /content/gdrive\n",
            "/content/gdrive/MyDrive/ITEC419-fa22/lec\n"
          ]
        }
      ]
    },
    {
      "cell_type": "code",
      "execution_count": 2,
      "metadata": {
        "id": "JWZIZR9j0YYb"
      },
      "outputs": [],
      "source": [
        "from datascience import *\n",
        "import numpy as np\n",
        "\n",
        "%matplotlib inline\n",
        "import matplotlib.pyplot as plots\n",
        "plots.style.use('fivethirtyeight')"
      ]
    },
    {
      "cell_type": "markdown",
      "metadata": {
        "collapsed": true,
        "id": "2i-Zz5rP0YYd"
      },
      "source": [
        "## **Comparing Two Samples**"
      ]
    },
    {
      "cell_type": "code",
      "execution_count": 3,
      "metadata": {
        "id": "_3wnLsVD0YYd",
        "colab": {
          "base_uri": "https://localhost:8080/",
          "height": 392
        },
        "outputId": "fb536e2b-90ba-4612-cab2-50593f1e4ef0"
      },
      "outputs": [
        {
          "output_type": "execute_result",
          "data": {
            "text/plain": [
              "Birth Weight | Gestational Days | Maternal Age | Maternal Height | Maternal Pregnancy Weight | Maternal Smoker\n",
              "120          | 284              | 27           | 62              | 100                       | False\n",
              "113          | 282              | 33           | 64              | 135                       | False\n",
              "128          | 279              | 28           | 64              | 115                       | True\n",
              "108          | 282              | 23           | 67              | 125                       | True\n",
              "136          | 286              | 25           | 62              | 93                        | False\n",
              "138          | 244              | 33           | 62              | 178                       | False\n",
              "132          | 245              | 23           | 65              | 140                       | False\n",
              "120          | 289              | 25           | 62              | 125                       | False\n",
              "143          | 299              | 30           | 66              | 136                       | True\n",
              "140          | 351              | 27           | 68              | 120                       | False\n",
              "... (1164 rows omitted)"
            ],
            "text/html": [
              "<table border=\"1\" class=\"dataframe\">\n",
              "    <thead>\n",
              "        <tr>\n",
              "            <th>Birth Weight</th> <th>Gestational Days</th> <th>Maternal Age</th> <th>Maternal Height</th> <th>Maternal Pregnancy Weight</th> <th>Maternal Smoker</th>\n",
              "        </tr>\n",
              "    </thead>\n",
              "    <tbody>\n",
              "        <tr>\n",
              "            <td>120         </td> <td>284             </td> <td>27          </td> <td>62             </td> <td>100                      </td> <td>False          </td>\n",
              "        </tr>\n",
              "        <tr>\n",
              "            <td>113         </td> <td>282             </td> <td>33          </td> <td>64             </td> <td>135                      </td> <td>False          </td>\n",
              "        </tr>\n",
              "        <tr>\n",
              "            <td>128         </td> <td>279             </td> <td>28          </td> <td>64             </td> <td>115                      </td> <td>True           </td>\n",
              "        </tr>\n",
              "        <tr>\n",
              "            <td>108         </td> <td>282             </td> <td>23          </td> <td>67             </td> <td>125                      </td> <td>True           </td>\n",
              "        </tr>\n",
              "        <tr>\n",
              "            <td>136         </td> <td>286             </td> <td>25          </td> <td>62             </td> <td>93                       </td> <td>False          </td>\n",
              "        </tr>\n",
              "        <tr>\n",
              "            <td>138         </td> <td>244             </td> <td>33          </td> <td>62             </td> <td>178                      </td> <td>False          </td>\n",
              "        </tr>\n",
              "        <tr>\n",
              "            <td>132         </td> <td>245             </td> <td>23          </td> <td>65             </td> <td>140                      </td> <td>False          </td>\n",
              "        </tr>\n",
              "        <tr>\n",
              "            <td>120         </td> <td>289             </td> <td>25          </td> <td>62             </td> <td>125                      </td> <td>False          </td>\n",
              "        </tr>\n",
              "        <tr>\n",
              "            <td>143         </td> <td>299             </td> <td>30          </td> <td>66             </td> <td>136                      </td> <td>True           </td>\n",
              "        </tr>\n",
              "        <tr>\n",
              "            <td>140         </td> <td>351             </td> <td>27          </td> <td>68             </td> <td>120                      </td> <td>False          </td>\n",
              "        </tr>\n",
              "    </tbody>\n",
              "</table>\n",
              "<p>... (1164 rows omitted)</p>"
            ]
          },
          "metadata": {},
          "execution_count": 3
        }
      ],
      "source": [
        "births = Table.read_table('baby.csv')\n",
        "births"
      ]
    },
    {
      "cell_type": "code",
      "source": [
        "def ounces_to_kg(ounces):\n",
        "  return ounces * 0.02835"
      ],
      "metadata": {
        "id": "1472XATik8S9"
      },
      "execution_count": 4,
      "outputs": []
    },
    {
      "cell_type": "code",
      "source": [
        "births_weight = births.apply(ounces_to_kg, 'Birth Weight')"
      ],
      "metadata": {
        "id": "7E42fp_Pk8J2"
      },
      "execution_count": 5,
      "outputs": []
    },
    {
      "cell_type": "code",
      "source": [
        "births = births.drop('Birth Weight').with_column('Birth Weight',births_weight)"
      ],
      "metadata": {
        "id": "VD216OOok_iq"
      },
      "execution_count": 6,
      "outputs": []
    },
    {
      "cell_type": "code",
      "source": [
        "smoking_and_birthweight = births.select('Maternal Smoker', 'Birth Weight')\n",
        "smoking_and_birthweight"
      ],
      "metadata": {
        "id": "R0wKTrDLk8CS",
        "colab": {
          "base_uri": "https://localhost:8080/",
          "height": 392
        },
        "outputId": "1f2ecfe1-bf83-4f93-ab9e-eb77187befc6"
      },
      "execution_count": 7,
      "outputs": [
        {
          "output_type": "execute_result",
          "data": {
            "text/plain": [
              "Maternal Smoker | Birth Weight\n",
              "False           | 3.402\n",
              "False           | 3.20355\n",
              "True            | 3.6288\n",
              "True            | 3.0618\n",
              "False           | 3.8556\n",
              "False           | 3.9123\n",
              "False           | 3.7422\n",
              "False           | 3.402\n",
              "True            | 4.05405\n",
              "False           | 3.969\n",
              "... (1164 rows omitted)"
            ],
            "text/html": [
              "<table border=\"1\" class=\"dataframe\">\n",
              "    <thead>\n",
              "        <tr>\n",
              "            <th>Maternal Smoker</th> <th>Birth Weight</th>\n",
              "        </tr>\n",
              "    </thead>\n",
              "    <tbody>\n",
              "        <tr>\n",
              "            <td>False          </td> <td>3.402       </td>\n",
              "        </tr>\n",
              "        <tr>\n",
              "            <td>False          </td> <td>3.20355     </td>\n",
              "        </tr>\n",
              "        <tr>\n",
              "            <td>True           </td> <td>3.6288      </td>\n",
              "        </tr>\n",
              "        <tr>\n",
              "            <td>True           </td> <td>3.0618      </td>\n",
              "        </tr>\n",
              "        <tr>\n",
              "            <td>False          </td> <td>3.8556      </td>\n",
              "        </tr>\n",
              "        <tr>\n",
              "            <td>False          </td> <td>3.9123      </td>\n",
              "        </tr>\n",
              "        <tr>\n",
              "            <td>False          </td> <td>3.7422      </td>\n",
              "        </tr>\n",
              "        <tr>\n",
              "            <td>False          </td> <td>3.402       </td>\n",
              "        </tr>\n",
              "        <tr>\n",
              "            <td>True           </td> <td>4.05405     </td>\n",
              "        </tr>\n",
              "        <tr>\n",
              "            <td>False          </td> <td>3.969       </td>\n",
              "        </tr>\n",
              "    </tbody>\n",
              "</table>\n",
              "<p>... (1164 rows omitted)</p>"
            ]
          },
          "metadata": {},
          "execution_count": 7
        }
      ]
    },
    {
      "cell_type": "code",
      "source": [
        "smoking_and_birthweight.group('Maternal Smoker')\n",
        "# 담배 핀 사람 / 안핀 사람 수를 세자"
      ],
      "metadata": {
        "id": "MHQz-28Jk75r",
        "colab": {
          "base_uri": "https://localhost:8080/",
          "height": 112
        },
        "outputId": "457843a7-63a3-4b49-8881-7885b83091d0"
      },
      "execution_count": 8,
      "outputs": [
        {
          "output_type": "execute_result",
          "data": {
            "text/plain": [
              "Maternal Smoker | count\n",
              "False           | 715\n",
              "True            | 459"
            ],
            "text/html": [
              "<table border=\"1\" class=\"dataframe\">\n",
              "    <thead>\n",
              "        <tr>\n",
              "            <th>Maternal Smoker</th> <th>count</th>\n",
              "        </tr>\n",
              "    </thead>\n",
              "    <tbody>\n",
              "        <tr>\n",
              "            <td>False          </td> <td>715  </td>\n",
              "        </tr>\n",
              "        <tr>\n",
              "            <td>True           </td> <td>459  </td>\n",
              "        </tr>\n",
              "    </tbody>\n",
              "</table>"
            ]
          },
          "metadata": {},
          "execution_count": 8
        }
      ]
    },
    {
      "cell_type": "code",
      "source": [
        "smoking_and_birthweight.hist('Birth Weight', group = 'Maternal Smoker') # 이런 식으로 그룹별로 나눠서 히스토그램 그리기!"
      ],
      "metadata": {
        "id": "e9UrqPErk7pR",
        "colab": {
          "base_uri": "https://localhost:8080/",
          "height": 394
        },
        "outputId": "57893e81-9692-419d-c300-f349f73337fb"
      },
      "execution_count": 9,
      "outputs": [
        {
          "output_type": "stream",
          "name": "stderr",
          "text": [
            "/usr/local/lib/python3.7/dist-packages/numpy/core/fromnumeric.py:3208: VisibleDeprecationWarning: Creating an ndarray from ragged nested sequences (which is a list-or-tuple of lists-or-tuples-or ndarrays with different lengths or shapes) is deprecated. If you meant to do this, you must specify 'dtype=object' when creating the ndarray.\n",
            "  return asarray(a).size\n",
            "/usr/local/lib/python3.7/dist-packages/matplotlib/cbook/__init__.py:1376: VisibleDeprecationWarning: Creating an ndarray from ragged nested sequences (which is a list-or-tuple of lists-or-tuples-or ndarrays with different lengths or shapes) is deprecated. If you meant to do this, you must specify 'dtype=object' when creating the ndarray.\n",
            "  X = np.atleast_1d(X.T if isinstance(X, np.ndarray) else np.asarray(X))\n"
          ]
        },
        {
          "output_type": "display_data",
          "data": {
            "text/plain": [
              "<Figure size 432x288 with 1 Axes>"
            ],
            "image/png": "[encoded data removed]"
          },
          "metadata": {}
        }
      ]
    },
    {
      "cell_type": "markdown",
      "source": [
        "## **Test Statistic**"
      ],
      "metadata": {
        "id": "B_zxajP1L_nP"
      }
    },
    {
      "cell_type": "code",
      "source": [
        "means_table = smoking_and_birthweight.group('Maternal Smoker', np.average)\n",
        "means_table"
      ],
      "metadata": {
        "id": "KzmC5rexlcHc",
        "colab": {
          "base_uri": "https://localhost:8080/",
          "height": 112
        },
        "outputId": "bac4d785-9e60-41f5-9cc6-bb7ebf140649"
      },
      "execution_count": 10,
      "outputs": [
        {
          "output_type": "execute_result",
          "data": {
            "text/plain": [
              "Maternal Smoker | Birth Weight average\n",
              "False           | 3.48947\n",
              "True            | 3.22677"
            ],
            "text/html": [
              "<table border=\"1\" class=\"dataframe\">\n",
              "    <thead>\n",
              "        <tr>\n",
              "            <th>Maternal Smoker</th> <th>Birth Weight average</th>\n",
              "        </tr>\n",
              "    </thead>\n",
              "    <tbody>\n",
              "        <tr>\n",
              "            <td>False          </td> <td>3.48947             </td>\n",
              "        </tr>\n",
              "        <tr>\n",
              "            <td>True           </td> <td>3.22677             </td>\n",
              "        </tr>\n",
              "    </tbody>\n",
              "</table>"
            ]
          },
          "metadata": {},
          "execution_count": 10
        }
      ]
    },
    {
      "cell_type": "code",
      "source": [
        "means = means_table.column(1)\n",
        "observed_difference = means.item(1) - means.item(0)\n",
        "observed_difference\n",
        "\n",
        "# 담배 안핀 산모 애기의 몸무게 평균 - 담배 핀 산모 애기의 몸무게 평균"
      ],
      "metadata": {
        "id": "C6anAhmElcED",
        "colab": {
          "base_uri": "https://localhost:8080/"
        },
        "outputId": "2b118cbd-b2ec-4fa6-b207-5025ff617c1f"
      },
      "execution_count": 11,
      "outputs": [
        {
          "output_type": "execute_result",
          "data": {
            "text/plain": [
              "-0.26269514191690657"
            ]
          },
          "metadata": {},
          "execution_count": 11
        }
      ]
    },
    {
      "cell_type": "code",
      "source": [
        "def difference_of_means(table, numerical_label, group_label):\n",
        "    \"\"\"\n",
        "    Takes: name of table, column label of numerical variable,\n",
        "    column label of group variable\n",
        "\n",
        "    Returns: Difference of means of the two groups\n",
        "    \"\"\"\n",
        "\n",
        "    # 위에 과정을 반복해낼 생각임 그래서 이걸 하나의 함수로 만들어 낼 생각임!\n",
        "    # table with the two relevant columns\n",
        "    reduced = table.select(numerical_label, group_label)\n",
        "\n",
        "    # table containing group means\n",
        "    means_table = reduced.group(group_label, np.average)\n",
        "\n",
        "    # array of group means\n",
        "    means = means_table.column(1)\n",
        "\n",
        "    # return the difference of means\n",
        "    return means.item(1) - means.item(0)"
      ],
      "metadata": {
        "id": "Xzj4aCdBQKNn"
      },
      "execution_count": 12,
      "outputs": []
    },
    {
      "cell_type": "code",
      "source": [
        "difference_of_means(births, 'Birth Weight', 'Maternal Smoker') # 앞의 과정 자동화 ^ㅁ^"
      ],
      "metadata": {
        "id": "9tE2-8aAQy66",
        "colab": {
          "base_uri": "https://localhost:8080/"
        },
        "outputId": "ff2d3cb5-24d5-4f50-ce0c-5dc8f0e9883d"
      },
      "execution_count": 13,
      "outputs": [
        {
          "output_type": "execute_result",
          "data": {
            "text/plain": [
              "-0.26269514191690657"
            ]
          },
          "metadata": {},
          "execution_count": 13
        }
      ]
    },
    {
      "cell_type": "markdown",
      "source": [
        "## **Random Permutation (Shuffling)** ##"
      ],
      "metadata": {
        "id": "VN-65PsdaU_7"
      }
    },
    {
      "cell_type": "code",
      "source": [
        "letters = Table().with_column('Letter', make_array('a','b','c','d','e'))"
      ],
      "metadata": {
        "id": "VxCGqxigaT3B"
      },
      "execution_count": 14,
      "outputs": []
    },
    {
      "cell_type": "code",
      "source": [
        "letters.sample(2)"
      ],
      "metadata": {
        "id": "z9C-5PADva2I",
        "colab": {
          "base_uri": "https://localhost:8080/",
          "height": 112
        },
        "outputId": "8a3d2371-5c1f-45cb-f9a0-aa896a0db18b"
      },
      "execution_count": 17,
      "outputs": [
        {
          "output_type": "execute_result",
          "data": {
            "text/plain": [
              "Letter\n",
              "d\n",
              "b"
            ],
            "text/html": [
              "<table border=\"1\" class=\"dataframe\">\n",
              "    <thead>\n",
              "        <tr>\n",
              "            <th>Letter</th>\n",
              "        </tr>\n",
              "    </thead>\n",
              "    <tbody>\n",
              "        <tr>\n",
              "            <td>d     </td>\n",
              "        </tr>\n",
              "        <tr>\n",
              "            <td>b     </td>\n",
              "        </tr>\n",
              "    </tbody>\n",
              "</table>"
            ]
          },
          "metadata": {},
          "execution_count": 17
        }
      ]
    },
    {
      "cell_type": "code",
      "source": [
        "letters.sample(2, with_replacement=False)"
      ],
      "metadata": {
        "id": "vi5c1Vs5vfap",
        "colab": {
          "base_uri": "https://localhost:8080/",
          "height": 112
        },
        "outputId": "22f7a0bc-f817-44ad-ee1c-f2b9c6d964a2"
      },
      "execution_count": 18,
      "outputs": [
        {
          "output_type": "execute_result",
          "data": {
            "text/plain": [
              "Letter\n",
              "b\n",
              "e"
            ],
            "text/html": [
              "<table border=\"1\" class=\"dataframe\">\n",
              "    <thead>\n",
              "        <tr>\n",
              "            <th>Letter</th>\n",
              "        </tr>\n",
              "    </thead>\n",
              "    <tbody>\n",
              "        <tr>\n",
              "            <td>b     </td>\n",
              "        </tr>\n",
              "        <tr>\n",
              "            <td>e     </td>\n",
              "        </tr>\n",
              "    </tbody>\n",
              "</table>"
            ]
          },
          "metadata": {},
          "execution_count": 18
        }
      ]
    },
    {
      "cell_type": "code",
      "source": [
        "letters.sample() # 원래 행의 수만큼 랜덤하게 뽑아냄"
      ],
      "metadata": {
        "id": "KBUO_wROvlXP",
        "colab": {
          "base_uri": "https://localhost:8080/",
          "height": 206
        },
        "outputId": "332050f1-cf80-4fc2-9acf-ad4615c9a360"
      },
      "execution_count": 19,
      "outputs": [
        {
          "output_type": "execute_result",
          "data": {
            "text/plain": [
              "Letter\n",
              "e\n",
              "e\n",
              "b\n",
              "e\n",
              "d"
            ],
            "text/html": [
              "<table border=\"1\" class=\"dataframe\">\n",
              "    <thead>\n",
              "        <tr>\n",
              "            <th>Letter</th>\n",
              "        </tr>\n",
              "    </thead>\n",
              "    <tbody>\n",
              "        <tr>\n",
              "            <td>e     </td>\n",
              "        </tr>\n",
              "        <tr>\n",
              "            <td>e     </td>\n",
              "        </tr>\n",
              "        <tr>\n",
              "            <td>b     </td>\n",
              "        </tr>\n",
              "        <tr>\n",
              "            <td>e     </td>\n",
              "        </tr>\n",
              "        <tr>\n",
              "            <td>d     </td>\n",
              "        </tr>\n",
              "    </tbody>\n",
              "</table>"
            ]
          },
          "metadata": {},
          "execution_count": 19
        }
      ]
    },
    {
      "cell_type": "code",
      "source": [
        "letters.sample(with_replacement=False)"
      ],
      "metadata": {
        "colab": {
          "base_uri": "https://localhost:8080/",
          "height": 206
        },
        "id": "9u1PJ5s6wwTs",
        "outputId": "6fd2d779-7422-45fa-97c9-b2c3ccf5002f"
      },
      "execution_count": 20,
      "outputs": [
        {
          "output_type": "execute_result",
          "data": {
            "text/plain": [
              "Letter\n",
              "b\n",
              "e\n",
              "a\n",
              "d\n",
              "c"
            ],
            "text/html": [
              "<table border=\"1\" class=\"dataframe\">\n",
              "    <thead>\n",
              "        <tr>\n",
              "            <th>Letter</th>\n",
              "        </tr>\n",
              "    </thead>\n",
              "    <tbody>\n",
              "        <tr>\n",
              "            <td>b     </td>\n",
              "        </tr>\n",
              "        <tr>\n",
              "            <td>e     </td>\n",
              "        </tr>\n",
              "        <tr>\n",
              "            <td>a     </td>\n",
              "        </tr>\n",
              "        <tr>\n",
              "            <td>d     </td>\n",
              "        </tr>\n",
              "        <tr>\n",
              "            <td>c     </td>\n",
              "        </tr>\n",
              "    </tbody>\n",
              "</table>"
            ]
          },
          "metadata": {},
          "execution_count": 20
        }
      ]
    },
    {
      "cell_type": "code",
      "source": [
        "# 셔플해서 새로운 lable된 것을 테이블에 붙여주는 작업 ~ 앞에 담배 핀 사람 / 안핀 사람 labeling된 것을 rearrange 해주는 것임. (null hypothesis 증명을 위해)\n",
        "letters.with_column('Shuffled', letters.sample(with_replacement=False).column('Letter'))"
      ],
      "metadata": {
        "colab": {
          "base_uri": "https://localhost:8080/",
          "height": 206
        },
        "id": "7uk8gH-Mw2de",
        "outputId": "d454e9cf-d744-4a2c-c787-749d98ab4439"
      },
      "execution_count": 21,
      "outputs": [
        {
          "output_type": "execute_result",
          "data": {
            "text/plain": [
              "Letter | Shuffled\n",
              "a      | e\n",
              "b      | b\n",
              "c      | d\n",
              "d      | c\n",
              "e      | a"
            ],
            "text/html": [
              "<table border=\"1\" class=\"dataframe\">\n",
              "    <thead>\n",
              "        <tr>\n",
              "            <th>Letter</th> <th>Shuffled</th>\n",
              "        </tr>\n",
              "    </thead>\n",
              "    <tbody>\n",
              "        <tr>\n",
              "            <td>a     </td> <td>e       </td>\n",
              "        </tr>\n",
              "        <tr>\n",
              "            <td>b     </td> <td>b       </td>\n",
              "        </tr>\n",
              "        <tr>\n",
              "            <td>c     </td> <td>d       </td>\n",
              "        </tr>\n",
              "        <tr>\n",
              "            <td>d     </td> <td>c       </td>\n",
              "        </tr>\n",
              "        <tr>\n",
              "            <td>e     </td> <td>a       </td>\n",
              "        </tr>\n",
              "    </tbody>\n",
              "</table>"
            ]
          },
          "metadata": {},
          "execution_count": 21
        }
      ]
    },
    {
      "cell_type": "markdown",
      "source": [
        "--> Lecture Note로 돌아감"
      ],
      "metadata": {
        "id": "zZycOAaXwSAD"
      }
    },
    {
      "cell_type": "markdown",
      "source": [
        "## **Simulation Under Null Hypothesis**"
      ],
      "metadata": {
        "id": "jMXs5NqqyqM3"
      }
    },
    {
      "cell_type": "code",
      "source": [
        "smoking_and_birthweight"
      ],
      "metadata": {
        "id": "4yRYsurqyt2M",
        "colab": {
          "base_uri": "https://localhost:8080/",
          "height": 392
        },
        "outputId": "6d47faa2-556a-4275-d13d-89481e1fd4f1"
      },
      "execution_count": 22,
      "outputs": [
        {
          "output_type": "execute_result",
          "data": {
            "text/plain": [
              "Maternal Smoker | Birth Weight\n",
              "False           | 3.402\n",
              "False           | 3.20355\n",
              "True            | 3.6288\n",
              "True            | 3.0618\n",
              "False           | 3.8556\n",
              "False           | 3.9123\n",
              "False           | 3.7422\n",
              "False           | 3.402\n",
              "True            | 4.05405\n",
              "False           | 3.969\n",
              "... (1164 rows omitted)"
            ],
            "text/html": [
              "<table border=\"1\" class=\"dataframe\">\n",
              "    <thead>\n",
              "        <tr>\n",
              "            <th>Maternal Smoker</th> <th>Birth Weight</th>\n",
              "        </tr>\n",
              "    </thead>\n",
              "    <tbody>\n",
              "        <tr>\n",
              "            <td>False          </td> <td>3.402       </td>\n",
              "        </tr>\n",
              "        <tr>\n",
              "            <td>False          </td> <td>3.20355     </td>\n",
              "        </tr>\n",
              "        <tr>\n",
              "            <td>True           </td> <td>3.6288      </td>\n",
              "        </tr>\n",
              "        <tr>\n",
              "            <td>True           </td> <td>3.0618      </td>\n",
              "        </tr>\n",
              "        <tr>\n",
              "            <td>False          </td> <td>3.8556      </td>\n",
              "        </tr>\n",
              "        <tr>\n",
              "            <td>False          </td> <td>3.9123      </td>\n",
              "        </tr>\n",
              "        <tr>\n",
              "            <td>False          </td> <td>3.7422      </td>\n",
              "        </tr>\n",
              "        <tr>\n",
              "            <td>False          </td> <td>3.402       </td>\n",
              "        </tr>\n",
              "        <tr>\n",
              "            <td>True           </td> <td>4.05405     </td>\n",
              "        </tr>\n",
              "        <tr>\n",
              "            <td>False          </td> <td>3.969       </td>\n",
              "        </tr>\n",
              "    </tbody>\n",
              "</table>\n",
              "<p>... (1164 rows omitted)</p>"
            ]
          },
          "metadata": {},
          "execution_count": 22
        }
      ]
    },
    {
      "cell_type": "code",
      "source": [
        "shuffled_labels = smoking_and_birthweight.sample(with_replacement=False).column('Maternal Smoker')\n",
        "shuffled_labels\n",
        "\n",
        "# 이렇게 smoking 여부를 계속해서 섞어서 label에 넣어줄 생각임"
      ],
      "metadata": {
        "id": "BKZJmjT9y0Ez"
      },
      "execution_count": null,
      "outputs": []
    },
    {
      "cell_type": "code",
      "source": [
        "original_and_shuffled = smoking_and_birthweight.with_column(\n",
        "    'Shuffled Label', shuffled_labels\n",
        ")\n",
        "original_and_shuffled"
      ],
      "metadata": {
        "id": "bbuG5gZlzGPm",
        "colab": {
          "base_uri": "https://localhost:8080/",
          "height": 392
        },
        "outputId": "b04195b1-6484-4c9d-fa8f-957c498c50c5"
      },
      "execution_count": 24,
      "outputs": [
        {
          "output_type": "execute_result",
          "data": {
            "text/plain": [
              "Maternal Smoker | Birth Weight | Shuffled Label\n",
              "False           | 3.402        | True\n",
              "False           | 3.20355      | False\n",
              "True            | 3.6288       | True\n",
              "True            | 3.0618       | False\n",
              "False           | 3.8556       | False\n",
              "False           | 3.9123       | False\n",
              "False           | 3.7422       | True\n",
              "False           | 3.402        | False\n",
              "True            | 4.05405      | False\n",
              "False           | 3.969        | True\n",
              "... (1164 rows omitted)"
            ],
            "text/html": [
              "<table border=\"1\" class=\"dataframe\">\n",
              "    <thead>\n",
              "        <tr>\n",
              "            <th>Maternal Smoker</th> <th>Birth Weight</th> <th>Shuffled Label</th>\n",
              "        </tr>\n",
              "    </thead>\n",
              "    <tbody>\n",
              "        <tr>\n",
              "            <td>False          </td> <td>3.402       </td> <td>True          </td>\n",
              "        </tr>\n",
              "        <tr>\n",
              "            <td>False          </td> <td>3.20355     </td> <td>False         </td>\n",
              "        </tr>\n",
              "        <tr>\n",
              "            <td>True           </td> <td>3.6288      </td> <td>True          </td>\n",
              "        </tr>\n",
              "        <tr>\n",
              "            <td>True           </td> <td>3.0618      </td> <td>False         </td>\n",
              "        </tr>\n",
              "        <tr>\n",
              "            <td>False          </td> <td>3.8556      </td> <td>False         </td>\n",
              "        </tr>\n",
              "        <tr>\n",
              "            <td>False          </td> <td>3.9123      </td> <td>False         </td>\n",
              "        </tr>\n",
              "        <tr>\n",
              "            <td>False          </td> <td>3.7422      </td> <td>True          </td>\n",
              "        </tr>\n",
              "        <tr>\n",
              "            <td>False          </td> <td>3.402       </td> <td>False         </td>\n",
              "        </tr>\n",
              "        <tr>\n",
              "            <td>True           </td> <td>4.05405     </td> <td>False         </td>\n",
              "        </tr>\n",
              "        <tr>\n",
              "            <td>False          </td> <td>3.969       </td> <td>True          </td>\n",
              "        </tr>\n",
              "    </tbody>\n",
              "</table>\n",
              "<p>... (1164 rows omitted)</p>"
            ]
          },
          "metadata": {},
          "execution_count": 24
        }
      ]
    },
    {
      "cell_type": "code",
      "source": [
        "difference_of_means(original_and_shuffled, 'Birth Weight', 'Maternal Smoker') # 우리가 원래 관찰한 것"
      ],
      "metadata": {
        "id": "3MF1kpZezqam",
        "colab": {
          "base_uri": "https://localhost:8080/"
        },
        "outputId": "6ccedf12-bf8f-4ab6-c245-22543b47f5d3"
      },
      "execution_count": 25,
      "outputs": [
        {
          "output_type": "execute_result",
          "data": {
            "text/plain": [
              "-0.26269514191690657"
            ]
          },
          "metadata": {},
          "execution_count": 25
        }
      ]
    },
    {
      "cell_type": "code",
      "source": [
        "difference_of_means(original_and_shuffled, 'Birth Weight', 'Shuffled Label') # Label 새로 라벨링해서 평균 차이 계산한 것"
      ],
      "metadata": {
        "id": "fBwLL7ajzb6e",
        "colab": {
          "base_uri": "https://localhost:8080/"
        },
        "outputId": "7a69b1a6-8adb-4acf-8cc0-bb1badb8b7a6"
      },
      "execution_count": 27,
      "outputs": [
        {
          "output_type": "execute_result",
          "data": {
            "text/plain": [
              "-0.01899476347182194"
            ]
          },
          "metadata": {},
          "execution_count": 27
        }
      ]
    },
    {
      "cell_type": "markdown",
      "source": [
        "## **Permutation Test**"
      ],
      "metadata": {
        "id": "psECM7sO1mhB"
      }
    },
    {
      "cell_type": "code",
      "source": [
        "def one_simulated_difference(table, numerical_label, group_label):\n",
        "    \"\"\"\n",
        "    Takes: name of table, column label of numerical variable,\n",
        "    column label of group variable\n",
        "\n",
        "    Returns: Difference of means of the two groups after shuffling labels\n",
        "    \"\"\"\n",
        "\n",
        "    # get the array of shuffled labels - 셔플한 label 만들기\n",
        "    shuffled_labels = table.sample(with_replacement = False).column(group_label)\n",
        "    # table of numerical column & shuffled column\n",
        "    shuffled_table = table.with_column('Shuffled Label', shuffled_labels)\n",
        "\n",
        "    return difference_of_means(shuffled_table, numerical_label, 'Shuffled Label')"
      ],
      "metadata": {
        "id": "d-RNvBu11quY"
      },
      "execution_count": 28,
      "outputs": []
    },
    {
      "cell_type": "code",
      "source": [
        "# 할때마다 diff 다르게 나오는걸 만들어 낼 수 있을 것임!\n",
        "one_simulated_difference(births, 'Birth Weight', 'Maternal Smoker')"
      ],
      "metadata": {
        "id": "tAiJrqKJr04x",
        "colab": {
          "base_uri": "https://localhost:8080/"
        },
        "outputId": "0764660e-6cb4-475b-8529-9d26ebf47e5a"
      },
      "execution_count": 30,
      "outputs": [
        {
          "output_type": "execute_result",
          "data": {
            "text/plain": [
              "-0.03998767996709196"
            ]
          },
          "metadata": {},
          "execution_count": 30
        }
      ]
    },
    {
      "cell_type": "code",
      "source": [
        "differences = make_array()\n",
        "\n",
        "# 반복해서 shuffle하고 그걸로 다시 평균낸거 차이 만든걸 하나의 분포로 나타내기 위함\n",
        "for i in np.arange(2500):\n",
        "    new_difference = one_simulated_difference(births, 'Birth Weight', 'Maternal Smoker')\n",
        "    differences = np.append(differences, new_difference)"
      ],
      "metadata": {
        "id": "0OXIP5Syr01g"
      },
      "execution_count": 31,
      "outputs": []
    },
    {
      "cell_type": "code",
      "source": [
        "diff_tbl = Table().with_column('Difference Between Group Means', differences)\n",
        "diff_tbl.hist()\n",
        "print('Observed Difference:', observed_difference)\n",
        "plots.title('Prediction Under the Null Hypothesis');"
      ],
      "metadata": {
        "id": "IOo0zrmkr0yH",
        "colab": {
          "base_uri": "https://localhost:8080/",
          "height": 340
        },
        "outputId": "29d286b9-ed6d-4bc8-c8a8-431b63954f66"
      },
      "execution_count": 32,
      "outputs": [
        {
          "output_type": "stream",
          "name": "stdout",
          "text": [
            "Observed Difference: -0.26269514191690657\n"
          ]
        },
        {
          "output_type": "display_data",
          "data": {
            "text/plain": [
              "<Figure size 432x288 with 1 Axes>"
            ],
            "image/png": "[encoded data removed]"
          },
          "metadata": {}
        }
      ]
    },
    {
      "cell_type": "markdown",
      "source": [
        "## **Randomized Control Experiment**"
      ],
      "metadata": {
        "id": "eGJkuegCK0Jr"
      }
    },
    {
      "cell_type": "markdown",
      "source": [
        "* 무작위 대조 시험(randomized control trial; RCT)으로 보툴리눔 독소 A(Botulinum Toxin A; BTA)를 치료제로 사용하는 효과를 조사\n",
        "\n",
        "* 요통이 있는 31명의 환자를 치료 그룹 및 통제 그룹으로 무작위로 나누어, 15명은 치료 그룹에, 16명은 통제 그룹에\n",
        "\n",
        "* 대조군에게는 정상적인 식염수를 투여\n",
        "\n",
        "* 실험은 의사나 환자 모두 그들이 어느 그룹에 속해 있는지 알 수 없도록 double blind로 실행\n",
        "\n",
        "* 연구 시작 8주 후, 치료 그룹의 15명 중 9명과 대조 그룹의 16명 중 2명이 통증 완화"
      ],
      "metadata": {
        "id": "PcTuJ3vhoTRC"
      }
    },
    {
      "cell_type": "code",
      "source": [
        "# 플라시보 없애려고 대조군에게 식염수 투여\n",
        "# 환자도 의사도 모르는 실험 -> double blind - 의사도 자기가 주는게 보톡스인지 식염수인지 알지 못함\n",
        "# 통증 완화에 대한 판단은 나름의 준거를 가지고 판단하게 됨\n",
        "botox = Table.read_table('bta.csv')\n",
        "botox.show()"
      ],
      "metadata": {
        "id": "OVMh2O_Um_14",
        "colab": {
          "base_uri": "https://localhost:8080/",
          "height": 1000
        },
        "outputId": "e89d3671-eb89-4b2f-d0b9-8e4a5245aada"
      },
      "execution_count": 33,
      "outputs": [
        {
          "output_type": "display_data",
          "data": {
            "text/plain": [
              "<IPython.core.display.HTML object>"
            ],
            "text/html": [
              "<table border=\"1\" class=\"dataframe\">\n",
              "    <thead>\n",
              "        <tr>\n",
              "            <th>Group</th> <th>Result</th>\n",
              "        </tr>\n",
              "    </thead>\n",
              "    <tbody>\n",
              "        <tr>\n",
              "            <td>Control  </td> <td>1     </td>\n",
              "        </tr>\n",
              "        <tr>\n",
              "            <td>Control  </td> <td>1     </td>\n",
              "        </tr>\n",
              "        <tr>\n",
              "            <td>Control  </td> <td>0     </td>\n",
              "        </tr>\n",
              "        <tr>\n",
              "            <td>Control  </td> <td>0     </td>\n",
              "        </tr>\n",
              "        <tr>\n",
              "            <td>Control  </td> <td>0     </td>\n",
              "        </tr>\n",
              "        <tr>\n",
              "            <td>Control  </td> <td>0     </td>\n",
              "        </tr>\n",
              "        <tr>\n",
              "            <td>Control  </td> <td>0     </td>\n",
              "        </tr>\n",
              "        <tr>\n",
              "            <td>Control  </td> <td>0     </td>\n",
              "        </tr>\n",
              "        <tr>\n",
              "            <td>Control  </td> <td>0     </td>\n",
              "        </tr>\n",
              "        <tr>\n",
              "            <td>Control  </td> <td>0     </td>\n",
              "        </tr>\n",
              "        <tr>\n",
              "            <td>Control  </td> <td>0     </td>\n",
              "        </tr>\n",
              "        <tr>\n",
              "            <td>Control  </td> <td>0     </td>\n",
              "        </tr>\n",
              "        <tr>\n",
              "            <td>Control  </td> <td>0     </td>\n",
              "        </tr>\n",
              "        <tr>\n",
              "            <td>Control  </td> <td>0     </td>\n",
              "        </tr>\n",
              "        <tr>\n",
              "            <td>Control  </td> <td>0     </td>\n",
              "        </tr>\n",
              "        <tr>\n",
              "            <td>Control  </td> <td>0     </td>\n",
              "        </tr>\n",
              "        <tr>\n",
              "            <td>Treatment</td> <td>1     </td>\n",
              "        </tr>\n",
              "        <tr>\n",
              "            <td>Treatment</td> <td>1     </td>\n",
              "        </tr>\n",
              "        <tr>\n",
              "            <td>Treatment</td> <td>1     </td>\n",
              "        </tr>\n",
              "        <tr>\n",
              "            <td>Treatment</td> <td>1     </td>\n",
              "        </tr>\n",
              "        <tr>\n",
              "            <td>Treatment</td> <td>1     </td>\n",
              "        </tr>\n",
              "        <tr>\n",
              "            <td>Treatment</td> <td>1     </td>\n",
              "        </tr>\n",
              "        <tr>\n",
              "            <td>Treatment</td> <td>1     </td>\n",
              "        </tr>\n",
              "        <tr>\n",
              "            <td>Treatment</td> <td>1     </td>\n",
              "        </tr>\n",
              "        <tr>\n",
              "            <td>Treatment</td> <td>1     </td>\n",
              "        </tr>\n",
              "        <tr>\n",
              "            <td>Treatment</td> <td>0     </td>\n",
              "        </tr>\n",
              "        <tr>\n",
              "            <td>Treatment</td> <td>0     </td>\n",
              "        </tr>\n",
              "        <tr>\n",
              "            <td>Treatment</td> <td>0     </td>\n",
              "        </tr>\n",
              "        <tr>\n",
              "            <td>Treatment</td> <td>0     </td>\n",
              "        </tr>\n",
              "        <tr>\n",
              "            <td>Treatment</td> <td>0     </td>\n",
              "        </tr>\n",
              "        <tr>\n",
              "            <td>Treatment</td> <td>0     </td>\n",
              "        </tr>\n",
              "    </tbody>\n",
              "</table>"
            ]
          },
          "metadata": {}
        }
      ]
    },
    {
      "cell_type": "code",
      "source": [
        "botox.group('Group', np.average)"
      ],
      "metadata": {
        "id": "8Vo5K-_Ts666",
        "colab": {
          "base_uri": "https://localhost:8080/",
          "height": 112
        },
        "outputId": "11593a1f-8a29-437d-d3d0-4bd642d2f4c9"
      },
      "execution_count": 34,
      "outputs": [
        {
          "output_type": "execute_result",
          "data": {
            "text/plain": [
              "Group     | Result average\n",
              "Control   | 0.125\n",
              "Treatment | 0.6"
            ],
            "text/html": [
              "<table border=\"1\" class=\"dataframe\">\n",
              "    <thead>\n",
              "        <tr>\n",
              "            <th>Group</th> <th>Result average</th>\n",
              "        </tr>\n",
              "    </thead>\n",
              "    <tbody>\n",
              "        <tr>\n",
              "            <td>Control  </td> <td>0.125         </td>\n",
              "        </tr>\n",
              "        <tr>\n",
              "            <td>Treatment</td> <td>0.6           </td>\n",
              "        </tr>\n",
              "    </tbody>\n",
              "</table>"
            ]
          },
          "metadata": {},
          "execution_count": 34
        }
      ]
    },
    {
      "cell_type": "markdown",
      "source": [
        "## **Testing the Hypothesis**"
      ],
      "metadata": {
        "id": "fiku_zwL5UDh"
      }
    },
    {
      "cell_type": "code",
      "source": [
        "observed_diff = difference_of_means(botox, 'Result', 'Group') # Observed\n",
        "observed_diff"
      ],
      "metadata": {
        "id": "Gcn43yHotEdP",
        "colab": {
          "base_uri": "https://localhost:8080/"
        },
        "outputId": "9e6bc1c3-566d-4ed0-95c6-09d84b95bc9f"
      },
      "execution_count": 35,
      "outputs": [
        {
          "output_type": "execute_result",
          "data": {
            "text/plain": [
              "0.475"
            ]
          },
          "metadata": {},
          "execution_count": 35
        }
      ]
    },
    {
      "cell_type": "code",
      "source": [
        "one_simulated_difference(botox, 'Result', 'Group') # Simulation"
      ],
      "metadata": {
        "id": "sq1QudlwtEaV",
        "colab": {
          "base_uri": "https://localhost:8080/"
        },
        "outputId": "19f20a1e-eeb9-473d-bc4a-463f635a552e"
      },
      "execution_count": 36,
      "outputs": [
        {
          "output_type": "execute_result",
          "data": {
            "text/plain": [
              "-0.041666666666666685"
            ]
          },
          "metadata": {},
          "execution_count": 36
        }
      ]
    },
    {
      "cell_type": "code",
      "source": [
        "simulated_diffs = make_array()\n",
        "\n",
        "for i in np.arange(10000):\n",
        "  sim_diff = one_simulated_difference(botox, 'Result', 'Group')\n",
        "  simulated_diffs = np.append(simulated_diffs, sim_diff)"
      ],
      "metadata": {
        "id": "oM6LmKi2tEXT"
      },
      "execution_count": 37,
      "outputs": []
    },
    {
      "cell_type": "code",
      "source": [
        "col_name = 'Differences between groups'\n",
        "Table().with_column(col_name, simulated_diffs).hist(col_name)\n",
        "plots.ylim(-0.1, 2.65)\n",
        "plots.scatter(observed_diff, 0, c='red', zorder=3)"
      ],
      "metadata": {
        "id": "2GJtxjqhtEVf",
        "colab": {
          "base_uri": "https://localhost:8080/",
          "height": 319
        },
        "outputId": "f4d996f3-353a-4f21-840e-e49700d1842e"
      },
      "execution_count": 38,
      "outputs": [
        {
          "output_type": "execute_result",
          "data": {
            "text/plain": [
              "<matplotlib.collections.PathCollection at 0x7f58cdc1bb50>"
            ]
          },
          "metadata": {},
          "execution_count": 38
        },
        {
          "output_type": "display_data",
          "data": {
            "text/plain": [
              "<Figure size 432x288 with 1 Axes>"
            ],
            "image/png": "[encoded data removed]"
          },
          "metadata": {}
        }
      ]
    },
    {
      "cell_type": "code",
      "source": [
        "sum(simulated_diffs >= observed_diff) / len(simulated_diffs)"
      ],
      "metadata": {
        "id": "R46iCxfatEQH",
        "colab": {
          "base_uri": "https://localhost:8080/"
        },
        "outputId": "0df6c39d-0bfe-4418-8c02-64da26fb9b91"
      },
      "execution_count": 39,
      "outputs": [
        {
          "output_type": "execute_result",
          "data": {
            "text/plain": [
              "0.0076"
            ]
          },
          "metadata": {},
          "execution_count": 39
        }
      ]
    }
  ],
  "metadata": {
    "anaconda-cloud": {},
    "kernelspec": {
      "display_name": "Python 3",
      "language": "python",
      "name": "python3"
    },
    "language_info": {
      "codemirror_mode": {
        "name": "ipython",
        "version": 3
      },
      "file_extension": ".py",
      "mimetype": "text/x-python",
      "name": "python",
      "nbconvert_exporter": "python",
      "pygments_lexer": "ipython3",
      "version": "3.8.8"
    },
    "colab": {
      "provenance": [],
      "collapsed_sections": []
    }
  },
  "nbformat": 4,
  "nbformat_minor": 0
}
{
  "cells": [
    {
      "cell_type": "markdown",
      "source": [
        "# Lecture 09의 데모\n",
        "\n",
        "### Lecture 09의 데모에 대한 코드\n",
        "\n",
        "참고자료: \n",
        "\n",
        "https://github.com/data-8/materials-sp22/blob/main/lec/lec13.ipynb\n",
        "\n",
        "https://github.com/data-8/materials-sp22/blob/main/lec/lec14.ipynb"
      ],
      "metadata": {
        "id": "2irzNC7RqqBB"
      }
    },
    {
      "cell_type": "code",
      "source": [
        "import os\n",
        "from google.colab import drive\n",
        "\n",
        "drive.mount('/content/gdrive')\n",
        "\n",
        "%cd /content/gdrive/MyDrive/ITEC419-fa22/lec"
      ],
      "metadata": {
        "colab": {
          "base_uri": "https://localhost:8080/"
        },
        "id": "jcUSuJaGuilA",
        "outputId": "24deecd0-f656-414c-9f92-dfc078966fc7"
      },
      "execution_count": null,
      "outputs": [
        {
          "output_type": "stream",
          "name": "stdout",
          "text": [
            "Mounted at /content/gdrive\n",
            "/content/gdrive/MyDrive/ITEC419-fa22/lec\n"
          ]
        }
      ]
    },
    {
      "cell_type": "code",
      "execution_count": null,
      "metadata": {
        "id": "SPwuBW7xofzH"
      },
      "outputs": [],
      "source": [
        "from datascience import *\n",
        "import numpy as np\n",
        "\n",
        "%matplotlib inline\n",
        "import matplotlib.pyplot as plots\n",
        "plots.style.use('fivethirtyeight')\n",
        "import warnings\n",
        "warnings.simplefilter(action='ignore', category=np.VisibleDeprecationWarning)"
      ]
    },
    {
      "cell_type": "markdown",
      "metadata": {
        "id": "XkMDvbCIofzJ"
      },
      "source": [
        "## **Comparison** ##"
      ]
    },
    {
      "cell_type": "code",
      "execution_count": null,
      "metadata": {
        "id": "eAcZbuubofzK",
        "colab": {
          "base_uri": "https://localhost:8080/"
        },
        "outputId": "d1710cda-7b4a-4213-d9d7-96ee0ecbe3d5"
      },
      "outputs": [
        {
          "output_type": "execute_result",
          "data": {
            "text/plain": [
              "2"
            ]
          },
          "metadata": {},
          "execution_count": 4
        }
      ],
      "source": [
        "x = 2\n",
        "x"
      ]
    },
    {
      "cell_type": "code",
      "source": [
        "# Boolean 값 출력\n",
        "x > 4"
      ],
      "metadata": {
        "id": "7FbGALiGrlKS",
        "colab": {
          "base_uri": "https://localhost:8080/"
        },
        "outputId": "5542f49e-60a3-4f89-e0cb-d939393d2b85"
      },
      "execution_count": null,
      "outputs": [
        {
          "output_type": "execute_result",
          "data": {
            "text/plain": [
              "False"
            ]
          },
          "metadata": {},
          "execution_count": 6
        }
      ]
    },
    {
      "cell_type": "code",
      "source": [
        "# 와 이게 되네\n",
        "1 < x < 3"
      ],
      "metadata": {
        "id": "FHH_xLc2rm6X",
        "colab": {
          "base_uri": "https://localhost:8080/"
        },
        "outputId": "43b4fa69-e0b9-41fc-a90a-97e133232258"
      },
      "execution_count": null,
      "outputs": [
        {
          "output_type": "execute_result",
          "data": {
            "text/plain": [
              "True"
            ]
          },
          "metadata": {},
          "execution_count": 8
        }
      ]
    },
    {
      "cell_type": "code",
      "source": [
        "type(1<x<3)"
      ],
      "metadata": {
        "id": "eFcrLhRirq2Z",
        "colab": {
          "base_uri": "https://localhost:8080/"
        },
        "outputId": "ac18a7eb-5a13-47ab-f7ff-5cbd885774a2"
      },
      "execution_count": null,
      "outputs": [
        {
          "output_type": "execute_result",
          "data": {
            "text/plain": [
              "bool"
            ]
          },
          "metadata": {},
          "execution_count": 9
        }
      ]
    },
    {
      "cell_type": "code",
      "execution_count": null,
      "metadata": {
        "id": "4Y_gK4XDofzL",
        "colab": {
          "base_uri": "https://localhost:8080/"
        },
        "outputId": "a4a9be34-d12a-44c6-d1b2-9449bbebf128"
      },
      "outputs": [
        {
          "output_type": "execute_result",
          "data": {
            "text/plain": [
              "True"
            ]
          },
          "metadata": {},
          "execution_count": 12
        }
      ],
      "source": [
        "# true는 틀린 표기 True임\n",
        "True"
      ]
    },
    {
      "cell_type": "code",
      "execution_count": null,
      "metadata": {
        "id": "426NKxXMofzL",
        "colab": {
          "base_uri": "https://localhost:8080/"
        },
        "outputId": "32362319-8683-4f08-90c5-153bd33f13e2"
      },
      "outputs": [
        {
          "output_type": "execute_result",
          "data": {
            "text/plain": [
              "False"
            ]
          },
          "metadata": {},
          "execution_count": 13
        }
      ],
      "source": [
        "False"
      ]
    },
    {
      "cell_type": "code",
      "execution_count": null,
      "metadata": {
        "tags": [
          "raises-exception"
        ],
        "id": "10ixn_qwofzL",
        "colab": {
          "base_uri": "https://localhost:8080/"
        },
        "outputId": "7169085f-6edf-4e18-e4d0-45c338f08029"
      },
      "outputs": [
        {
          "output_type": "execute_result",
          "data": {
            "text/plain": [
              "False"
            ]
          },
          "metadata": {},
          "execution_count": 14
        }
      ],
      "source": [
        "True == False"
      ]
    },
    {
      "cell_type": "markdown",
      "metadata": {
        "id": "ouWioGACofzQ"
      },
      "source": [
        "## **Comparisons with arrays**"
      ]
    },
    {
      "cell_type": "code",
      "source": [
        "s = make_array('John', 'John', 'Jack', 'John')\n",
        "s"
      ],
      "metadata": {
        "colab": {
          "base_uri": "https://localhost:8080/"
        },
        "id": "aTNJX_PQtRLI",
        "outputId": "7db21c4e-53d4-4096-c7fe-938782c0c94f"
      },
      "execution_count": null,
      "outputs": [
        {
          "output_type": "execute_result",
          "data": {
            "text/plain": [
              "array(['John', 'John', 'Jack', 'John'],\n",
              "      dtype='<U4')"
            ]
          },
          "metadata": {},
          "execution_count": 16
        }
      ]
    },
    {
      "cell_type": "code",
      "source": [
        "# 각각의 element에 대해 비교 연산이 가능하다.\n",
        "s == 'John'"
      ],
      "metadata": {
        "id": "T8H8LWYTtY9N",
        "colab": {
          "base_uri": "https://localhost:8080/"
        },
        "outputId": "05e86bd8-b062-4895-dd18-3981fd3e2d69"
      },
      "execution_count": null,
      "outputs": [
        {
          "output_type": "execute_result",
          "data": {
            "text/plain": [
              "array([ True,  True, False,  True], dtype=bool)"
            ]
          },
          "metadata": {},
          "execution_count": 18
        }
      ]
    },
    {
      "cell_type": "code",
      "source": [
        "True + 1 + 0"
      ],
      "metadata": {
        "colab": {
          "base_uri": "https://localhost:8080/"
        },
        "id": "v-u1FovvfYkS",
        "outputId": "00e5e207-2c34-4b6f-a75d-28ed1a892aeb"
      },
      "execution_count": null,
      "outputs": [
        {
          "output_type": "execute_result",
          "data": {
            "text/plain": [
              "2"
            ]
          },
          "metadata": {},
          "execution_count": 3
        }
      ]
    },
    {
      "cell_type": "code",
      "source": [
        "# 내가 원하는 데이터의 개수를 counting할때 좋음!\n",
        "sum(s == 'John')"
      ],
      "metadata": {
        "id": "67113PdUtgLU",
        "colab": {
          "base_uri": "https://localhost:8080/"
        },
        "outputId": "4174ef1c-b540-4d5e-deb1-25d16eb66697"
      },
      "execution_count": null,
      "outputs": [
        {
          "output_type": "execute_result",
          "data": {
            "text/plain": [
              "3"
            ]
          },
          "metadata": {},
          "execution_count": 22
        }
      ]
    },
    {
      "cell_type": "code",
      "source": [
        "sum(s != 'John')"
      ],
      "metadata": {
        "id": "io1wcd6Iti20",
        "colab": {
          "base_uri": "https://localhost:8080/"
        },
        "outputId": "de3e06a3-e3cc-4cfa-dfa0-f507dda6432b"
      },
      "execution_count": null,
      "outputs": [
        {
          "output_type": "execute_result",
          "data": {
            "text/plain": [
              "1"
            ]
          },
          "metadata": {},
          "execution_count": 23
        }
      ]
    },
    {
      "cell_type": "code",
      "source": [
        "a = (s == 'John')\n",
        "a"
      ],
      "metadata": {
        "id": "ci7nRHTDttb9",
        "colab": {
          "base_uri": "https://localhost:8080/"
        },
        "outputId": "27b063cc-6c61-44ad-ce7f-1236aeacb667"
      },
      "execution_count": null,
      "outputs": [
        {
          "output_type": "execute_result",
          "data": {
            "text/plain": [
              "array([ True,  True, False,  True], dtype=bool)"
            ]
          },
          "metadata": {},
          "execution_count": 25
        }
      ]
    },
    {
      "cell_type": "code",
      "source": [
        "type(2)"
      ],
      "metadata": {
        "id": "-6paQWW8tzP5",
        "colab": {
          "base_uri": "https://localhost:8080/"
        },
        "outputId": "a52d6dad-b555-4c22-f16a-020c54c586ad"
      },
      "execution_count": null,
      "outputs": [
        {
          "output_type": "execute_result",
          "data": {
            "text/plain": [
              "int"
            ]
          },
          "metadata": {},
          "execution_count": 26
        }
      ]
    },
    {
      "cell_type": "code",
      "source": [
        "tips = Table.read_table('tips.csv')\n",
        "tips.show(3)"
      ],
      "metadata": {
        "colab": {
          "base_uri": "https://localhost:8080/",
          "height": 173
        },
        "id": "cvmSUVdcuZ-Q",
        "outputId": "14e98ee5-ab9d-4b89-de82-c5b95aef252c"
      },
      "execution_count": null,
      "outputs": [
        {
          "output_type": "display_data",
          "data": {
            "text/plain": [
              "<IPython.core.display.HTML object>"
            ],
            "text/html": [
              "<table border=\"1\" class=\"dataframe\">\n",
              "    <thead>\n",
              "        <tr>\n",
              "            <th>total_bill</th> <th>tip</th> <th>sex</th> <th>smoker</th> <th>day</th> <th>time</th> <th>size</th>\n",
              "        </tr>\n",
              "    </thead>\n",
              "    <tbody>\n",
              "        <tr>\n",
              "            <td>16.99     </td> <td>1.01</td> <td>Female</td> <td>No    </td> <td>Sun </td> <td>Dinner</td> <td>2   </td>\n",
              "        </tr>\n",
              "        <tr>\n",
              "            <td>10.34     </td> <td>1.66</td> <td>Male  </td> <td>No    </td> <td>Sun </td> <td>Dinner</td> <td>3   </td>\n",
              "        </tr>\n",
              "        <tr>\n",
              "            <td>21.01     </td> <td>3.5 </td> <td>Male  </td> <td>No    </td> <td>Sun </td> <td>Dinner</td> <td>3   </td>\n",
              "        </tr>\n",
              "    </tbody>\n",
              "</table>\n",
              "<p>... (241 rows omitted)</p>"
            ]
          },
          "metadata": {}
        }
      ]
    },
    {
      "cell_type": "code",
      "source": [
        "tips.where('size', are.above(2)).num_rows"
      ],
      "metadata": {
        "id": "O9JuvMWuu36N",
        "colab": {
          "base_uri": "https://localhost:8080/"
        },
        "outputId": "c43b326f-530f-4865-c5af-349a02cbc454"
      },
      "execution_count": null,
      "outputs": [
        {
          "output_type": "execute_result",
          "data": {
            "text/plain": [
              "84"
            ]
          },
          "metadata": {},
          "execution_count": 33
        }
      ]
    },
    {
      "cell_type": "code",
      "source": [
        "# 다르게 풀어보자\n",
        "sum(tips.column('size') > 2)"
      ],
      "metadata": {
        "id": "Z1UFUgqau_oW",
        "colab": {
          "base_uri": "https://localhost:8080/"
        },
        "outputId": "feb31b02-fdb2-4ea2-a0a9-0f9ec6e23a48"
      },
      "execution_count": null,
      "outputs": [
        {
          "output_type": "execute_result",
          "data": {
            "text/plain": [
              "84"
            ]
          },
          "metadata": {},
          "execution_count": 34
        }
      ]
    },
    {
      "cell_type": "code",
      "source": [
        "maple_syrup = 'bad dog'"
      ],
      "metadata": {
        "id": "vx8YMRGivLa5"
      },
      "execution_count": null,
      "outputs": []
    },
    {
      "cell_type": "code",
      "source": [
        "maple_syrup == 'good dog'"
      ],
      "metadata": {
        "id": "FjWIJaisvj7K",
        "colab": {
          "base_uri": "https://localhost:8080/"
        },
        "outputId": "b5a49cec-c099-44de-9ffd-d77920b59e0b"
      },
      "execution_count": null,
      "outputs": [
        {
          "output_type": "execute_result",
          "data": {
            "text/plain": [
              "False"
            ]
          },
          "metadata": {},
          "execution_count": 5
        }
      ]
    },
    {
      "cell_type": "code",
      "source": [
        "# 대소문자 구별함\n",
        "maple_syrup == 'bad Dog'"
      ],
      "metadata": {
        "id": "Q35v7_pEvn26",
        "colab": {
          "base_uri": "https://localhost:8080/"
        },
        "outputId": "dc32cd3c-8e96-4d18-df3c-25795512d47b"
      },
      "execution_count": null,
      "outputs": [
        {
          "output_type": "execute_result",
          "data": {
            "text/plain": [
              "False"
            ]
          },
          "metadata": {},
          "execution_count": 6
        }
      ]
    },
    {
      "cell_type": "code",
      "source": [
        "1 + 2 + 3 == 4 + 2"
      ],
      "metadata": {
        "id": "CF_4dkirvrTr",
        "colab": {
          "base_uri": "https://localhost:8080/"
        },
        "outputId": "b444ae18-e8ee-460b-8640-6346f5461488"
      },
      "execution_count": null,
      "outputs": [
        {
          "output_type": "execute_result",
          "data": {
            "text/plain": [
              "True"
            ]
          },
          "metadata": {},
          "execution_count": 39
        }
      ]
    },
    {
      "cell_type": "code",
      "source": [
        "# Assignment와는 구분하자\n",
        "1 + 2 + 3 = 4 + 2"
      ],
      "metadata": {
        "id": "doe_HthJvuk9",
        "colab": {
          "base_uri": "https://localhost:8080/",
          "height": 134
        },
        "outputId": "d0c1c7c6-414a-435b-c704-e4e2ab8116c5"
      },
      "execution_count": null,
      "outputs": [
        {
          "output_type": "error",
          "ename": "SyntaxError",
          "evalue": "ignored",
          "traceback": [
            "\u001b[0;36m  File \u001b[0;32m\"<ipython-input-41-00ee64a0c46d>\"\u001b[0;36m, line \u001b[0;32m2\u001b[0m\n\u001b[0;31m    1 + 2 + 3 = 4 + 2\u001b[0m\n\u001b[0m                     ^\u001b[0m\n\u001b[0;31mSyntaxError\u001b[0m\u001b[0;31m:\u001b[0m can't assign to operator\n"
          ]
        }
      ]
    },
    {
      "cell_type": "code",
      "source": [
        "np.count_nonzero(s == 'John')"
      ],
      "metadata": {
        "id": "knsmkHb-vxBn",
        "colab": {
          "base_uri": "https://localhost:8080/"
        },
        "outputId": "c499be3b-bb60-4a72-a98d-6853d7bc0ee4"
      },
      "execution_count": null,
      "outputs": [
        {
          "output_type": "execute_result",
          "data": {
            "text/plain": [
              "3"
            ]
          },
          "metadata": {},
          "execution_count": 42
        }
      ]
    },
    {
      "cell_type": "code",
      "execution_count": null,
      "metadata": {
        "id": "Gzc6UNVSofzR",
        "colab": {
          "base_uri": "https://localhost:8080/"
        },
        "outputId": "cada26c1-cc69-4e5e-acaa-14f3120c0617"
      },
      "outputs": [
        {
          "output_type": "execute_result",
          "data": {
            "text/plain": [
              "array([20, 21, 22, 23, 24, 25, 26, 27, 28, 29, 30])"
            ]
          },
          "metadata": {},
          "execution_count": 44
        }
      ],
      "source": [
        "x = np.arange(20, 31)\n",
        "x"
      ]
    },
    {
      "cell_type": "code",
      "execution_count": null,
      "metadata": {
        "id": "4tGsHHNFofzR",
        "colab": {
          "base_uri": "https://localhost:8080/"
        },
        "outputId": "b78b360c-b956-41d3-c967-eb790af7a95a"
      },
      "outputs": [
        {
          "output_type": "execute_result",
          "data": {
            "text/plain": [
              "array([False, False, False, False, False, False, False,  True,  True,\n",
              "        True,  True], dtype=bool)"
            ]
          },
          "metadata": {},
          "execution_count": 45
        }
      ],
      "source": [
        "x > 26"
      ]
    },
    {
      "cell_type": "code",
      "source": [
        "sum(x>26)"
      ],
      "metadata": {
        "id": "WEt4PqGPaxQm",
        "colab": {
          "base_uri": "https://localhost:8080/"
        },
        "outputId": "ac4751aa-45b2-491b-aa75-523bcbae9119"
      },
      "execution_count": null,
      "outputs": [
        {
          "output_type": "execute_result",
          "data": {
            "text/plain": [
              "4"
            ]
          },
          "metadata": {},
          "execution_count": 46
        }
      ]
    },
    {
      "cell_type": "markdown",
      "metadata": {
        "id": "SQv4nfBBofzS"
      },
      "source": [
        "## **Rows & Apply**"
      ]
    },
    {
      "cell_type": "code",
      "execution_count": null,
      "metadata": {
        "id": "AFsX_EqwofzS",
        "colab": {
          "base_uri": "https://localhost:8080/",
          "height": 173
        },
        "outputId": "452e4277-2056-47d3-8a57-da8015a7012e"
      },
      "outputs": [
        {
          "output_type": "display_data",
          "data": {
            "text/plain": [
              "<IPython.core.display.HTML object>"
            ],
            "text/html": [
              "<table border=\"1\" class=\"dataframe\">\n",
              "    <thead>\n",
              "        <tr>\n",
              "            <th>total_bill</th> <th>tip</th> <th>sex</th> <th>smoker</th> <th>day</th> <th>time</th> <th>size</th>\n",
              "        </tr>\n",
              "    </thead>\n",
              "    <tbody>\n",
              "        <tr>\n",
              "            <td>16.99     </td> <td>1.01</td> <td>Female</td> <td>No    </td> <td>Sun </td> <td>Dinner</td> <td>2   </td>\n",
              "        </tr>\n",
              "        <tr>\n",
              "            <td>10.34     </td> <td>1.66</td> <td>Male  </td> <td>No    </td> <td>Sun </td> <td>Dinner</td> <td>3   </td>\n",
              "        </tr>\n",
              "        <tr>\n",
              "            <td>21.01     </td> <td>3.5 </td> <td>Male  </td> <td>No    </td> <td>Sun </td> <td>Dinner</td> <td>3   </td>\n",
              "        </tr>\n",
              "    </tbody>\n",
              "</table>\n",
              "<p>... (241 rows omitted)</p>"
            ]
          },
          "metadata": {}
        }
      ],
      "source": [
        "tips.show(3)"
      ]
    },
    {
      "cell_type": "code",
      "execution_count": null,
      "metadata": {
        "id": "46eRKbWAofzS",
        "colab": {
          "base_uri": "https://localhost:8080/"
        },
        "outputId": "c5d6ea84-9ad2-451a-aacd-591ace22ab70"
      },
      "outputs": [
        {
          "output_type": "execute_result",
          "data": {
            "text/plain": [
              "Row(total_bill=16.989999999999998, tip=1.01, sex='Female', smoker='No', day='Sun', time='Dinner', size=2)"
            ]
          },
          "metadata": {},
          "execution_count": 14
        }
      ],
      "source": [
        "r = tips.row(0)\n",
        "r"
      ]
    },
    {
      "cell_type": "code",
      "source": [
        "sum(r)"
      ],
      "metadata": {
        "colab": {
          "base_uri": "https://localhost:8080/",
          "height": 174
        },
        "id": "_2MzwRExgUtQ",
        "outputId": "1e160ba3-ee08-4a12-ffbd-3bd7fac0b325"
      },
      "execution_count": null,
      "outputs": [
        {
          "output_type": "error",
          "ename": "UFuncTypeError",
          "evalue": "ignored",
          "traceback": [
            "\u001b[0;31m---------------------------------------------------------------------------\u001b[0m",
            "\u001b[0;31mUFuncTypeError\u001b[0m                            Traceback (most recent call last)",
            "\u001b[0;32m<ipython-input-15-1ab9ba54065b>\u001b[0m in \u001b[0;36m<module>\u001b[0;34m\u001b[0m\n\u001b[0;32m----> 1\u001b[0;31m \u001b[0msum\u001b[0m\u001b[0;34m(\u001b[0m\u001b[0mr\u001b[0m\u001b[0;34m)\u001b[0m\u001b[0;34m\u001b[0m\u001b[0;34m\u001b[0m\u001b[0m\n\u001b[0m",
            "\u001b[0;31mUFuncTypeError\u001b[0m: ufunc 'add' did not contain a loop with signature matching types (dtype('float64'), dtype('<U6')) -> None"
          ]
        }
      ]
    },
    {
      "cell_type": "code",
      "execution_count": null,
      "metadata": {
        "id": "AQJxCi-ZofzS",
        "colab": {
          "base_uri": "https://localhost:8080/"
        },
        "outputId": "db2bd335-ec0a-420a-eca0-ca989e9f9767"
      },
      "outputs": [
        {
          "output_type": "execute_result",
          "data": {
            "text/plain": [
              "Row(total_bill=array([ 16.99,  10.34,  21.01]), tip=array([ 1.01,  1.66,  3.5 ]), sex=array(['Female', 'Male', 'Male'],\n",
              "      dtype='<U6'), smoker=array(['No', 'No', 'No'],\n",
              "      dtype='<U3'), day=array(['Sun', 'Sun', 'Sun'],\n",
              "      dtype='<U4'), time=array(['Dinner', 'Dinner', 'Dinner'],\n",
              "      dtype='<U6'), size=array([2, 3, 3]))"
            ]
          },
          "metadata": {},
          "execution_count": 54
        }
      ],
      "source": [
        "# 각각이 ndarray로 묶여서 나온다.\n",
        "r2 = tips.row(np.arange(0,3))\n",
        "r2"
      ]
    },
    {
      "cell_type": "code",
      "source": [
        "# 첫번째 column을 가져 오겠다 -> 인덱스를 적는거보다는 label을 직접 적는것이 좋음\n",
        "# r.item('total_bill')\n",
        "r.item(0)"
      ],
      "metadata": {
        "id": "V2iDiC6bxl5M",
        "colab": {
          "base_uri": "https://localhost:8080/"
        },
        "outputId": "df260af2-3559-4c60-8fea-207517a12f67"
      },
      "execution_count": null,
      "outputs": [
        {
          "output_type": "execute_result",
          "data": {
            "text/plain": [
              "16.989999999999998"
            ]
          },
          "metadata": {},
          "execution_count": 55
        }
      ]
    },
    {
      "cell_type": "code",
      "execution_count": null,
      "metadata": {
        "id": "PhyjAjO_ofzS",
        "colab": {
          "base_uri": "https://localhost:8080/"
        },
        "outputId": "56a0f155-021f-4cb6-d2a9-c31a4f912c21"
      },
      "outputs": [
        {
          "output_type": "execute_result",
          "data": {
            "text/plain": [
              "array([ 16.99,  10.34,  21.01])"
            ]
          },
          "metadata": {},
          "execution_count": 57
        }
      ],
      "source": [
        "r2.item('total_bill')"
      ]
    },
    {
      "cell_type": "code",
      "source": [
        "tips.select(0,1,6).show(2)"
      ],
      "metadata": {
        "id": "cMZ_iDJ0x0Vp",
        "colab": {
          "base_uri": "https://localhost:8080/",
          "height": 141
        },
        "outputId": "82b4d7a7-da02-4a10-b6e8-3de84fb218a3"
      },
      "execution_count": null,
      "outputs": [
        {
          "output_type": "display_data",
          "data": {
            "text/plain": [
              "<IPython.core.display.HTML object>"
            ],
            "text/html": [
              "<table border=\"1\" class=\"dataframe\">\n",
              "    <thead>\n",
              "        <tr>\n",
              "            <th>total_bill</th> <th>tip</th> <th>size</th>\n",
              "        </tr>\n",
              "    </thead>\n",
              "    <tbody>\n",
              "        <tr>\n",
              "            <td>16.99     </td> <td>1.01</td> <td>2   </td>\n",
              "        </tr>\n",
              "        <tr>\n",
              "            <td>10.34     </td> <td>1.66</td> <td>3   </td>\n",
              "        </tr>\n",
              "    </tbody>\n",
              "</table>\n",
              "<p>... (242 rows omitted)</p>"
            ]
          },
          "metadata": {}
        }
      ]
    },
    {
      "cell_type": "code",
      "source": [
        "tips.pivot(4,5)"
      ],
      "metadata": {
        "id": "CdcsMGGybCGP",
        "colab": {
          "base_uri": "https://localhost:8080/",
          "height": 112
        },
        "outputId": "696ba008-5a06-4978-eb3e-1daf0073b8bc"
      },
      "execution_count": null,
      "outputs": [
        {
          "output_type": "execute_result",
          "data": {
            "text/plain": [
              "time   | Fri  | Sat  | Sun  | Thur\n",
              "Dinner | 12   | 87   | 76   | 1\n",
              "Lunch  | 7    | 0    | 0    | 61"
            ],
            "text/html": [
              "<table border=\"1\" class=\"dataframe\">\n",
              "    <thead>\n",
              "        <tr>\n",
              "            <th>time</th> <th>Fri</th> <th>Sat</th> <th>Sun</th> <th>Thur</th>\n",
              "        </tr>\n",
              "    </thead>\n",
              "    <tbody>\n",
              "        <tr>\n",
              "            <td>Dinner</td> <td>12  </td> <td>87  </td> <td>76  </td> <td>1   </td>\n",
              "        </tr>\n",
              "        <tr>\n",
              "            <td>Lunch </td> <td>7   </td> <td>0   </td> <td>0   </td> <td>61  </td>\n",
              "        </tr>\n",
              "    </tbody>\n",
              "</table>"
            ]
          },
          "metadata": {},
          "execution_count": 59
        }
      ]
    },
    {
      "cell_type": "code",
      "source": [
        "p = tips.pivot(4,5)\n",
        "\n",
        "# 처음은 str type이라서 그걸 드랍하고 더해준것임\n",
        "sum(p.drop(0).row(1))"
      ],
      "metadata": {
        "id": "fU_MFMV8bB-s",
        "colab": {
          "base_uri": "https://localhost:8080/"
        },
        "outputId": "44176545-2645-4b64-b4a7-316a7dac61f3"
      },
      "execution_count": null,
      "outputs": [
        {
          "output_type": "execute_result",
          "data": {
            "text/plain": [
              "68"
            ]
          },
          "metadata": {},
          "execution_count": 16
        }
      ]
    },
    {
      "cell_type": "code",
      "source": [
        "# 앞에서 배운 apply와 구분!\n",
        "# 행에 대해서 연산이 작용한 것임\n",
        "p.drop(0).apply(sum)"
      ],
      "metadata": {
        "id": "A8e0cxqKbB2G",
        "colab": {
          "base_uri": "https://localhost:8080/"
        },
        "outputId": "ff66f826-ab7a-40f2-9649-db8df8c38d5c"
      },
      "execution_count": null,
      "outputs": [
        {
          "output_type": "execute_result",
          "data": {
            "text/plain": [
              "array([176,  68])"
            ]
          },
          "metadata": {},
          "execution_count": 17
        }
      ]
    },
    {
      "cell_type": "code",
      "source": [
        "p.with_column('Total', p.drop(0).apply(sum))"
      ],
      "metadata": {
        "id": "wTQ47yXEbKFc",
        "colab": {
          "base_uri": "https://localhost:8080/",
          "height": 112
        },
        "outputId": "13ad717b-9ca7-4405-fb23-f8a7e7e97d83"
      },
      "execution_count": null,
      "outputs": [
        {
          "output_type": "execute_result",
          "data": {
            "text/plain": [
              "time   | Fri  | Sat  | Sun  | Thur | Total\n",
              "Dinner | 12   | 87   | 76   | 1    | 176\n",
              "Lunch  | 7    | 0    | 0    | 61   | 68"
            ],
            "text/html": [
              "<table border=\"1\" class=\"dataframe\">\n",
              "    <thead>\n",
              "        <tr>\n",
              "            <th>time</th> <th>Fri</th> <th>Sat</th> <th>Sun</th> <th>Thur</th> <th>Total</th>\n",
              "        </tr>\n",
              "    </thead>\n",
              "    <tbody>\n",
              "        <tr>\n",
              "            <td>Dinner</td> <td>12  </td> <td>87  </td> <td>76  </td> <td>1   </td> <td>176  </td>\n",
              "        </tr>\n",
              "        <tr>\n",
              "            <td>Lunch </td> <td>7   </td> <td>0   </td> <td>0   </td> <td>61  </td> <td>68   </td>\n",
              "        </tr>\n",
              "    </tbody>\n",
              "</table>"
            ]
          },
          "metadata": {},
          "execution_count": 67
        }
      ]
    },
    {
      "cell_type": "code",
      "source": [
        "p.drop(0).row(0)"
      ],
      "metadata": {
        "id": "Hz3SHFqqbRoS",
        "colab": {
          "base_uri": "https://localhost:8080/"
        },
        "outputId": "6f82c456-b37e-448c-cb62-57cd0af1a482"
      },
      "execution_count": null,
      "outputs": [
        {
          "output_type": "execute_result",
          "data": {
            "text/plain": [
              "Row(Fri=12, Sat=87, Sun=76, Thur=1)"
            ]
          },
          "metadata": {},
          "execution_count": 68
        }
      ]
    },
    {
      "cell_type": "code",
      "source": [
        "make_array([12,87,76,1])"
      ],
      "metadata": {
        "id": "YJFnUuX_bRiR",
        "colab": {
          "base_uri": "https://localhost:8080/"
        },
        "outputId": "99c9a3ba-43a9-4123-fbe4-f4edce0518ee"
      },
      "execution_count": null,
      "outputs": [
        {
          "output_type": "execute_result",
          "data": {
            "text/plain": [
              "array([[12, 87, 76, 1]], dtype=object)"
            ]
          },
          "metadata": {},
          "execution_count": 69
        }
      ]
    },
    {
      "cell_type": "code",
      "source": [
        "make_array([12,87,76,1]) + 3"
      ],
      "metadata": {
        "id": "DmnVgWgmbRa-",
        "colab": {
          "base_uri": "https://localhost:8080/"
        },
        "outputId": "41777e5f-faba-454f-f38e-3dcc1f79129e"
      },
      "execution_count": null,
      "outputs": [
        {
          "output_type": "execute_result",
          "data": {
            "text/plain": [
              "array([[15, 90, 79, 4]], dtype=object)"
            ]
          },
          "metadata": {},
          "execution_count": 70
        }
      ]
    },
    {
      "cell_type": "code",
      "source": [
        "# Row를 쓴뒤에 더하는 건 안됨! 튜플이라서..\n",
        "p.drop(0).row(0) + 3"
      ],
      "metadata": {
        "id": "vQnwqFPzbRTs",
        "colab": {
          "base_uri": "https://localhost:8080/",
          "height": 188
        },
        "outputId": "381865d2-ac89-41f9-d6a8-6d89f32ba666"
      },
      "execution_count": null,
      "outputs": [
        {
          "output_type": "error",
          "ename": "TypeError",
          "evalue": "ignored",
          "traceback": [
            "\u001b[0;31m---------------------------------------------------------------------------\u001b[0m",
            "\u001b[0;31mTypeError\u001b[0m                                 Traceback (most recent call last)",
            "\u001b[0;32m<ipython-input-71-37cefd631770>\u001b[0m in \u001b[0;36m<module>\u001b[0;34m\u001b[0m\n\u001b[1;32m      1\u001b[0m \u001b[0;31m# Row를 쓴뒤에 더하는 건 안됨! 튜플이라서..\u001b[0m\u001b[0;34m\u001b[0m\u001b[0;34m\u001b[0m\u001b[0;34m\u001b[0m\u001b[0m\n\u001b[0;32m----> 2\u001b[0;31m \u001b[0mp\u001b[0m\u001b[0;34m.\u001b[0m\u001b[0mdrop\u001b[0m\u001b[0;34m(\u001b[0m\u001b[0;36m0\u001b[0m\u001b[0;34m)\u001b[0m\u001b[0;34m.\u001b[0m\u001b[0mrow\u001b[0m\u001b[0;34m(\u001b[0m\u001b[0;36m0\u001b[0m\u001b[0;34m)\u001b[0m \u001b[0;34m+\u001b[0m \u001b[0;36m3\u001b[0m\u001b[0;34m\u001b[0m\u001b[0;34m\u001b[0m\u001b[0m\n\u001b[0m",
            "\u001b[0;31mTypeError\u001b[0m: can only concatenate tuple (not \"int\") to tuple"
          ]
        }
      ]
    },
    {
      "cell_type": "code",
      "source": [
        "list(p.drop(0).row(0)) + 3"
      ],
      "metadata": {
        "id": "NBGL9aGIbRM6",
        "colab": {
          "base_uri": "https://localhost:8080/",
          "height": 170
        },
        "outputId": "c0b1c32f-59e0-4d40-9ac2-074c6dd60d7b"
      },
      "execution_count": null,
      "outputs": [
        {
          "output_type": "error",
          "ename": "TypeError",
          "evalue": "ignored",
          "traceback": [
            "\u001b[0;31m---------------------------------------------------------------------------\u001b[0m",
            "\u001b[0;31mTypeError\u001b[0m                                 Traceback (most recent call last)",
            "\u001b[0;32m<ipython-input-72-e3f8cdfd1cfa>\u001b[0m in \u001b[0;36m<module>\u001b[0;34m\u001b[0m\n\u001b[0;32m----> 1\u001b[0;31m \u001b[0mlist\u001b[0m\u001b[0;34m(\u001b[0m\u001b[0mp\u001b[0m\u001b[0;34m.\u001b[0m\u001b[0mdrop\u001b[0m\u001b[0;34m(\u001b[0m\u001b[0;36m0\u001b[0m\u001b[0;34m)\u001b[0m\u001b[0;34m.\u001b[0m\u001b[0mrow\u001b[0m\u001b[0;34m(\u001b[0m\u001b[0;36m0\u001b[0m\u001b[0;34m)\u001b[0m\u001b[0;34m)\u001b[0m \u001b[0;34m+\u001b[0m \u001b[0;36m3\u001b[0m\u001b[0;34m\u001b[0m\u001b[0;34m\u001b[0m\u001b[0m\n\u001b[0m",
            "\u001b[0;31mTypeError\u001b[0m: can only concatenate list (not \"int\") to list"
          ]
        }
      ]
    },
    {
      "cell_type": "code",
      "source": [
        "np.array(p.drop(0).row(0)) + 3"
      ],
      "metadata": {
        "id": "-q_KtjspbRGs",
        "colab": {
          "base_uri": "https://localhost:8080/"
        },
        "outputId": "9afc29a1-76a4-4eeb-8723-2ce23b187ad4"
      },
      "execution_count": null,
      "outputs": [
        {
          "output_type": "execute_result",
          "data": {
            "text/plain": [
              "array([15, 90, 79,  4])"
            ]
          },
          "metadata": {},
          "execution_count": 73
        }
      ]
    },
    {
      "cell_type": "code",
      "source": [
        "# 인덱스에 해당하는 행을 삭제한다\n",
        "p.exclude(1)"
      ],
      "metadata": {
        "id": "V-VP56EkbRA7",
        "colab": {
          "base_uri": "https://localhost:8080/",
          "height": 81
        },
        "outputId": "731935ce-5b9d-4efe-c430-4d59e2429bda"
      },
      "execution_count": null,
      "outputs": [
        {
          "output_type": "execute_result",
          "data": {
            "text/plain": [
              "time   | Fri  | Sat  | Sun  | Thur\n",
              "Dinner | 12   | 87   | 76   | 1"
            ],
            "text/html": [
              "<table border=\"1\" class=\"dataframe\">\n",
              "    <thead>\n",
              "        <tr>\n",
              "            <th>time</th> <th>Fri</th> <th>Sat</th> <th>Sun</th> <th>Thur</th>\n",
              "        </tr>\n",
              "    </thead>\n",
              "    <tbody>\n",
              "        <tr>\n",
              "            <td>Dinner</td> <td>12  </td> <td>87  </td> <td>76  </td> <td>1   </td>\n",
              "        </tr>\n",
              "    </tbody>\n",
              "</table>"
            ]
          },
          "metadata": {},
          "execution_count": 74
        }
      ]
    },
    {
      "cell_type": "code",
      "source": [
        "tips.show(2)"
      ],
      "metadata": {
        "id": "iBstdlEzbQ8F",
        "colab": {
          "base_uri": "https://localhost:8080/",
          "height": 141
        },
        "outputId": "4f64eb12-4281-4ef2-a0f0-47a6b105112b"
      },
      "execution_count": null,
      "outputs": [
        {
          "output_type": "display_data",
          "data": {
            "text/plain": [
              "<IPython.core.display.HTML object>"
            ],
            "text/html": [
              "<table border=\"1\" class=\"dataframe\">\n",
              "    <thead>\n",
              "        <tr>\n",
              "            <th>total_bill</th> <th>tip</th> <th>sex</th> <th>smoker</th> <th>day</th> <th>time</th> <th>size</th>\n",
              "        </tr>\n",
              "    </thead>\n",
              "    <tbody>\n",
              "        <tr>\n",
              "            <td>16.99     </td> <td>1.01</td> <td>Female</td> <td>No    </td> <td>Sun </td> <td>Dinner</td> <td>2   </td>\n",
              "        </tr>\n",
              "        <tr>\n",
              "            <td>10.34     </td> <td>1.66</td> <td>Male  </td> <td>No    </td> <td>Sun </td> <td>Dinner</td> <td>3   </td>\n",
              "        </tr>\n",
              "    </tbody>\n",
              "</table>\n",
              "<p>... (242 rows omitted)</p>"
            ]
          },
          "metadata": {}
        }
      ]
    },
    {
      "cell_type": "code",
      "source": [
        "def f(n):\n",
        "  return n > 2\n",
        "\n",
        "# 뒤에 없으면 각 행에 대해 적용되고\n",
        "# 뒤에 뭔가 있으면 column에 대해서 적용된다.\n",
        "tips.apply(f,  'size')"
      ],
      "metadata": {
        "id": "C_QLo5A-bQ2Q",
        "colab": {
          "base_uri": "https://localhost:8080/"
        },
        "outputId": "a0523da0-7e4d-489f-a46d-cfc4ff15e4ae"
      },
      "execution_count": null,
      "outputs": [
        {
          "output_type": "execute_result",
          "data": {
            "text/plain": [
              "array([False,  True,  True, False,  True,  True, False,  True, False,\n",
              "       False, False,  True, False,  True, False, False,  True,  True,\n",
              "        True,  True, False, False, False,  True, False,  True, False,\n",
              "       False, False, False, False,  True, False,  True, False,  True,\n",
              "        True,  True,  True,  True,  True, False, False, False,  True,\n",
              "       False, False,  True,  True, False, False, False,  True, False,\n",
              "        True, False,  True, False, False,  True, False, False, False,\n",
              "        True,  True,  True, False, False, False, False, False,  True,\n",
              "       False, False, False, False, False,  True, False, False, False,\n",
              "       False, False, False, False,  True, False, False, False, False,\n",
              "       False, False, False, False, False,  True, False, False, False,\n",
              "       False, False, False,  True, False, False, False, False, False,\n",
              "       False, False, False, False,  True, False,  True, False,  True,\n",
              "       False, False,  True, False, False, False, False, False,  True,\n",
              "       False, False, False,  True, False, False, False, False, False,\n",
              "       False, False, False, False, False, False,  True,  True,  True,\n",
              "       False, False,  True, False, False, False, False, False,  True,\n",
              "        True,  True,  True,  True,  True, False,  True,  True, False,\n",
              "        True, False, False,  True, False,  True, False, False,  True,\n",
              "       False, False, False, False, False, False, False, False, False,\n",
              "        True, False,  True,  True, False,  True,  True,  True,  True,\n",
              "        True, False, False, False, False, False, False, False,  True,\n",
              "       False, False,  True, False, False, False,  True,  True,  True,\n",
              "        True, False, False,  True,  True,  True, False,  True, False,\n",
              "        True, False, False,  True, False, False, False,  True, False,\n",
              "       False, False,  True, False, False,  True,  True, False, False,\n",
              "       False, False, False, False,  True,  True, False, False, False, False], dtype=bool)"
            ]
          },
          "metadata": {},
          "execution_count": 78
        }
      ]
    },
    {
      "cell_type": "code",
      "source": [
        "def g(r):\n",
        "    return sum(r) > 2\n",
        "\n",
        "p.drop(0).apply(g)"
      ],
      "metadata": {
        "id": "66oB_gy2bQx2",
        "colab": {
          "base_uri": "https://localhost:8080/"
        },
        "outputId": "4949b89c-32e2-404d-c1d3-765b04efb6a2"
      },
      "execution_count": null,
      "outputs": [
        {
          "output_type": "execute_result",
          "data": {
            "text/plain": [
              "array([ True,  True], dtype=bool)"
            ]
          },
          "metadata": {},
          "execution_count": 81
        }
      ]
    },
    {
      "cell_type": "markdown",
      "metadata": {
        "id": "EOHUpCc0ofzT"
      },
      "source": [
        "## **Conditional Statements**"
      ]
    },
    {
      "cell_type": "code",
      "source": [
        "x = 20\n",
        "s = 'You are 20'"
      ],
      "metadata": {
        "id": "nK-Xxm3JbYei"
      },
      "execution_count": null,
      "outputs": []
    },
    {
      "cell_type": "code",
      "source": [
        "if x > 18:\n",
        "  s = 'You are legally vote'\n",
        "\n",
        "# s가 바뀜\n",
        "s"
      ],
      "metadata": {
        "id": "I4pg4qMBbYVb",
        "colab": {
          "base_uri": "https://localhost:8080/",
          "height": 36
        },
        "outputId": "085a83a3-230c-4f0c-bd74-94de456d502d"
      },
      "execution_count": null,
      "outputs": [
        {
          "output_type": "execute_result",
          "data": {
            "text/plain": [
              "'You are legally vote'"
            ],
            "application/vnd.google.colaboratory.intrinsic+json": {
              "type": "string"
            }
          },
          "metadata": {},
          "execution_count": 84
        }
      ]
    },
    {
      "cell_type": "code",
      "source": [
        "if x >= 21:\n",
        "  s = 'You are legally drink.'\n",
        "s"
      ],
      "metadata": {
        "id": "N3Wq25x1bYP9",
        "colab": {
          "base_uri": "https://localhost:8080/",
          "height": 36
        },
        "outputId": "1987fd3a-0c60-4db2-c234-0ea56439a9dd"
      },
      "execution_count": null,
      "outputs": [
        {
          "output_type": "execute_result",
          "data": {
            "text/plain": [
              "'You are legally vote'"
            ],
            "application/vnd.google.colaboratory.intrinsic+json": {
              "type": "string"
            }
          },
          "metadata": {},
          "execution_count": 85
        }
      ]
    },
    {
      "cell_type": "code",
      "source": [
        "def age(x):\n",
        "  if x >= 18:\n",
        "    return 'You are legally vote.'\n",
        "  if x >= 21:\n",
        "    return 'You are legally drink.'"
      ],
      "metadata": {
        "id": "T4uPQAeCbYJv"
      },
      "execution_count": null,
      "outputs": []
    },
    {
      "cell_type": "code",
      "source": [
        "age(20)"
      ],
      "metadata": {
        "id": "JFBg90X5bYB5",
        "colab": {
          "base_uri": "https://localhost:8080/",
          "height": 36
        },
        "outputId": "a264e5de-a746-4468-a320-7a596d31dc07"
      },
      "execution_count": null,
      "outputs": [
        {
          "output_type": "execute_result",
          "data": {
            "text/plain": [
              "'You are legally vote.'"
            ],
            "application/vnd.google.colaboratory.intrinsic+json": {
              "type": "string"
            }
          },
          "metadata": {},
          "execution_count": 87
        }
      ]
    },
    {
      "cell_type": "code",
      "execution_count": null,
      "metadata": {
        "id": "G2M7iShUofzU"
      },
      "outputs": [],
      "source": [
        "def age(x):\n",
        "    if x >= 21:\n",
        "        return 'You can legally vote and drink.'\n",
        "    elif x >= 18: # This only gets checked if the \"if\" condition was false\n",
        "        return 'You can legally vote.'\n",
        "    else: # only runs if all the if/elif conditions was false\n",
        "        return 'You can legally drink milk.'"
      ]
    },
    {
      "cell_type": "code",
      "execution_count": null,
      "metadata": {
        "id": "sCZY24jDofzU",
        "colab": {
          "base_uri": "https://localhost:8080/",
          "height": 173
        },
        "outputId": "62b7283e-2993-48ce-b561-34fee5af7bf2"
      },
      "outputs": [
        {
          "output_type": "display_data",
          "data": {
            "text/plain": [
              "<IPython.core.display.HTML object>"
            ],
            "text/html": [
              "<table border=\"1\" class=\"dataframe\">\n",
              "    <thead>\n",
              "        <tr>\n",
              "            <th>Trip ID</th> <th>Duration</th> <th>Start Date</th> <th>Start Station</th> <th>Start Terminal</th> <th>End Date</th> <th>End Station</th> <th>End Terminal</th> <th>Bike #</th> <th>Subscriber Type</th> <th>Zip Code</th>\n",
              "        </tr>\n",
              "    </thead>\n",
              "    <tbody>\n",
              "        <tr>\n",
              "            <td>913460 </td> <td>765     </td> <td>8/31/2015 23:26</td> <td>Harry Bridges Plaza (Ferry Building)</td> <td>50            </td> <td>8/31/2015 23:39</td> <td>San Francisco Caltrain (Townsend at 4th)</td> <td>70          </td> <td>288   </td> <td>Subscriber     </td> <td>2139    </td>\n",
              "        </tr>\n",
              "        <tr>\n",
              "            <td>913459 </td> <td>1036    </td> <td>8/31/2015 23:11</td> <td>San Antonio Shopping Center         </td> <td>31            </td> <td>8/31/2015 23:28</td> <td>Mountain View City Hall                 </td> <td>27          </td> <td>35    </td> <td>Subscriber     </td> <td>95032   </td>\n",
              "        </tr>\n",
              "        <tr>\n",
              "            <td>913455 </td> <td>307     </td> <td>8/31/2015 23:13</td> <td>Post at Kearny                      </td> <td>47            </td> <td>8/31/2015 23:18</td> <td>2nd at South Park                       </td> <td>64          </td> <td>468   </td> <td>Subscriber     </td> <td>94107   </td>\n",
              "        </tr>\n",
              "    </tbody>\n",
              "</table>\n",
              "<p>... (354149 rows omitted)</p>"
            ]
          },
          "metadata": {}
        }
      ],
      "source": [
        "trip = Table().read_table('trip.csv')\n",
        "trip.show(3)"
      ]
    },
    {
      "cell_type": "code",
      "execution_count": null,
      "metadata": {
        "id": "8vUMdMXdofzU",
        "colab": {
          "base_uri": "https://localhost:8080/",
          "height": 242
        },
        "outputId": "844d5767-a672-40e3-c1bc-5c19f8ac51d5"
      },
      "outputs": [
        {
          "output_type": "display_data",
          "data": {
            "text/plain": [
              "<IPython.core.display.HTML object>"
            ],
            "text/html": [
              "<table border=\"1\" class=\"dataframe\">\n",
              "    <thead>\n",
              "        <tr>\n",
              "            <th>Trip ID</th> <th>Duration</th> <th>Start Date</th> <th>Start Station</th> <th>Start Terminal</th> <th>End Date</th> <th>End Station</th> <th>End Terminal</th> <th>Bike #</th> <th>Subscriber Type</th> <th>Zip Code</th> <th>Trip Kind</th>\n",
              "        </tr>\n",
              "    </thead>\n",
              "    <tbody>\n",
              "        <tr>\n",
              "            <td>913460 </td> <td>765     </td> <td>8/31/2015 23:26</td> <td>Harry Bridges Plaza (Ferry Building)</td> <td>50            </td> <td>8/31/2015 23:39</td> <td>San Francisco Caltrain (Townsend at 4th)</td> <td>70          </td> <td>288   </td> <td>Subscriber     </td> <td>2139    </td> <td>one way  </td>\n",
              "        </tr>\n",
              "        <tr>\n",
              "            <td>913459 </td> <td>1036    </td> <td>8/31/2015 23:11</td> <td>San Antonio Shopping Center         </td> <td>31            </td> <td>8/31/2015 23:28</td> <td>Mountain View City Hall                 </td> <td>27          </td> <td>35    </td> <td>Subscriber     </td> <td>95032   </td> <td>one way  </td>\n",
              "        </tr>\n",
              "        <tr>\n",
              "            <td>913455 </td> <td>307     </td> <td>8/31/2015 23:13</td> <td>Post at Kearny                      </td> <td>47            </td> <td>8/31/2015 23:18</td> <td>2nd at South Park                       </td> <td>64          </td> <td>468   </td> <td>Subscriber     </td> <td>94107   </td> <td>one way  </td>\n",
              "        </tr>\n",
              "    </tbody>\n",
              "</table>\n",
              "<p>... (354149 rows omitted)</p>"
            ]
          },
          "metadata": {}
        }
      ],
      "source": [
        "# 이런 식으로 Dynamic하게 만들어내는 것임\n",
        "def trip_kind(start, end):\n",
        "    if start == end:\n",
        "        return 'round trip'\n",
        "    else:\n",
        "        return 'one way'\n",
        "\n",
        "kinds = trip.with_column('Trip Kind', trip.apply(trip_kind, 'Start Station', 'End Station'))\n",
        "kinds.show(3)"
      ]
    },
    {
      "cell_type": "code",
      "execution_count": null,
      "metadata": {
        "id": "tV-p0_uGofzU",
        "colab": {
          "base_uri": "https://localhost:8080/",
          "height": 392
        },
        "outputId": "5e9b0ae8-fd52-4e28-858c-1ddc6f5c7ac8"
      },
      "outputs": [
        {
          "output_type": "execute_result",
          "data": {
            "text/plain": [
              "Start Station                    | one way | round trip\n",
              "2nd at Folsom                    | 6821    | 25\n",
              "2nd at South Park                | 6484    | 98\n",
              "2nd at Townsend                  | 9513    | 83\n",
              "5th at Howard                    | 5752    | 36\n",
              "Adobe on Almaden                 | 439     | 8\n",
              "Arena Green / SAP Center         | 382     | 18\n",
              "Beale at Market                  | 5750    | 32\n",
              "Broadway St at Battery St        | 4482    | 59\n",
              "California Ave Caltrain Station  | 39      | 12\n",
              "Castro Street and El Camino Real | 1005    | 10\n",
              "... (60 rows omitted)"
            ],
            "text/html": [
              "<table border=\"1\" class=\"dataframe\">\n",
              "    <thead>\n",
              "        <tr>\n",
              "            <th>Start Station</th> <th>one way</th> <th>round trip</th>\n",
              "        </tr>\n",
              "    </thead>\n",
              "    <tbody>\n",
              "        <tr>\n",
              "            <td>2nd at Folsom                   </td> <td>6821   </td> <td>25        </td>\n",
              "        </tr>\n",
              "        <tr>\n",
              "            <td>2nd at South Park               </td> <td>6484   </td> <td>98        </td>\n",
              "        </tr>\n",
              "        <tr>\n",
              "            <td>2nd at Townsend                 </td> <td>9513   </td> <td>83        </td>\n",
              "        </tr>\n",
              "        <tr>\n",
              "            <td>5th at Howard                   </td> <td>5752   </td> <td>36        </td>\n",
              "        </tr>\n",
              "        <tr>\n",
              "            <td>Adobe on Almaden                </td> <td>439    </td> <td>8         </td>\n",
              "        </tr>\n",
              "        <tr>\n",
              "            <td>Arena Green / SAP Center        </td> <td>382    </td> <td>18        </td>\n",
              "        </tr>\n",
              "        <tr>\n",
              "            <td>Beale at Market                 </td> <td>5750   </td> <td>32        </td>\n",
              "        </tr>\n",
              "        <tr>\n",
              "            <td>Broadway St at Battery St       </td> <td>4482   </td> <td>59        </td>\n",
              "        </tr>\n",
              "        <tr>\n",
              "            <td>California Ave Caltrain Station </td> <td>39     </td> <td>12        </td>\n",
              "        </tr>\n",
              "        <tr>\n",
              "            <td>Castro Street and El Camino Real</td> <td>1005   </td> <td>10        </td>\n",
              "        </tr>\n",
              "    </tbody>\n",
              "</table>\n",
              "<p>... (60 rows omitted)</p>"
            ]
          },
          "metadata": {},
          "execution_count": 91
        }
      ],
      "source": [
        "kinds.where('Duration', are.below(600)).pivot('Trip Kind', 'Start Station')"
      ]
    },
    {
      "cell_type": "markdown",
      "metadata": {
        "id": "--hmBoNfofzV"
      },
      "source": [
        "## **Simulation**"
      ]
    },
    {
      "cell_type": "markdown",
      "metadata": {
        "id": "gBAba2f1ofzV"
      },
      "source": [
        "Let's play a game: we each roll a die. \n",
        "\n",
        "If my number is bigger: you pay me a dollar.\n",
        "\n",
        "If they're the same: we do nothing.\n",
        "\n",
        "If your number is bigger: I pay you a dollar."
      ]
    },
    {
      "cell_type": "markdown",
      "metadata": {
        "id": "LSU2shMwofzV"
      },
      "source": [
        "Steps:\n",
        "1. Find a way to simulate two dice rolls.\n",
        "2. Compute how much money we win/lose based on the result.\n",
        "3. Do steps 1 and 2 10,000 times."
      ]
    },
    {
      "cell_type": "markdown",
      "metadata": {
        "id": "NOwKdsKHofzV"
      },
      "source": [
        "### Conditional Statements"
      ]
    },
    {
      "cell_type": "code",
      "execution_count": null,
      "metadata": {
        "id": "qOr6c4ueofzV"
      },
      "outputs": [],
      "source": [
        "# A start (work in progress)\n",
        "def one_round(my_roll, your_roll):\n",
        "    if my_roll > your_roll:\n",
        "        return 1"
      ]
    },
    {
      "cell_type": "code",
      "execution_count": null,
      "metadata": {
        "id": "54Bdnw7xofzV",
        "colab": {
          "base_uri": "https://localhost:8080/"
        },
        "outputId": "441c3d4b-f75d-44f3-c946-0f6251d6f4a2"
      },
      "outputs": [
        {
          "output_type": "execute_result",
          "data": {
            "text/plain": [
              "1"
            ]
          },
          "metadata": {},
          "execution_count": 93
        }
      ],
      "source": [
        "one_round(4,3)"
      ]
    },
    {
      "cell_type": "code",
      "execution_count": null,
      "metadata": {
        "id": "90wfVlNDofzW"
      },
      "outputs": [],
      "source": [
        "one_round(2,6)"
      ]
    },
    {
      "cell_type": "code",
      "execution_count": null,
      "metadata": {
        "id": "TEna3E_pofzW"
      },
      "outputs": [],
      "source": [
        "# Final correct version\n",
        "def one_round(my_roll, your_roll):\n",
        "    if my_roll > your_roll:\n",
        "        return 1\n",
        "    elif my_roll == your_roll:\n",
        "        return 0\n",
        "    else:\n",
        "        return -1"
      ]
    },
    {
      "cell_type": "code",
      "source": [
        "one_round(1, 1)"
      ],
      "metadata": {
        "colab": {
          "base_uri": "https://localhost:8080/"
        },
        "id": "E6ciV2Q0A6m_",
        "outputId": "fddfd4e2-fe97-4eeb-b4c8-82b3e8bf246a"
      },
      "execution_count": null,
      "outputs": [
        {
          "output_type": "execute_result",
          "data": {
            "text/plain": [
              "0"
            ]
          },
          "metadata": {},
          "execution_count": 97
        }
      ]
    },
    {
      "cell_type": "code",
      "source": [
        "one_round(7, -1)"
      ],
      "metadata": {
        "colab": {
          "base_uri": "https://localhost:8080/"
        },
        "id": "gHkrsp-WA949",
        "outputId": "5c06939e-7a30-4b58-e007-5ae5958b782e"
      },
      "execution_count": null,
      "outputs": [
        {
          "output_type": "execute_result",
          "data": {
            "text/plain": [
              "1"
            ]
          },
          "metadata": {},
          "execution_count": 98
        }
      ]
    },
    {
      "cell_type": "markdown",
      "metadata": {
        "id": "Zl_3RJztofzX"
      },
      "source": [
        "### **Random Selection**"
      ]
    },
    {
      "cell_type": "code",
      "execution_count": null,
      "metadata": {
        "id": "12sP4vWIofzX"
      },
      "outputs": [],
      "source": [
        "mornings = make_array('wake up', 'sleep in')"
      ]
    },
    {
      "cell_type": "code",
      "source": [
        "np.random.choice(mornings)"
      ],
      "metadata": {
        "id": "uBpoXNF8b2HN",
        "colab": {
          "base_uri": "https://localhost:8080/",
          "height": 36
        },
        "outputId": "48214e8e-7381-417d-bb34-3322c92923fc"
      },
      "execution_count": null,
      "outputs": [
        {
          "output_type": "execute_result",
          "data": {
            "text/plain": [
              "'sleep in'"
            ],
            "application/vnd.google.colaboratory.intrinsic+json": {
              "type": "string"
            }
          },
          "metadata": {},
          "execution_count": 101
        }
      ]
    },
    {
      "cell_type": "markdown",
      "metadata": {
        "id": "R_DbTdsdofzX"
      },
      "source": [
        "We can also pass an argument that specifies how many times to make a random choice:"
      ]
    },
    {
      "cell_type": "code",
      "source": [
        "# 할때마다 결과값 달리 나옴\n",
        "np.random.choice(mornings, 7)"
      ],
      "metadata": {
        "id": "oA3ikXKKb50u",
        "colab": {
          "base_uri": "https://localhost:8080/"
        },
        "outputId": "0b66e931-f09d-4458-fba6-6c582a43e56d"
      },
      "execution_count": null,
      "outputs": [
        {
          "output_type": "execute_result",
          "data": {
            "text/plain": [
              "array(['sleep in', 'wake up', 'sleep in', 'sleep in', 'sleep in',\n",
              "       'wake up', 'sleep in'],\n",
              "      dtype='<U8')"
            ]
          },
          "metadata": {},
          "execution_count": 105
        }
      ]
    },
    {
      "cell_type": "code",
      "source": [
        "np.random.choice(mornings, 10) == 'wake up'"
      ],
      "metadata": {
        "id": "Vt8BNHT8b5so",
        "colab": {
          "base_uri": "https://localhost:8080/"
        },
        "outputId": "4caf5aad-e49c-4648-c63c-5ad1dcabd897"
      },
      "execution_count": null,
      "outputs": [
        {
          "output_type": "execute_result",
          "data": {
            "text/plain": [
              "array([ True,  True,  True, False, False, False, False, False, False, False], dtype=bool)"
            ]
          },
          "metadata": {},
          "execution_count": 107
        }
      ]
    },
    {
      "cell_type": "code",
      "source": [],
      "metadata": {
        "id": "ThUnVIIxb8GU"
      },
      "execution_count": null,
      "outputs": []
    },
    {
      "cell_type": "code",
      "source": [],
      "metadata": {
        "id": "O0YzQBFsb-ZK"
      },
      "execution_count": null,
      "outputs": []
    },
    {
      "cell_type": "code",
      "source": [],
      "metadata": {
        "id": "bnJiA7S1b-Tu"
      },
      "execution_count": null,
      "outputs": []
    },
    {
      "cell_type": "markdown",
      "metadata": {
        "id": "ChSzn6IfofzY"
      },
      "source": [
        "### **Simulating the roll of a die**"
      ]
    },
    {
      "cell_type": "code",
      "source": [
        "die_faces = np.arange(1, 7)"
      ],
      "metadata": {
        "id": "pt6ikN84cC0f"
      },
      "execution_count": null,
      "outputs": []
    },
    {
      "cell_type": "code",
      "source": [
        "np.random.choice(die_faces)"
      ],
      "metadata": {
        "id": "bwUL26wGcCwG",
        "colab": {
          "base_uri": "https://localhost:8080/"
        },
        "outputId": "e998cee0-86b7-4480-85ea-3124f2894ba0"
      },
      "execution_count": null,
      "outputs": [
        {
          "output_type": "execute_result",
          "data": {
            "text/plain": [
              "5"
            ]
          },
          "metadata": {},
          "execution_count": 109
        }
      ]
    },
    {
      "cell_type": "code",
      "execution_count": null,
      "metadata": {
        "id": "OSYeoouHofzZ"
      },
      "outputs": [],
      "source": [
        "def simulate_one_round():\n",
        "    my_roll = np.random.choice(die_faces)\n",
        "    your_roll = np.random.choice(die_faces)\n",
        "    return one_round(my_roll, your_roll)"
      ]
    },
    {
      "cell_type": "code",
      "source": [
        "simulate_one_round()"
      ],
      "metadata": {
        "id": "5orShuVhcHDn",
        "colab": {
          "base_uri": "https://localhost:8080/"
        },
        "outputId": "61c540bd-fc62-4982-ba9f-3a2346bd3e7c"
      },
      "execution_count": null,
      "outputs": [
        {
          "output_type": "execute_result",
          "data": {
            "text/plain": [
              "-1"
            ]
          },
          "metadata": {},
          "execution_count": 111
        }
      ]
    },
    {
      "cell_type": "markdown",
      "metadata": {
        "id": "q_CDSUA4ofzZ"
      },
      "source": [
        "### **Appending Arrays**"
      ]
    },
    {
      "cell_type": "code",
      "source": [],
      "metadata": {
        "id": "Cx-YURS_cKL5"
      },
      "execution_count": null,
      "outputs": []
    },
    {
      "cell_type": "code",
      "source": [],
      "metadata": {
        "id": "1bdpCP6VcKED"
      },
      "execution_count": null,
      "outputs": []
    },
    {
      "cell_type": "code",
      "source": [],
      "metadata": {
        "id": "yDKzkuaPcJ9i"
      },
      "execution_count": null,
      "outputs": []
    },
    {
      "cell_type": "code",
      "source": [],
      "metadata": {
        "id": "hXWfjUCGcJ31"
      },
      "execution_count": null,
      "outputs": []
    },
    {
      "cell_type": "code",
      "source": [],
      "metadata": {
        "id": "DzoAcjr-cMn3"
      },
      "execution_count": null,
      "outputs": []
    },
    {
      "cell_type": "code",
      "source": [],
      "metadata": {
        "id": "SCzY2nHScMhX"
      },
      "execution_count": null,
      "outputs": []
    },
    {
      "cell_type": "markdown",
      "metadata": {
        "id": "P-jFgXUpofza"
      },
      "source": [
        "### **Repeated Betting**"
      ]
    },
    {
      "cell_type": "code",
      "source": [],
      "metadata": {
        "id": "ZoSsfpdlcSVA"
      },
      "execution_count": null,
      "outputs": []
    },
    {
      "cell_type": "code",
      "source": [],
      "metadata": {
        "id": "oVp7MJrNcSQz"
      },
      "execution_count": null,
      "outputs": []
    },
    {
      "cell_type": "code",
      "source": [],
      "metadata": {
        "id": "QCWdGah3cSNd"
      },
      "execution_count": null,
      "outputs": []
    },
    {
      "cell_type": "markdown",
      "metadata": {
        "id": "80mKdLHsofza"
      },
      "source": [
        "## **`For` Statements**"
      ]
    },
    {
      "cell_type": "code",
      "source": [],
      "metadata": {
        "id": "Py4TwdkDcYYw"
      },
      "execution_count": null,
      "outputs": []
    },
    {
      "cell_type": "code",
      "source": [],
      "metadata": {
        "id": "WmgqpLJucYPI"
      },
      "execution_count": null,
      "outputs": []
    },
    {
      "cell_type": "code",
      "source": [],
      "metadata": {
        "id": "d4IGeqNCccdK"
      },
      "execution_count": null,
      "outputs": []
    },
    {
      "cell_type": "code",
      "source": [],
      "metadata": {
        "id": "97JB4mjaccWP"
      },
      "execution_count": null,
      "outputs": []
    },
    {
      "cell_type": "code",
      "source": [],
      "metadata": {
        "id": "nNqRAl8zccPo"
      },
      "execution_count": null,
      "outputs": []
    },
    {
      "cell_type": "code",
      "source": [],
      "metadata": {
        "id": "2mA8TYEHccKc"
      },
      "execution_count": null,
      "outputs": []
    },
    {
      "cell_type": "markdown",
      "metadata": {
        "collapsed": true,
        "id": "7YcFMvVaofzc"
      },
      "source": [
        "### **Simulating heads in 100 coin tosses**"
      ]
    },
    {
      "cell_type": "code",
      "execution_count": null,
      "metadata": {
        "id": "KA5hewe1ofzc"
      },
      "outputs": [],
      "source": []
    },
    {
      "cell_type": "code",
      "source": [],
      "metadata": {
        "id": "chg4E_LdQith"
      },
      "execution_count": null,
      "outputs": []
    },
    {
      "cell_type": "code",
      "source": [],
      "metadata": {
        "id": "I2JKLnn0Qpdg"
      },
      "execution_count": null,
      "outputs": []
    },
    {
      "cell_type": "code",
      "execution_count": null,
      "metadata": {
        "id": "ELHrGPwcofzc"
      },
      "outputs": [],
      "source": []
    },
    {
      "cell_type": "code",
      "execution_count": null,
      "metadata": {
        "id": "cSJxB1kLofzc"
      },
      "outputs": [],
      "source": [
        "# Simulate one outcome\n"
      ]
    },
    {
      "cell_type": "code",
      "execution_count": null,
      "metadata": {
        "id": "jtRXoYnaofzc"
      },
      "outputs": [],
      "source": [
        "# Decide how many times you want to repeat the experiment\n"
      ]
    },
    {
      "cell_type": "code",
      "execution_count": null,
      "metadata": {
        "id": "33izbr-iofzd"
      },
      "outputs": [],
      "source": [
        "# Simulate that many outcomes\n"
      ]
    },
    {
      "cell_type": "code",
      "execution_count": null,
      "metadata": {
        "id": "NgFSk9n7ofzd"
      },
      "outputs": [],
      "source": []
    },
    {
      "cell_type": "markdown",
      "source": [
        "### **Chance of At Least One Success in Independently Repeated Success/Failure Trials**"
      ],
      "metadata": {
        "id": "mSl8xsfjq0Tv"
      }
    },
    {
      "cell_type": "code",
      "source": [
        "# Chance of no sixes in 4 rolls of a die\n"
      ],
      "metadata": {
        "id": "ROlBVlsfq_Rm"
      },
      "execution_count": null,
      "outputs": []
    },
    {
      "cell_type": "code",
      "source": [
        "# Chance of at least one six in 4 rolls of a die\n"
      ],
      "metadata": {
        "id": "jDh2vLvVrdko"
      },
      "execution_count": null,
      "outputs": []
    },
    {
      "cell_type": "code",
      "source": [
        "# Chance of at least one six in n rolls of a die\n"
      ],
      "metadata": {
        "id": "rCZW5YhPrli9"
      },
      "execution_count": null,
      "outputs": []
    },
    {
      "cell_type": "code",
      "source": [],
      "metadata": {
        "id": "YQh8M5I1rwZl"
      },
      "execution_count": null,
      "outputs": []
    },
    {
      "cell_type": "markdown",
      "metadata": {
        "id": "v7AJyj-Fofzd"
      },
      "source": [
        "## **The Monty Hall Problem**"
      ]
    },
    {
      "cell_type": "code",
      "execution_count": null,
      "metadata": {
        "id": "f7FWGaOHofzd",
        "colab": {
          "base_uri": "https://localhost:8080/"
        },
        "outputId": "6c1632b4-f9dc-424f-b74c-2e1493462d23"
      },
      "outputs": [
        {
          "output_type": "execute_result",
          "data": {
            "text/plain": [
              "array(['first goat', 'second goat'],\n",
              "      dtype='<U11')"
            ]
          },
          "metadata": {},
          "execution_count": 157
        }
      ],
      "source": [
        "goats = make_array('first goat', 'second goat')\n",
        "goats"
      ]
    },
    {
      "cell_type": "code",
      "execution_count": null,
      "metadata": {
        "id": "onC1DzWhofzd"
      },
      "outputs": [],
      "source": [
        "def other_goat(x):\n",
        "    if x == 'first goat':\n",
        "        return 'second goat'\n",
        "    elif x == 'second goat':\n",
        "        return 'first goat'"
      ]
    },
    {
      "cell_type": "code",
      "source": [
        "[other_goat('first goat'), other_goat('second goat')]"
      ],
      "metadata": {
        "colab": {
          "base_uri": "https://localhost:8080/"
        },
        "id": "G7bR6DCmvvRd",
        "outputId": "ea60a486-0960-40d2-ccde-d69453a02772"
      },
      "execution_count": null,
      "outputs": [
        {
          "output_type": "execute_result",
          "data": {
            "text/plain": [
              "['second goat', 'first goat']"
            ]
          },
          "metadata": {},
          "execution_count": 160
        }
      ]
    },
    {
      "cell_type": "code",
      "source": [
        "hidden_behind_doors = np.append(goats, 'car')\n",
        "hidden_behind_doors"
      ],
      "metadata": {
        "colab": {
          "base_uri": "https://localhost:8080/"
        },
        "id": "uUP0ZY60vypy",
        "outputId": "a25c59da-ceac-45de-d08d-cf30a7e07e7b"
      },
      "execution_count": null,
      "outputs": [
        {
          "output_type": "execute_result",
          "data": {
            "text/plain": [
              "array(['first goat', 'second goat', 'car'],\n",
              "      dtype='<U11')"
            ]
          },
          "metadata": {},
          "execution_count": 161
        }
      ]
    },
    {
      "cell_type": "code",
      "source": [
        "def monty_hall_game():\n",
        "    \"\"\"Return \n",
        "    [contestant's guess, what Monty reveals, what remains behind the other door]\"\"\"\n",
        "    \n",
        "    contestant_guess = np.random.choice(hidden_behind_doors)\n",
        "    \n",
        "    if contestant_guess == 'first goat':\n",
        "        return [contestant_guess, 'second goat', 'car']\n",
        "    \n",
        "    if contestant_guess == 'second goat':\n",
        "        return [contestant_guess, 'first goat', 'car']\n",
        "    \n",
        "    if contestant_guess == 'car':\n",
        "        revealed = np.random.choice(goats)\n",
        "        return [contestant_guess, revealed, other_goat(revealed)]"
      ],
      "metadata": {
        "id": "9GtsJkFpv2fB"
      },
      "execution_count": null,
      "outputs": []
    },
    {
      "cell_type": "code",
      "source": [
        "monty_hall_game()"
      ],
      "metadata": {
        "colab": {
          "base_uri": "https://localhost:8080/"
        },
        "id": "TSFPjIXiwE2Q",
        "outputId": "5d9060a0-3be9-416a-faf8-729606f07054"
      },
      "execution_count": null,
      "outputs": [
        {
          "output_type": "execute_result",
          "data": {
            "text/plain": [
              "['car', 'second goat', 'first goat']"
            ]
          },
          "metadata": {},
          "execution_count": 175
        }
      ]
    },
    {
      "cell_type": "code",
      "source": [
        "games = Table(['Guess', 'Revealed', 'Remaining'])\n",
        "\n",
        "for i in np.arange(10000):\n",
        "    games.append(monty_hall_game())"
      ],
      "metadata": {
        "id": "UMzbG5YnwJ_M"
      },
      "execution_count": null,
      "outputs": []
    },
    {
      "cell_type": "code",
      "source": [
        "games.show(3)"
      ],
      "metadata": {
        "colab": {
          "base_uri": "https://localhost:8080/",
          "height": 173
        },
        "id": "AYhQ-_phwNiM",
        "outputId": "eb5da4b6-156d-47c6-e1b9-b665d61524d2"
      },
      "execution_count": null,
      "outputs": [
        {
          "output_type": "display_data",
          "data": {
            "text/plain": [
              "<IPython.core.display.HTML object>"
            ],
            "text/html": [
              "<table border=\"1\" class=\"dataframe\">\n",
              "    <thead>\n",
              "        <tr>\n",
              "            <th>Guess</th> <th>Revealed</th> <th>Remaining</th>\n",
              "        </tr>\n",
              "    </thead>\n",
              "    <tbody>\n",
              "        <tr>\n",
              "            <td>second goat</td> <td>first goat</td> <td>car      </td>\n",
              "        </tr>\n",
              "        <tr>\n",
              "            <td>second goat</td> <td>first goat</td> <td>car      </td>\n",
              "        </tr>\n",
              "        <tr>\n",
              "            <td>second goat</td> <td>first goat</td> <td>car      </td>\n",
              "        </tr>\n",
              "    </tbody>\n",
              "</table>\n",
              "<p>... (9997 rows omitted)</p>"
            ]
          },
          "metadata": {}
        }
      ]
    },
    {
      "cell_type": "code",
      "source": [
        "original_choice = games.group('Guess')\n",
        "original_choice"
      ],
      "metadata": {
        "colab": {
          "base_uri": "https://localhost:8080/",
          "height": 143
        },
        "id": "Kuudhz_XwT9-",
        "outputId": "bd807039-e38c-40c2-a3cd-ac66631043ec"
      },
      "execution_count": null,
      "outputs": [
        {
          "output_type": "execute_result",
          "data": {
            "text/plain": [
              "Guess       | count\n",
              "car         | 3293\n",
              "first goat  | 3393\n",
              "second goat | 3314"
            ],
            "text/html": [
              "<table border=\"1\" class=\"dataframe\">\n",
              "    <thead>\n",
              "        <tr>\n",
              "            <th>Guess</th> <th>count</th>\n",
              "        </tr>\n",
              "    </thead>\n",
              "    <tbody>\n",
              "        <tr>\n",
              "            <td>car        </td> <td>3293 </td>\n",
              "        </tr>\n",
              "        <tr>\n",
              "            <td>first goat </td> <td>3393 </td>\n",
              "        </tr>\n",
              "        <tr>\n",
              "            <td>second goat</td> <td>3314 </td>\n",
              "        </tr>\n",
              "    </tbody>\n",
              "</table>"
            ]
          },
          "metadata": {},
          "execution_count": 178
        }
      ]
    },
    {
      "cell_type": "code",
      "source": [
        "remaining_door = games.group('Remaining')\n",
        "remaining_door"
      ],
      "metadata": {
        "colab": {
          "base_uri": "https://localhost:8080/",
          "height": 143
        },
        "id": "zNijW38TwatJ",
        "outputId": "e49b47eb-33ac-47cb-d1a7-017943d1bf3f"
      },
      "execution_count": null,
      "outputs": [
        {
          "output_type": "execute_result",
          "data": {
            "text/plain": [
              "Remaining   | count\n",
              "car         | 6707\n",
              "first goat  | 1646\n",
              "second goat | 1647"
            ],
            "text/html": [
              "<table border=\"1\" class=\"dataframe\">\n",
              "    <thead>\n",
              "        <tr>\n",
              "            <th>Remaining</th> <th>count</th>\n",
              "        </tr>\n",
              "    </thead>\n",
              "    <tbody>\n",
              "        <tr>\n",
              "            <td>car        </td> <td>6707 </td>\n",
              "        </tr>\n",
              "        <tr>\n",
              "            <td>first goat </td> <td>1646 </td>\n",
              "        </tr>\n",
              "        <tr>\n",
              "            <td>second goat</td> <td>1647 </td>\n",
              "        </tr>\n",
              "    </tbody>\n",
              "</table>"
            ]
          },
          "metadata": {},
          "execution_count": 179
        }
      ]
    },
    {
      "cell_type": "code",
      "source": [
        "joined = original_choice.join('Guess', remaining_door, 'Remaining')\n",
        "combined = joined.relabeled(0, 'Item').relabeled(1, 'Original Door').relabeled(2, 'Remaining Door')\n",
        "combined"
      ],
      "metadata": {
        "colab": {
          "base_uri": "https://localhost:8080/",
          "height": 143
        },
        "id": "g1RlKXfgweUw",
        "outputId": "4d7c5b2c-2984-440d-83cd-d1cf8d065a07"
      },
      "execution_count": null,
      "outputs": [
        {
          "output_type": "execute_result",
          "data": {
            "text/plain": [
              "Item        | Original Door | Remaining Door\n",
              "car         | 3293          | 6707\n",
              "first goat  | 3393          | 1646\n",
              "second goat | 3314          | 1647"
            ],
            "text/html": [
              "<table border=\"1\" class=\"dataframe\">\n",
              "    <thead>\n",
              "        <tr>\n",
              "            <th>Item</th> <th>Original Door</th> <th>Remaining Door</th>\n",
              "        </tr>\n",
              "    </thead>\n",
              "    <tbody>\n",
              "        <tr>\n",
              "            <td>car        </td> <td>3293         </td> <td>6707          </td>\n",
              "        </tr>\n",
              "        <tr>\n",
              "            <td>first goat </td> <td>3393         </td> <td>1646          </td>\n",
              "        </tr>\n",
              "        <tr>\n",
              "            <td>second goat</td> <td>3314         </td> <td>1647          </td>\n",
              "        </tr>\n",
              "    </tbody>\n",
              "</table>"
            ]
          },
          "metadata": {},
          "execution_count": 180
        }
      ]
    },
    {
      "cell_type": "code",
      "source": [
        "combined.barh(0)"
      ],
      "metadata": {
        "colab": {
          "base_uri": "https://localhost:8080/",
          "height": 282
        },
        "id": "bX6v_9AAwgu0",
        "outputId": "ba9b1932-c051-4191-d1df-64c06a2b577a"
      },
      "execution_count": null,
      "outputs": [
        {
          "output_type": "display_data",
          "data": {
            "text/plain": [
              "<Figure size 432x288 with 1 Axes>"
            ],
            "image/png": "[encoded data removed]"
          },
          "metadata": {}
        }
      ]
    }
  ],
  "metadata": {
    "anaconda-cloud": {},
    "kernelspec": {
      "display_name": "Python 3",
      "language": "python",
      "name": "python3"
    },
    "language_info": {
      "codemirror_mode": {
        "name": "ipython",
        "version": 3
      },
      "file_extension": ".py",
      "mimetype": "text/x-python",
      "name": "python",
      "nbconvert_exporter": "python",
      "pygments_lexer": "ipython3",
      "version": "3.8.5"
    },
    "colab": {
      "provenance": [],
      "collapsed_sections": []
    }
  },
  "nbformat": 4,
  "nbformat_minor": 0
}
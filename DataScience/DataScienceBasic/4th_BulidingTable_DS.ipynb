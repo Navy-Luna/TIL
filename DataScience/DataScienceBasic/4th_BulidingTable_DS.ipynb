{
  "cells": [
    {
      "cell_type": "markdown",
      "source": [
        "# Lecture 04의 데모\n",
        "\n",
        "### Lecture 04의 데모에 대한 코드\n",
        "\n",
        "참고자료: https://github.com/data-8/materials-sp22/blob/main/lec/lec05.ipynb"
      ],
      "metadata": {
        "id": "k_5WHxS4bDgg"
      }
    },
    {
      "cell_type": "code",
      "source": [
        "import os\n",
        "from google.colab import drive\n",
        "\n",
        "drive.mount('/content/gdrive')\n",
        "\n",
        "%cd /content/gdrive/MyDrive/ITEC419-fa22/lec"
      ],
      "metadata": {
        "id": "HJsP9gm9c6fs",
        "colab": {
          "base_uri": "https://localhost:8080/"
        },
        "outputId": "5375788c-ed6e-4a28-a898-a575dcd57465"
      },
      "execution_count": 1,
      "outputs": [
        {
          "output_type": "stream",
          "name": "stdout",
          "text": [
            "Mounted at /content/gdrive\n",
            "/content/gdrive/MyDrive/ITEC419-fa22/lec\n"
          ]
        }
      ]
    },
    {
      "cell_type": "code",
      "execution_count": 2,
      "metadata": {
        "id": "kYA_rysSasQp"
      },
      "outputs": [],
      "source": [
        "from datascience import *\n",
        "import numpy as np"
      ]
    },
    {
      "cell_type": "markdown",
      "source": [
        "## Ranges"
      ],
      "metadata": {
        "id": "K8aAxkyZaag4"
      }
    },
    {
      "cell_type": "code",
      "source": [
        "# 앞에서 배웠던 make_array를 이용한 ndarray 만들기\n",
        "make_array(0,1,2,3,4,5,6)"
      ],
      "metadata": {
        "id": "Bw7huWi2ai1N",
        "colab": {
          "base_uri": "https://localhost:8080/"
        },
        "outputId": "4c720c07-d882-432a-fd83-48456c89342b"
      },
      "execution_count": 8,
      "outputs": [
        {
          "output_type": "execute_result",
          "data": {
            "text/plain": [
              "array([0, 1, 2, 3, 4, 5, 6])"
            ]
          },
          "metadata": {},
          "execution_count": 8
        }
      ]
    },
    {
      "cell_type": "code",
      "source": [
        "# 위의 예시처럼 동일한 ndarray 만들기\n",
        "# end-1까지 생성\n",
        "np.arange(7)"
      ],
      "metadata": {
        "id": "t1yBabtTY7RW",
        "colab": {
          "base_uri": "https://localhost:8080/"
        },
        "outputId": "7d58e87f-49d8-4dfb-94aa-7a3cc45294a8"
      },
      "execution_count": 10,
      "outputs": [
        {
          "output_type": "execute_result",
          "data": {
            "text/plain": [
              "array([0, 1, 2, 3, 4, 5, 6])"
            ]
          },
          "metadata": {},
          "execution_count": 10
        }
      ]
    },
    {
      "cell_type": "code",
      "source": [
        "# np.arange(start, end)\n",
        "# end-1까지 출력\n",
        "np.arange(5, 11)"
      ],
      "metadata": {
        "id": "cKCCWiC_Y7Uc",
        "colab": {
          "base_uri": "https://localhost:8080/"
        },
        "outputId": "3d08eb81-d1a8-4ce2-a066-6b5bc037d690"
      },
      "execution_count": 11,
      "outputs": [
        {
          "output_type": "execute_result",
          "data": {
            "text/plain": [
              "array([ 5,  6,  7,  8,  9, 10])"
            ]
          },
          "metadata": {},
          "execution_count": 11
        }
      ]
    },
    {
      "cell_type": "code",
      "source": [
        "# 세번재 인자는 step\n",
        "np.arange(0,20,2)"
      ],
      "metadata": {
        "id": "_l7XvBEBY7XY",
        "colab": {
          "base_uri": "https://localhost:8080/"
        },
        "outputId": "32818650-1b98-4f09-e4f2-ef738271b3e1"
      },
      "execution_count": 12,
      "outputs": [
        {
          "output_type": "execute_result",
          "data": {
            "text/plain": [
              "array([ 0,  2,  4,  6,  8, 10, 12, 14, 16, 18])"
            ]
          },
          "metadata": {},
          "execution_count": 12
        }
      ]
    },
    {
      "cell_type": "code",
      "source": [
        "np.arange(0,1,0.1)"
      ],
      "metadata": {
        "id": "sHCnx97ZY7aX",
        "colab": {
          "base_uri": "https://localhost:8080/"
        },
        "outputId": "6be8cde1-522d-4a99-fba1-9c16245f78df"
      },
      "execution_count": 14,
      "outputs": [
        {
          "output_type": "execute_result",
          "data": {
            "text/plain": [
              "array([ 0. ,  0.1,  0.2,  0.3,  0.4,  0.5,  0.6,  0.7,  0.8,  0.9])"
            ]
          },
          "metadata": {},
          "execution_count": 14
        }
      ]
    },
    {
      "cell_type": "code",
      "source": [
        "nba = Table.read_table('nba_salaries.csv').where('season', 2020).drop('season')\n",
        "warriors = nba.where('team', 'Golden State Warriors')\n"
      ],
      "metadata": {
        "id": "ooVLerLuY7d_"
      },
      "execution_count": 15,
      "outputs": []
    },
    {
      "cell_type": "code",
      "source": [
        "# 0부터 시작해서 특정행을 인덱스를 통해서 가져옴\n",
        "# 앞의 t.column(label)과 t.select(label)과 구분하자\n",
        "warriors.take(0)"
      ],
      "metadata": {
        "colab": {
          "base_uri": "https://localhost:8080/",
          "height": 81
        },
        "id": "H7HENDoF1mJ6",
        "outputId": "565da3da-6b66-4e05-981e-b0d37c7ad613"
      },
      "execution_count": 17,
      "outputs": [
        {
          "output_type": "execute_result",
          "data": {
            "text/plain": [
              "rank | name          | position | team                  | salary\n",
              "1    | Stephen Curry | PG       | Golden State Warriors | 40231758"
            ],
            "text/html": [
              "<table border=\"1\" class=\"dataframe\">\n",
              "    <thead>\n",
              "        <tr>\n",
              "            <th>rank</th> <th>name</th> <th>position</th> <th>team</th> <th>salary</th>\n",
              "        </tr>\n",
              "    </thead>\n",
              "    <tbody>\n",
              "        <tr>\n",
              "            <td>1   </td> <td>Stephen Curry</td> <td>PG      </td> <td>Golden State Warriors</td> <td>40231758</td>\n",
              "        </tr>\n",
              "    </tbody>\n",
              "</table>"
            ]
          },
          "metadata": {},
          "execution_count": 17
        }
      ]
    },
    {
      "cell_type": "code",
      "source": [
        "# take 괄호 자리에 array를 넣음으로서 여러 행을 가져올 수 있음\n",
        "warriors.take(np.arange(3))"
      ],
      "metadata": {
        "colab": {
          "base_uri": "https://localhost:8080/",
          "height": 143
        },
        "id": "LN6FIRom149c",
        "outputId": "f68e50d8-2405-4810-b629-46890aee4f70"
      },
      "execution_count": 21,
      "outputs": [
        {
          "output_type": "execute_result",
          "data": {
            "text/plain": [
              "rank | name           | position | team                  | salary\n",
              "1    | Stephen Curry  | PG       | Golden State Warriors | 40231758\n",
              "13   | Klay Thompson  | SG       | Golden State Warriors | 32742000\n",
              "60   | Draymond Green | PF       | Golden State Warriors | 18539130"
            ],
            "text/html": [
              "<table border=\"1\" class=\"dataframe\">\n",
              "    <thead>\n",
              "        <tr>\n",
              "            <th>rank</th> <th>name</th> <th>position</th> <th>team</th> <th>salary</th>\n",
              "        </tr>\n",
              "    </thead>\n",
              "    <tbody>\n",
              "        <tr>\n",
              "            <td>1   </td> <td>Stephen Curry </td> <td>PG      </td> <td>Golden State Warriors</td> <td>40231758</td>\n",
              "        </tr>\n",
              "        <tr>\n",
              "            <td>13  </td> <td>Klay Thompson </td> <td>SG      </td> <td>Golden State Warriors</td> <td>32742000</td>\n",
              "        </tr>\n",
              "        <tr>\n",
              "            <td>60  </td> <td>Draymond Green</td> <td>PF      </td> <td>Golden State Warriors</td> <td>18539130</td>\n",
              "        </tr>\n",
              "    </tbody>\n",
              "</table>"
            ]
          },
          "metadata": {},
          "execution_count": 21
        }
      ]
    },
    {
      "cell_type": "code",
      "source": [
        "# warrior 테이블에 0-4에 해당하는 행에서의 salary 부분을 array로 가져와서 더해라\n",
        "np.sum(warriors.take(np.arange(5)).column('salary'))"
      ],
      "metadata": {
        "colab": {
          "base_uri": "https://localhost:8080/"
        },
        "id": "fNteS26c2KRG",
        "outputId": "e33eb573-e56f-4128-d9c7-c316e486fc4b"
      },
      "execution_count": 25,
      "outputs": [
        {
          "output_type": "execute_result",
          "data": {
            "text/plain": [
              "98154597"
            ]
          },
          "metadata": {},
          "execution_count": 25
        }
      ]
    },
    {
      "cell_type": "markdown",
      "source": [
        "## Ways to Create a Table"
      ],
      "metadata": {
        "id": "qugruVuZgSrM"
      }
    },
    {
      "cell_type": "markdown",
      "source": [
        "### Creating a Table from Scratch"
      ],
      "metadata": {
        "id": "ex3GjKn9soa-"
      }
    },
    {
      "cell_type": "code",
      "source": [
        "streets = make_array('Bancroft', 'Durant', 'Channing', 'Haste')\n",
        "streets"
      ],
      "metadata": {
        "id": "lRTi5iq5gYhw",
        "colab": {
          "base_uri": "https://localhost:8080/"
        },
        "outputId": "8255b707-4873-4a7c-bada-a19132733528"
      },
      "execution_count": 26,
      "outputs": [
        {
          "output_type": "execute_result",
          "data": {
            "text/plain": [
              "array(['Bancroft', 'Durant', 'Channing', 'Haste'],\n",
              "      dtype='<U8')"
            ]
          },
          "metadata": {},
          "execution_count": 26
        }
      ]
    },
    {
      "cell_type": "code",
      "source": [
        "Table()"
      ],
      "metadata": {
        "id": "huFEbdGXgqlz",
        "colab": {
          "base_uri": "https://localhost:8080/",
          "height": 17
        },
        "outputId": "637783ad-683b-4d89-b40c-4d6734bc2179"
      },
      "execution_count": 27,
      "outputs": [
        {
          "output_type": "execute_result",
          "data": {
            "text/plain": [],
            "text/html": [
              "<table border=\"1\" class=\"dataframe\">\n",
              "    <thead>\n",
              "        <tr>\n",
              "            \n",
              "        </tr>\n",
              "    </thead>\n",
              "    <tbody>\n",
              "    </tbody>\n",
              "</table>"
            ]
          },
          "metadata": {},
          "execution_count": 27
        }
      ]
    },
    {
      "cell_type": "code",
      "source": [
        "# Table().with_column(Label이름, array)해서 테이블에 추가함\n",
        "southside = Table().with_column('Streets', streets)\n",
        "southside"
      ],
      "metadata": {
        "id": "B_Dr7395ZIGP",
        "colab": {
          "base_uri": "https://localhost:8080/",
          "height": 175
        },
        "outputId": "4cfdaf55-86c5-45d6-c593-2816b7924382"
      },
      "execution_count": 28,
      "outputs": [
        {
          "output_type": "execute_result",
          "data": {
            "text/plain": [
              "Streets\n",
              "Bancroft\n",
              "Durant\n",
              "Channing\n",
              "Haste"
            ],
            "text/html": [
              "<table border=\"1\" class=\"dataframe\">\n",
              "    <thead>\n",
              "        <tr>\n",
              "            <th>Streets</th>\n",
              "        </tr>\n",
              "    </thead>\n",
              "    <tbody>\n",
              "        <tr>\n",
              "            <td>Bancroft</td>\n",
              "        </tr>\n",
              "        <tr>\n",
              "            <td>Durant  </td>\n",
              "        </tr>\n",
              "        <tr>\n",
              "            <td>Channing</td>\n",
              "        </tr>\n",
              "        <tr>\n",
              "            <td>Haste   </td>\n",
              "        </tr>\n",
              "    </tbody>\n",
              "</table>"
            ]
          },
          "metadata": {},
          "execution_count": 28
        }
      ]
    },
    {
      "cell_type": "code",
      "source": [
        "southside.with_column('Blocks from campus', np.arange(4))"
      ],
      "metadata": {
        "id": "pKkEG87uZIWG",
        "colab": {
          "base_uri": "https://localhost:8080/",
          "height": 175
        },
        "outputId": "29953495-fe16-4b70-a27e-c31ebbf34955"
      },
      "execution_count": 29,
      "outputs": [
        {
          "output_type": "execute_result",
          "data": {
            "text/plain": [
              "Streets  | Blocks from campus\n",
              "Bancroft | 0\n",
              "Durant   | 1\n",
              "Channing | 2\n",
              "Haste    | 3"
            ],
            "text/html": [
              "<table border=\"1\" class=\"dataframe\">\n",
              "    <thead>\n",
              "        <tr>\n",
              "            <th>Streets</th> <th>Blocks from campus</th>\n",
              "        </tr>\n",
              "    </thead>\n",
              "    <tbody>\n",
              "        <tr>\n",
              "            <td>Bancroft</td> <td>0                 </td>\n",
              "        </tr>\n",
              "        <tr>\n",
              "            <td>Durant  </td> <td>1                 </td>\n",
              "        </tr>\n",
              "        <tr>\n",
              "            <td>Channing</td> <td>2                 </td>\n",
              "        </tr>\n",
              "        <tr>\n",
              "            <td>Haste   </td> <td>3                 </td>\n",
              "        </tr>\n",
              "    </tbody>\n",
              "</table>"
            ]
          },
          "metadata": {},
          "execution_count": 29
        }
      ]
    },
    {
      "cell_type": "code",
      "source": [
        "southside"
      ],
      "metadata": {
        "id": "BhDfreQ3ZIZV",
        "colab": {
          "base_uri": "https://localhost:8080/",
          "height": 175
        },
        "outputId": "1cb1b8fb-8efc-4796-feaa-2784a17ae6e9"
      },
      "execution_count": 30,
      "outputs": [
        {
          "output_type": "execute_result",
          "data": {
            "text/plain": [
              "Streets\n",
              "Bancroft\n",
              "Durant\n",
              "Channing\n",
              "Haste"
            ],
            "text/html": [
              "<table border=\"1\" class=\"dataframe\">\n",
              "    <thead>\n",
              "        <tr>\n",
              "            <th>Streets</th>\n",
              "        </tr>\n",
              "    </thead>\n",
              "    <tbody>\n",
              "        <tr>\n",
              "            <td>Bancroft</td>\n",
              "        </tr>\n",
              "        <tr>\n",
              "            <td>Durant  </td>\n",
              "        </tr>\n",
              "        <tr>\n",
              "            <td>Channing</td>\n",
              "        </tr>\n",
              "        <tr>\n",
              "            <td>Haste   </td>\n",
              "        </tr>\n",
              "    </tbody>\n",
              "</table>"
            ]
          },
          "metadata": {},
          "execution_count": 30
        }
      ]
    },
    {
      "cell_type": "code",
      "source": [
        "southside = southside.with_column('Blocks from campus', np.arange(4))\n",
        "southside"
      ],
      "metadata": {
        "id": "tgxoOt_FZIdK",
        "colab": {
          "base_uri": "https://localhost:8080/",
          "height": 175
        },
        "outputId": "66157116-8c3b-4e81-e21c-1a2a6b0abd0a"
      },
      "execution_count": 31,
      "outputs": [
        {
          "output_type": "execute_result",
          "data": {
            "text/plain": [
              "Streets  | Blocks from campus\n",
              "Bancroft | 0\n",
              "Durant   | 1\n",
              "Channing | 2\n",
              "Haste    | 3"
            ],
            "text/html": [
              "<table border=\"1\" class=\"dataframe\">\n",
              "    <thead>\n",
              "        <tr>\n",
              "            <th>Streets</th> <th>Blocks from campus</th>\n",
              "        </tr>\n",
              "    </thead>\n",
              "    <tbody>\n",
              "        <tr>\n",
              "            <td>Bancroft</td> <td>0                 </td>\n",
              "        </tr>\n",
              "        <tr>\n",
              "            <td>Durant  </td> <td>1                 </td>\n",
              "        </tr>\n",
              "        <tr>\n",
              "            <td>Channing</td> <td>2                 </td>\n",
              "        </tr>\n",
              "        <tr>\n",
              "            <td>Haste   </td> <td>3                 </td>\n",
              "        </tr>\n",
              "    </tbody>\n",
              "</table>"
            ]
          },
          "metadata": {},
          "execution_count": 31
        }
      ]
    },
    {
      "cell_type": "code",
      "source": [
        "# 괄호를 길게 늘여서 여러개를 한번에 작성할 수 있음 -> 가독성 좋음\n",
        "Table().with_columns(\n",
        "    'Streets', streets,\n",
        "    'Blocks from campus', np.arange(4)\n",
        ")"
      ],
      "metadata": {
        "id": "SlXZB1aBZIj9",
        "colab": {
          "base_uri": "https://localhost:8080/",
          "height": 175
        },
        "outputId": "4f638757-0d44-453f-91ee-cb9d32a10afe"
      },
      "execution_count": 32,
      "outputs": [
        {
          "output_type": "execute_result",
          "data": {
            "text/plain": [
              "Streets  | Blocks from campus\n",
              "Bancroft | 0\n",
              "Durant   | 1\n",
              "Channing | 2\n",
              "Haste    | 3"
            ],
            "text/html": [
              "<table border=\"1\" class=\"dataframe\">\n",
              "    <thead>\n",
              "        <tr>\n",
              "            <th>Streets</th> <th>Blocks from campus</th>\n",
              "        </tr>\n",
              "    </thead>\n",
              "    <tbody>\n",
              "        <tr>\n",
              "            <td>Bancroft</td> <td>0                 </td>\n",
              "        </tr>\n",
              "        <tr>\n",
              "            <td>Durant  </td> <td>1                 </td>\n",
              "        </tr>\n",
              "        <tr>\n",
              "            <td>Channing</td> <td>2                 </td>\n",
              "        </tr>\n",
              "        <tr>\n",
              "            <td>Haste   </td> <td>3                 </td>\n",
              "        </tr>\n",
              "    </tbody>\n",
              "</table>"
            ]
          },
          "metadata": {},
          "execution_count": 32
        }
      ]
    },
    {
      "cell_type": "markdown",
      "source": [
        "### Reading a Table from a File"
      ],
      "metadata": {
        "id": "kU106NtAsilD"
      }
    },
    {
      "cell_type": "code",
      "source": [
        "Table.read_table('du_bois.csv')"
      ],
      "metadata": {
        "id": "qC983cWWslNQ"
      },
      "execution_count": null,
      "outputs": []
    },
    {
      "cell_type": "markdown",
      "source": [
        "**Discussion**: Which group (\"CLASS\") spent the highest percentage on rent?"
      ],
      "metadata": {
        "id": "W8_nCCk5ZW0l"
      }
    },
    {
      "cell_type": "code",
      "source": [],
      "metadata": {
        "id": "EoR_Cg3xwruF"
      },
      "execution_count": null,
      "outputs": []
    },
    {
      "cell_type": "code",
      "source": [],
      "metadata": {
        "id": "0n7AIezsZt5n"
      },
      "execution_count": null,
      "outputs": []
    },
    {
      "cell_type": "code",
      "source": [],
      "metadata": {
        "id": "BrOjYxg4Zt8h"
      },
      "execution_count": null,
      "outputs": []
    },
    {
      "cell_type": "code",
      "source": [],
      "metadata": {
        "id": "xGTUFj2EZt_k"
      },
      "execution_count": null,
      "outputs": []
    },
    {
      "cell_type": "code",
      "source": [
        "%matplotlib inline\n",
        "import matplotlib.pyplot as plots\n",
        "plots.style.use('fivethirtyeight')"
      ],
      "metadata": {
        "id": "68OXuTDjzMlx"
      },
      "execution_count": null,
      "outputs": []
    },
    {
      "cell_type": "code",
      "source": [],
      "metadata": {
        "id": "DhmTSXeqywnf"
      },
      "execution_count": null,
      "outputs": []
    },
    {
      "cell_type": "code",
      "source": [],
      "metadata": {
        "id": "rGOMMUawZ2_A"
      },
      "execution_count": null,
      "outputs": []
    },
    {
      "cell_type": "markdown",
      "source": [
        "## Discussion Question: NBA Salaries"
      ],
      "metadata": {
        "id": "UUNs223OabDe"
      }
    },
    {
      "cell_type": "code",
      "source": [
        "nba = Table.read_table('nba_salaries.csv')\n",
        "nba.show(3)"
      ],
      "metadata": {
        "id": "4wOqC9Sgaev5",
        "colab": {
          "base_uri": "https://localhost:8080/",
          "height": 173
        },
        "outputId": "972bcf03-a22b-4761-9e72-995bc21767ee"
      },
      "execution_count": null,
      "outputs": [
        {
          "output_type": "display_data",
          "data": {
            "text/plain": [
              "<IPython.core.display.HTML object>"
            ],
            "text/html": [
              "<table border=\"1\" class=\"dataframe\">\n",
              "    <thead>\n",
              "        <tr>\n",
              "            <th>rank</th> <th>name</th> <th>position</th> <th>team</th> <th>salary</th> <th>season</th>\n",
              "        </tr>\n",
              "    </thead>\n",
              "    <tbody>\n",
              "        <tr>\n",
              "            <td>1   </td> <td>Shaquille O'Neal</td> <td>C       </td> <td>Los Angeles Lakers    </td> <td>17142000</td> <td>2000  </td>\n",
              "        </tr>\n",
              "        <tr>\n",
              "            <td>2   </td> <td>Kevin Garnett   </td> <td>PF      </td> <td>Minnesota Timberwolves</td> <td>16806000</td> <td>2000  </td>\n",
              "        </tr>\n",
              "        <tr>\n",
              "            <td>3   </td> <td>Alonzo Mourning </td> <td>C       </td> <td>Miami Heat            </td> <td>15004000</td> <td>2000  </td>\n",
              "        </tr>\n",
              "    </tbody>\n",
              "</table>\n",
              "<p>... (9453 rows omitted)</p>"
            ]
          },
          "metadata": {}
        }
      ]
    },
    {
      "cell_type": "code",
      "source": [
        "from google.colab import drive\n",
        "drive.mount('/content/drive')"
      ],
      "metadata": {
        "id": "VSzwBfaqpZzf"
      },
      "execution_count": null,
      "outputs": []
    },
    {
      "cell_type": "markdown",
      "source": [
        "**Question (a)**: Create an array containing the names of all point guards (PG) who made more than $15M."
      ],
      "metadata": {
        "id": "RYIVNCTS3xEC"
      }
    },
    {
      "cell_type": "code",
      "source": [],
      "metadata": {
        "id": "Fv4PYFsIah3P"
      },
      "execution_count": null,
      "outputs": []
    },
    {
      "cell_type": "code",
      "source": [],
      "metadata": {
        "id": "QBN7K9Ys4Az1"
      },
      "execution_count": null,
      "outputs": []
    },
    {
      "cell_type": "markdown",
      "source": [
        "**Question (b)**: After evaluating these two expressions in order, what’s the result of the second one?\n",
        "\n",
        "    nba.drop('position')\n",
        "    nba.num_columns"
      ],
      "metadata": {
        "id": "MX9q-ckU31rm"
      }
    },
    {
      "cell_type": "code",
      "source": [],
      "metadata": {
        "id": "9dOG73Xqa6Bc"
      },
      "execution_count": null,
      "outputs": []
    },
    {
      "cell_type": "markdown",
      "source": [
        "**Question (c)**: Who gets the highest salary among non-point guard players?"
      ],
      "metadata": {
        "id": "fEezhajy32-4"
      }
    },
    {
      "cell_type": "code",
      "source": [
        "nba.where('position', are.not_equal_to('PG')).sort('salary', descending=True).column('name').item(0)"
      ],
      "metadata": {
        "id": "AEGTsqx-32YK",
        "colab": {
          "base_uri": "https://localhost:8080/",
          "height": 36
        },
        "outputId": "18ba0158-9c2a-4e14-8d92-0f845cfbcc77"
      },
      "execution_count": null,
      "outputs": [
        {
          "output_type": "execute_result",
          "data": {
            "text/plain": [
              "'Kevin Durant'"
            ],
            "application/vnd.google.colaboratory.intrinsic+json": {
              "type": "string"
            }
          },
          "metadata": {},
          "execution_count": 8
        }
      ]
    },
    {
      "cell_type": "markdown",
      "source": [
        "**Question (d)**: Create an array containing the names of the most frequently selected players in the annual salary top."
      ],
      "metadata": {
        "id": "ErC6kEZY4HRg"
      }
    },
    {
      "cell_type": "code",
      "source": [
        "# 각 연도에서 top 1 랭크인 사람을 보여달라.\n",
        "nba.where('rank', are.equal_to(1))"
      ],
      "metadata": {
        "id": "y05n5SPM4LdT",
        "colab": {
          "base_uri": "https://localhost:8080/",
          "height": 392
        },
        "outputId": "e351834c-5ed2-456a-a8dd-5593e1700c7f"
      },
      "execution_count": null,
      "outputs": [
        {
          "output_type": "execute_result",
          "data": {
            "text/plain": [
              "rank | name             | position | team                   | salary   | season\n",
              "1    | Shaquille O'Neal | C        | Los Angeles Lakers     | 17142000 | 2000\n",
              "1    | Kevin Garnett    | PF       | Minnesota Timberwolves | 19600000 | 2001\n",
              "1    | Kevin Garnett    | PF       | Minnesota Timberwolves | 22400000 | 2002\n",
              "1    | Kevin Garnett    | PF       | Minnesota Timberwolves | 25200000 | 2003\n",
              "1    | Kevin Garnett    | PF       | Minnesota Timberwolves | 28000000 | 2004\n",
              "1    | Shaquille O'Neal | C        | Miami Heat             | 29464000 | 2005\n",
              "1    | Shaquille O'Neal | C        | Miami Heat             | 20000000 | 2006\n",
              "1    | Kevin Garnett    | PF       | Minnesota Timberwolves | 21000000 | 2007\n",
              "1    | Kevin Garnett    | PF       | Boston Celtics         | 23751934 | 2008\n",
              "1    | Kevin Garnett    | PF       | Boston Celtics         | 24751934 | 2009\n",
              "... (11 rows omitted)"
            ],
            "text/html": [
              "<table border=\"1\" class=\"dataframe\">\n",
              "    <thead>\n",
              "        <tr>\n",
              "            <th>rank</th> <th>name</th> <th>position</th> <th>team</th> <th>salary</th> <th>season</th>\n",
              "        </tr>\n",
              "    </thead>\n",
              "    <tbody>\n",
              "        <tr>\n",
              "            <td>1   </td> <td>Shaquille O'Neal</td> <td>C       </td> <td>Los Angeles Lakers    </td> <td>17142000</td> <td>2000  </td>\n",
              "        </tr>\n",
              "        <tr>\n",
              "            <td>1   </td> <td>Kevin Garnett   </td> <td>PF      </td> <td>Minnesota Timberwolves</td> <td>19600000</td> <td>2001  </td>\n",
              "        </tr>\n",
              "        <tr>\n",
              "            <td>1   </td> <td>Kevin Garnett   </td> <td>PF      </td> <td>Minnesota Timberwolves</td> <td>22400000</td> <td>2002  </td>\n",
              "        </tr>\n",
              "        <tr>\n",
              "            <td>1   </td> <td>Kevin Garnett   </td> <td>PF      </td> <td>Minnesota Timberwolves</td> <td>25200000</td> <td>2003  </td>\n",
              "        </tr>\n",
              "        <tr>\n",
              "            <td>1   </td> <td>Kevin Garnett   </td> <td>PF      </td> <td>Minnesota Timberwolves</td> <td>28000000</td> <td>2004  </td>\n",
              "        </tr>\n",
              "        <tr>\n",
              "            <td>1   </td> <td>Shaquille O'Neal</td> <td>C       </td> <td>Miami Heat            </td> <td>29464000</td> <td>2005  </td>\n",
              "        </tr>\n",
              "        <tr>\n",
              "            <td>1   </td> <td>Shaquille O'Neal</td> <td>C       </td> <td>Miami Heat            </td> <td>20000000</td> <td>2006  </td>\n",
              "        </tr>\n",
              "        <tr>\n",
              "            <td>1   </td> <td>Kevin Garnett   </td> <td>PF      </td> <td>Minnesota Timberwolves</td> <td>21000000</td> <td>2007  </td>\n",
              "        </tr>\n",
              "        <tr>\n",
              "            <td>1   </td> <td>Kevin Garnett   </td> <td>PF      </td> <td>Boston Celtics        </td> <td>23751934</td> <td>2008  </td>\n",
              "        </tr>\n",
              "        <tr>\n",
              "            <td>1   </td> <td>Kevin Garnett   </td> <td>PF      </td> <td>Boston Celtics        </td> <td>24751934</td> <td>2009  </td>\n",
              "        </tr>\n",
              "    </tbody>\n",
              "</table>\n",
              "<p>... (11 rows omitted)</p>"
            ]
          },
          "metadata": {},
          "execution_count": 10
        }
      ]
    },
    {
      "cell_type": "code",
      "source": [
        "# group(name)은 동일한 이름에대해 카운트를 세서 보여줌\n",
        "top_player_of_year = nba.where('rank', 1).group('name').sort('count', descending=True)\n",
        "top_player_of_year"
      ],
      "metadata": {
        "id": "rLie6V9_4Stt",
        "colab": {
          "base_uri": "https://localhost:8080/",
          "height": 206
        },
        "outputId": "0ea3973f-da5a-482c-a954-c9f314284640"
      },
      "execution_count": null,
      "outputs": [
        {
          "output_type": "execute_result",
          "data": {
            "text/plain": [
              "name             | count\n",
              "Kevin Garnett    | 7\n",
              "Kobe Bryant      | 7\n",
              "Shaquille O'Neal | 3\n",
              "Stephen Curry    | 3\n",
              "LeBron James     | 1"
            ],
            "text/html": [
              "<table border=\"1\" class=\"dataframe\">\n",
              "    <thead>\n",
              "        <tr>\n",
              "            <th>name</th> <th>count</th>\n",
              "        </tr>\n",
              "    </thead>\n",
              "    <tbody>\n",
              "        <tr>\n",
              "            <td>Kevin Garnett   </td> <td>7    </td>\n",
              "        </tr>\n",
              "        <tr>\n",
              "            <td>Kobe Bryant     </td> <td>7    </td>\n",
              "        </tr>\n",
              "        <tr>\n",
              "            <td>Shaquille O'Neal</td> <td>3    </td>\n",
              "        </tr>\n",
              "        <tr>\n",
              "            <td>Stephen Curry   </td> <td>3    </td>\n",
              "        </tr>\n",
              "        <tr>\n",
              "            <td>LeBron James    </td> <td>1    </td>\n",
              "        </tr>\n",
              "    </tbody>\n",
              "</table>"
            ]
          },
          "metadata": {},
          "execution_count": 13
        }
      ]
    },
    {
      "cell_type": "code",
      "source": [
        "# 제일 큰 count 값에 대해서 뽑기 -> 뒤에 column 사용해서 이름만 뽑기\n",
        "top_player_of_year.where('count', top_player_of_year.first('count')).column('name')"
      ],
      "metadata": {
        "id": "PFD0ZLHT4TBu",
        "colab": {
          "base_uri": "https://localhost:8080/"
        },
        "outputId": "680d12b8-f507-4941-d602-df1dcec07bb8"
      },
      "execution_count": null,
      "outputs": [
        {
          "output_type": "execute_result",
          "data": {
            "text/plain": [
              "array(['Kevin Garnett', 'Kobe Bryant'],\n",
              "      dtype='<U16')"
            ]
          },
          "metadata": {},
          "execution_count": 17
        }
      ]
    },
    {
      "cell_type": "markdown",
      "source": [
        "**Question (e)**: Create an array containing the names of the most frequently selected players in the annual salary top 10."
      ],
      "metadata": {
        "id": "mF4e8lmf4TzK"
      }
    },
    {
      "cell_type": "code",
      "source": [
        "top10_player_of_year = nba.where('rank', are.below(10)).group('name').sort('count', descending=True)\n",
        "top10_player_of_year"
      ],
      "metadata": {
        "id": "s86M_2T84U6H",
        "colab": {
          "base_uri": "https://localhost:8080/",
          "height": 392
        },
        "outputId": "aa026623-1c26-4d0e-d83b-bb3df442cd01"
      },
      "execution_count": null,
      "outputs": [
        {
          "output_type": "execute_result",
          "data": {
            "text/plain": [
              "name             | count\n",
              "Kevin Garnett    | 11\n",
              "Kobe Bryant      | 11\n",
              "Shaquille O'Neal | 11\n",
              "LeBron James     | 7\n",
              "Tim Duncan       | 7\n",
              "Carmelo Anthony  | 6\n",
              "Allen Iverson    | 5\n",
              "Dikembe Mutombo  | 5\n",
              "Dirk Nowitzki    | 5\n",
              "Jermaine O'Neal  | 5\n",
              "... (52 rows omitted)"
            ],
            "text/html": [
              "<table border=\"1\" class=\"dataframe\">\n",
              "    <thead>\n",
              "        <tr>\n",
              "            <th>name</th> <th>count</th>\n",
              "        </tr>\n",
              "    </thead>\n",
              "    <tbody>\n",
              "        <tr>\n",
              "            <td>Kevin Garnett   </td> <td>11   </td>\n",
              "        </tr>\n",
              "        <tr>\n",
              "            <td>Kobe Bryant     </td> <td>11   </td>\n",
              "        </tr>\n",
              "        <tr>\n",
              "            <td>Shaquille O'Neal</td> <td>11   </td>\n",
              "        </tr>\n",
              "        <tr>\n",
              "            <td>LeBron James    </td> <td>7    </td>\n",
              "        </tr>\n",
              "        <tr>\n",
              "            <td>Tim Duncan      </td> <td>7    </td>\n",
              "        </tr>\n",
              "        <tr>\n",
              "            <td>Carmelo Anthony </td> <td>6    </td>\n",
              "        </tr>\n",
              "        <tr>\n",
              "            <td>Allen Iverson   </td> <td>5    </td>\n",
              "        </tr>\n",
              "        <tr>\n",
              "            <td>Dikembe Mutombo </td> <td>5    </td>\n",
              "        </tr>\n",
              "        <tr>\n",
              "            <td>Dirk Nowitzki   </td> <td>5    </td>\n",
              "        </tr>\n",
              "        <tr>\n",
              "            <td>Jermaine O'Neal </td> <td>5    </td>\n",
              "        </tr>\n",
              "    </tbody>\n",
              "</table>\n",
              "<p>... (52 rows omitted)</p>"
            ]
          },
          "metadata": {},
          "execution_count": 20
        }
      ]
    },
    {
      "cell_type": "code",
      "source": [
        "top10_player_of_year.where('count', top10_player_of_year.first('count')).column('name')"
      ],
      "metadata": {
        "id": "M_TsYNBm4VT4",
        "colab": {
          "base_uri": "https://localhost:8080/"
        },
        "outputId": "5e1fc2ae-e4d2-48d5-8824-44bc379e2f8a"
      },
      "execution_count": null,
      "outputs": [
        {
          "output_type": "execute_result",
          "data": {
            "text/plain": [
              "array(['Kevin Garnett', 'Kobe Bryant', \"Shaquille O'Neal\"],\n",
              "      dtype='<U19')"
            ]
          },
          "metadata": {},
          "execution_count": 22
        }
      ]
    },
    {
      "cell_type": "markdown",
      "source": [
        "## Census"
      ],
      "metadata": {
        "id": "qAbcd1V24ZbF"
      }
    },
    {
      "cell_type": "code",
      "source": [
        "full = Table.read_table('nc-est2019-agesex-res.csv')\n",
        "full"
      ],
      "metadata": {
        "id": "-mDN563C4aQO",
        "colab": {
          "base_uri": "https://localhost:8080/",
          "height": 412
        },
        "outputId": "59426b77-a6a6-4433-d726-935563d78e60"
      },
      "execution_count": null,
      "outputs": [
        {
          "output_type": "execute_result",
          "data": {
            "text/plain": [
              "SEX  | AGE  | CENSUS2010POP | ESTIMATESBASE2010 | POPESTIMATE2010 | POPESTIMATE2011 | POPESTIMATE2012 | POPESTIMATE2013 | POPESTIMATE2014 | POPESTIMATE2015 | POPESTIMATE2016 | POPESTIMATE2017 | POPESTIMATE2018 | POPESTIMATE2019\n",
              "0    | 0    | 3944153       | 3944160           | 3951430         | 3963092         | 3926570         | 3931258         | 3954787         | 3983981         | 3954773         | 3893990         | 3815343         | 3783052\n",
              "0    | 1    | 3978070       | 3978090           | 3957730         | 3966225         | 3977549         | 3942698         | 3948891         | 3973133         | 4002903         | 3972711         | 3908830         | 3829599\n",
              "0    | 2    | 4096929       | 4096939           | 4090621         | 3970654         | 3978925         | 3991740         | 3958711         | 3966321         | 3991349         | 4020045         | 3987032         | 3922044\n",
              "0    | 3    | 4119040       | 4119051           | 4111688         | 4101644         | 3981531         | 3991017         | 4005928         | 3974351         | 3982984         | 4006946         | 4033038         | 3998665\n",
              "0    | 4    | 4063170       | 4063186           | 4077346         | 4121488         | 4111490         | 3992502         | 4004032         | 4020292         | 3989750         | 3997280         | 4018719         | 4043323\n",
              "0    | 5    | 4056858       | 4056872           | 4064521         | 4087054         | 4131049         | 4121876         | 4004576         | 4017589         | 4035033         | 4003452         | 4008443         | 4028281\n",
              "0    | 6    | 4066381       | 4066412           | 4072904         | 4074531         | 4096631         | 4141126         | 4133372         | 4017388         | 4031568         | 4048018         | 4014057         | 4017227\n",
              "0    | 7    | 4030579       | 4030594           | 4042990         | 4082821         | 4084175         | 4106756         | 4152666         | 4145872         | 4030888         | 4044139         | 4058370         | 4022319\n",
              "0    | 8    | 4046486       | 4046497           | 4025501         | 4052773         | 4092559         | 4094513         | 4118349         | 4165033         | 4158848         | 4042924         | 4054236         | 4066194\n",
              "0    | 9    | 4148353       | 4148369           | 4125312         | 4035319         | 4062726         | 4103052         | 4106068         | 4130887         | 4177895         | 4170813         | 4053179         | 4061874\n",
              "... (296 rows omitted)"
            ],
            "text/html": [
              "<table border=\"1\" class=\"dataframe\">\n",
              "    <thead>\n",
              "        <tr>\n",
              "            <th>SEX</th> <th>AGE</th> <th>CENSUS2010POP</th> <th>ESTIMATESBASE2010</th> <th>POPESTIMATE2010</th> <th>POPESTIMATE2011</th> <th>POPESTIMATE2012</th> <th>POPESTIMATE2013</th> <th>POPESTIMATE2014</th> <th>POPESTIMATE2015</th> <th>POPESTIMATE2016</th> <th>POPESTIMATE2017</th> <th>POPESTIMATE2018</th> <th>POPESTIMATE2019</th>\n",
              "        </tr>\n",
              "    </thead>\n",
              "    <tbody>\n",
              "        <tr>\n",
              "            <td>0   </td> <td>0   </td> <td>3944153      </td> <td>3944160          </td> <td>3951430        </td> <td>3963092        </td> <td>3926570        </td> <td>3931258        </td> <td>3954787        </td> <td>3983981        </td> <td>3954773        </td> <td>3893990        </td> <td>3815343        </td> <td>3783052        </td>\n",
              "        </tr>\n",
              "        <tr>\n",
              "            <td>0   </td> <td>1   </td> <td>3978070      </td> <td>3978090          </td> <td>3957730        </td> <td>3966225        </td> <td>3977549        </td> <td>3942698        </td> <td>3948891        </td> <td>3973133        </td> <td>4002903        </td> <td>3972711        </td> <td>3908830        </td> <td>3829599        </td>\n",
              "        </tr>\n",
              "        <tr>\n",
              "            <td>0   </td> <td>2   </td> <td>4096929      </td> <td>4096939          </td> <td>4090621        </td> <td>3970654        </td> <td>3978925        </td> <td>3991740        </td> <td>3958711        </td> <td>3966321        </td> <td>3991349        </td> <td>4020045        </td> <td>3987032        </td> <td>3922044        </td>\n",
              "        </tr>\n",
              "        <tr>\n",
              "            <td>0   </td> <td>3   </td> <td>4119040      </td> <td>4119051          </td> <td>4111688        </td> <td>4101644        </td> <td>3981531        </td> <td>3991017        </td> <td>4005928        </td> <td>3974351        </td> <td>3982984        </td> <td>4006946        </td> <td>4033038        </td> <td>3998665        </td>\n",
              "        </tr>\n",
              "        <tr>\n",
              "            <td>0   </td> <td>4   </td> <td>4063170      </td> <td>4063186          </td> <td>4077346        </td> <td>4121488        </td> <td>4111490        </td> <td>3992502        </td> <td>4004032        </td> <td>4020292        </td> <td>3989750        </td> <td>3997280        </td> <td>4018719        </td> <td>4043323        </td>\n",
              "        </tr>\n",
              "        <tr>\n",
              "            <td>0   </td> <td>5   </td> <td>4056858      </td> <td>4056872          </td> <td>4064521        </td> <td>4087054        </td> <td>4131049        </td> <td>4121876        </td> <td>4004576        </td> <td>4017589        </td> <td>4035033        </td> <td>4003452        </td> <td>4008443        </td> <td>4028281        </td>\n",
              "        </tr>\n",
              "        <tr>\n",
              "            <td>0   </td> <td>6   </td> <td>4066381      </td> <td>4066412          </td> <td>4072904        </td> <td>4074531        </td> <td>4096631        </td> <td>4141126        </td> <td>4133372        </td> <td>4017388        </td> <td>4031568        </td> <td>4048018        </td> <td>4014057        </td> <td>4017227        </td>\n",
              "        </tr>\n",
              "        <tr>\n",
              "            <td>0   </td> <td>7   </td> <td>4030579      </td> <td>4030594          </td> <td>4042990        </td> <td>4082821        </td> <td>4084175        </td> <td>4106756        </td> <td>4152666        </td> <td>4145872        </td> <td>4030888        </td> <td>4044139        </td> <td>4058370        </td> <td>4022319        </td>\n",
              "        </tr>\n",
              "        <tr>\n",
              "            <td>0   </td> <td>8   </td> <td>4046486      </td> <td>4046497          </td> <td>4025501        </td> <td>4052773        </td> <td>4092559        </td> <td>4094513        </td> <td>4118349        </td> <td>4165033        </td> <td>4158848        </td> <td>4042924        </td> <td>4054236        </td> <td>4066194        </td>\n",
              "        </tr>\n",
              "        <tr>\n",
              "            <td>0   </td> <td>9   </td> <td>4148353      </td> <td>4148369          </td> <td>4125312        </td> <td>4035319        </td> <td>4062726        </td> <td>4103052        </td> <td>4106068        </td> <td>4130887        </td> <td>4177895        </td> <td>4170813        </td> <td>4053179        </td> <td>4061874        </td>\n",
              "        </tr>\n",
              "    </tbody>\n",
              "</table>\n",
              "<p>... (296 rows omitted)</p>"
            ]
          },
          "metadata": {},
          "execution_count": 23
        }
      ]
    },
    {
      "cell_type": "code",
      "source": [
        "partial = full.select('SEX','AGE','POPESTIMATE2014','POPESTIMATE2019')\n",
        "partial.show(3)"
      ],
      "metadata": {
        "id": "N5cQKIEb4feR",
        "colab": {
          "base_uri": "https://localhost:8080/",
          "height": 173
        },
        "outputId": "e9fc7a22-38fe-429f-d306-226e7b0676a1"
      },
      "execution_count": null,
      "outputs": [
        {
          "output_type": "display_data",
          "data": {
            "text/plain": [
              "<IPython.core.display.HTML object>"
            ],
            "text/html": [
              "<table border=\"1\" class=\"dataframe\">\n",
              "    <thead>\n",
              "        <tr>\n",
              "            <th>SEX</th> <th>AGE</th> <th>POPESTIMATE2014</th> <th>POPESTIMATE2019</th>\n",
              "        </tr>\n",
              "    </thead>\n",
              "    <tbody>\n",
              "        <tr>\n",
              "            <td>0   </td> <td>0   </td> <td>3954787        </td> <td>3783052        </td>\n",
              "        </tr>\n",
              "        <tr>\n",
              "            <td>0   </td> <td>1   </td> <td>3948891        </td> <td>3829599        </td>\n",
              "        </tr>\n",
              "        <tr>\n",
              "            <td>0   </td> <td>2   </td> <td>3958711        </td> <td>3922044        </td>\n",
              "        </tr>\n",
              "    </tbody>\n",
              "</table>\n",
              "<p>... (303 rows omitted)</p>"
            ]
          },
          "metadata": {}
        }
      ]
    },
    {
      "cell_type": "code",
      "source": [
        "us_pop = partial.relabled(2, '2014')"
      ],
      "metadata": {
        "id": "U6eccGpT4fjx",
        "colab": {
          "base_uri": "https://localhost:8080/",
          "height": 295
        },
        "outputId": "548dcf74-dd8a-4e4d-f1e5-b1101cc9b2d1"
      },
      "execution_count": null,
      "outputs": [
        {
          "output_type": "error",
          "ename": "AttributeError",
          "evalue": "ignored",
          "traceback": [
            "\u001b[0;31m---------------------------------------------------------------------------\u001b[0m",
            "\u001b[0;31mAttributeError\u001b[0m                            Traceback (most recent call last)",
            "\u001b[0;32m<ipython-input-27-111586989884>\u001b[0m in \u001b[0;36m<module>\u001b[0;34m\u001b[0m\n\u001b[0;32m----> 1\u001b[0;31m \u001b[0mus_pop\u001b[0m \u001b[0;34m=\u001b[0m \u001b[0mpartial\u001b[0m\u001b[0;34m.\u001b[0m\u001b[0mrelabled\u001b[0m\u001b[0;34m(\u001b[0m\u001b[0;36m2\u001b[0m\u001b[0;34m,\u001b[0m \u001b[0;34m'2014'\u001b[0m\u001b[0;34m)\u001b[0m\u001b[0;34m\u001b[0m\u001b[0;34m\u001b[0m\u001b[0m\n\u001b[0m",
            "\u001b[0;32m/usr/local/lib/python3.7/dist-packages/datascience/tables.py\u001b[0m in \u001b[0;36m__getattr__\u001b[0;34m(self, attr)\u001b[0m\n\u001b[1;32m    316\u001b[0m         \u001b[0;32melse\u001b[0m\u001b[0;34m:\u001b[0m\u001b[0;34m\u001b[0m\u001b[0;34m\u001b[0m\u001b[0m\n\u001b[1;32m    317\u001b[0m             \u001b[0mmsg\u001b[0m \u001b[0;34m=\u001b[0m \u001b[0;34m\"'{0}' object has no attribute '{1}'\"\u001b[0m\u001b[0;34m.\u001b[0m\u001b[0mformat\u001b[0m\u001b[0;34m(\u001b[0m\u001b[0mtype\u001b[0m\u001b[0;34m(\u001b[0m\u001b[0mself\u001b[0m\u001b[0;34m)\u001b[0m\u001b[0;34m.\u001b[0m\u001b[0m__name__\u001b[0m\u001b[0;34m,\u001b[0m \u001b[0mattr\u001b[0m\u001b[0;34m)\u001b[0m\u001b[0;34m\u001b[0m\u001b[0;34m\u001b[0m\u001b[0m\n\u001b[0;32m--> 318\u001b[0;31m             \u001b[0;32mraise\u001b[0m \u001b[0mAttributeError\u001b[0m\u001b[0;34m(\u001b[0m\u001b[0mmsg\u001b[0m\u001b[0;34m)\u001b[0m\u001b[0;34m\u001b[0m\u001b[0;34m\u001b[0m\u001b[0m\n\u001b[0m\u001b[1;32m    319\u001b[0m \u001b[0;34m\u001b[0m\u001b[0m\n\u001b[1;32m    320\u001b[0m     \u001b[0;31m####################\u001b[0m\u001b[0;34m\u001b[0m\u001b[0;34m\u001b[0m\u001b[0;34m\u001b[0m\u001b[0m\n",
            "\u001b[0;31mAttributeError\u001b[0m: 'Table' object has no attribute 'relabled'"
          ]
        }
      ]
    },
    {
      "cell_type": "code",
      "source": [
        "us_pop.where('AGE',are.above_or_equal_to(80)).sort('AGE')"
      ],
      "metadata": {
        "id": "3uvJF8Bs4fwg"
      },
      "execution_count": null,
      "outputs": []
    },
    {
      "cell_type": "code",
      "source": [
        "us_pop.where('AGE',are.above_or_equal_to(99)).sort('AGE')"
      ],
      "metadata": {
        "id": "LYqFBMGWwQu5"
      },
      "execution_count": null,
      "outputs": []
    }
  ],
  "metadata": {
    "anaconda-cloud": {},
    "kernelspec": {
      "display_name": "Python 3",
      "language": "python",
      "name": "python3"
    },
    "language_info": {
      "codemirror_mode": {
        "name": "ipython",
        "version": 3
      },
      "file_extension": ".py",
      "mimetype": "text/x-python",
      "name": "python",
      "nbconvert_exporter": "python",
      "pygments_lexer": "ipython3",
      "version": "3.8.5"
    },
    "colab": {
      "provenance": [],
      "collapsed_sections": []
    }
  },
  "nbformat": 4,
  "nbformat_minor": 0
}
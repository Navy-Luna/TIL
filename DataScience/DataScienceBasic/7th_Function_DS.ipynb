{
  "cells": [
    {
      "cell_type": "markdown",
      "source": [
        "# Lecture 07의 데모\n",
        "\n",
        "### Lecture 07의 데모에 대한 코드\n",
        "\n",
        "참고자료: \n",
        "\n",
        "https://github.com/data-8/materials-sp22/blob/main/lec/lec09.ipynb\n",
        "\n",
        "https://github.com/data-8/materials-sp22/blob/main/lec/lec10.ipynb"
      ],
      "metadata": {
        "id": "k_5WHxS4bDgg"
      }
    },
    {
      "cell_type": "code",
      "source": [
        "import os\n",
        "from google.colab import drive\n",
        "\n",
        "drive.mount('/content/gdrive')\n",
        "\n",
        "%cd /content/gdrive/MyDrive/ITEC419-fa22/lec"
      ],
      "metadata": {
        "id": "HJsP9gm9c6fs",
        "colab": {
          "base_uri": "https://localhost:8080/"
        },
        "outputId": "ff8db96f-4a1f-477c-cc15-284e1f456170"
      },
      "execution_count": null,
      "outputs": [
        {
          "output_type": "stream",
          "name": "stdout",
          "text": [
            "Mounted at /content/gdrive\n",
            "/content/gdrive/MyDrive/ITEC419-fa22/lec\n"
          ]
        }
      ]
    },
    {
      "cell_type": "code",
      "execution_count": null,
      "metadata": {
        "id": "kYA_rysSasQp"
      },
      "outputs": [],
      "source": [
        "from datascience import *\n",
        "import numpy as np\n",
        "\n",
        "%matplotlib inline\n",
        "import matplotlib.pyplot as plots\n",
        "plots.style.use('fivethirtyeight')"
      ]
    },
    {
      "cell_type": "markdown",
      "source": [
        "## Histogram Example"
      ],
      "metadata": {
        "id": "Wp2jLVMRuFf1"
      }
    },
    {
      "cell_type": "code",
      "source": [
        "# From https://womenintheworld.org/highest-paid-actress/\n",
        "incomes = Table.read_table('2022_female_actors.csv')\n",
        "incomes.show(3)"
      ],
      "metadata": {
        "id": "wrCE5jm-ubOy",
        "colab": {
          "base_uri": "https://localhost:8080/",
          "height": 173
        },
        "outputId": "a9355a16-c324-44ae-82c2-6ae2a70ff808"
      },
      "execution_count": null,
      "outputs": [
        {
          "output_type": "display_data",
          "data": {
            "text/plain": [
              "<IPython.core.display.HTML object>"
            ],
            "text/html": [
              "<table border=\"1\" class=\"dataframe\">\n",
              "    <thead>\n",
              "        <tr>\n",
              "            <th>Name</th> <th>Income (millions)</th>\n",
              "        </tr>\n",
              "    </thead>\n",
              "    <tbody>\n",
              "        <tr>\n",
              "            <td>Scarlett Johansson</td> <td>56               </td>\n",
              "        </tr>\n",
              "        <tr>\n",
              "            <td>Sofia Vergara     </td> <td>43               </td>\n",
              "        </tr>\n",
              "        <tr>\n",
              "            <td>Angelina Jolie    </td> <td>35.5             </td>\n",
              "        </tr>\n",
              "    </tbody>\n",
              "</table>\n",
              "<p>... (17 rows omitted)</p>"
            ]
          },
          "metadata": {}
        }
      ]
    },
    {
      "cell_type": "code",
      "source": [
        "my_bins = make_array(0, 25, 30, 60)\n",
        "incomes.hist('Income (millions)', bins=my_bins)"
      ],
      "metadata": {
        "id": "YJA8FvvKUpYf",
        "colab": {
          "base_uri": "https://localhost:8080/",
          "height": 301
        },
        "outputId": "a194a627-c9a3-4125-813e-3f0a579a95aa"
      },
      "execution_count": null,
      "outputs": [
        {
          "output_type": "display_data",
          "data": {
            "text/plain": [
              "<Figure size 432x288 with 1 Axes>"
            ],
            "image/png": "[encoded data removed]"
          },
          "metadata": {}
        }
      ]
    },
    {
      "cell_type": "code",
      "source": [
        "incomes.column('Income (millions)').min()"
      ],
      "metadata": {
        "id": "qxWhwYoXUtBM",
        "colab": {
          "base_uri": "https://localhost:8080/"
        },
        "outputId": "ebd89244-fedf-45c7-cff2-c26c8be19fb4"
      },
      "execution_count": null,
      "outputs": [
        {
          "output_type": "execute_result",
          "data": {
            "text/plain": [
              "12.5"
            ]
          },
          "metadata": {},
          "execution_count": 7
        }
      ]
    },
    {
      "cell_type": "code",
      "source": [
        "my_bins = make_array(incomes.column('Income (millions)').min(),25,30,incomes.column('Income (millions)').max())\n",
        "incomes.hist('Income (millions)',bins = my_bins)\n",
        "\n",
        "# xticks 쓰면 첫 bins 값부터 나오게 된다.\n",
        "plots.xticks(my_bins)"
      ],
      "metadata": {
        "id": "FT-biVmnixrJ",
        "colab": {
          "base_uri": "https://localhost:8080/",
          "height": 390
        },
        "outputId": "6791ffcb-a0bc-4e18-b798-83e2418418c0"
      },
      "execution_count": null,
      "outputs": [
        {
          "output_type": "execute_result",
          "data": {
            "text/plain": [
              "([<matplotlib.axis.XTick at 0x7fc840fec4d0>,\n",
              "  <matplotlib.axis.XTick at 0x7fc840fecf50>,\n",
              "  <matplotlib.axis.XTick at 0x7fc840cd6450>,\n",
              "  <matplotlib.axis.XTick at 0x7fc840bcd090>],\n",
              " <a list of 4 Text major ticklabel objects>)"
            ]
          },
          "metadata": {},
          "execution_count": 11
        },
        {
          "output_type": "display_data",
          "data": {
            "text/plain": [
              "<Figure size 432x288 with 1 Axes>"
            ],
            "image/png": "[encoded data removed]"
          },
          "metadata": {}
        }
      ]
    },
    {
      "cell_type": "markdown",
      "source": [
        "## Defining Functions"
      ],
      "metadata": {
        "id": "hoK6QlwEMBxJ"
      }
    },
    {
      "cell_type": "markdown",
      "source": [
        "Example: Create a function that takes a numerical input and triples it: triple($x$) = $3 x$"
      ],
      "metadata": {
        "id": "t5Wu4kr7khjc"
      }
    },
    {
      "cell_type": "code",
      "source": [
        "def triple(anything):\n",
        "    return 3 * anything"
      ],
      "metadata": {
        "id": "M2O-jK6L8p5J"
      },
      "execution_count": null,
      "outputs": []
    },
    {
      "cell_type": "code",
      "source": [
        "triple(3)"
      ],
      "metadata": {
        "id": "l-Ch-dZ9lk-H",
        "colab": {
          "base_uri": "https://localhost:8080/"
        },
        "outputId": "3cc5c2f3-5de8-4d90-cece-ae8c0f07d2c5"
      },
      "execution_count": null,
      "outputs": [
        {
          "output_type": "execute_result",
          "data": {
            "text/plain": [
              "9"
            ]
          },
          "metadata": {},
          "execution_count": 13
        }
      ]
    },
    {
      "cell_type": "markdown",
      "source": [
        "아래 x는 위 함수의 인자로 사용되더라도, 함수가 호출되어 인자 x에 3이 배정되더라도 여전히 undefined name이다."
      ],
      "metadata": {
        "id": "sBW3tn2PmaxX"
      }
    },
    {
      "cell_type": "code",
      "source": [
        "triple(4)"
      ],
      "metadata": {
        "id": "PrZu-1v2i_6F",
        "colab": {
          "base_uri": "https://localhost:8080/"
        },
        "outputId": "da21352c-8d0e-407c-f40f-0196b725a0e4"
      },
      "execution_count": null,
      "outputs": [
        {
          "output_type": "execute_result",
          "data": {
            "text/plain": [
              "12"
            ]
          },
          "metadata": {},
          "execution_count": 14
        }
      ]
    },
    {
      "cell_type": "code",
      "source": [
        "y = 7\n",
        "triple(y)"
      ],
      "metadata": {
        "id": "FyA_V4tui_yS",
        "colab": {
          "base_uri": "https://localhost:8080/"
        },
        "outputId": "37f5c54d-84fa-4494-a10c-56ffad4295d8"
      },
      "execution_count": null,
      "outputs": [
        {
          "output_type": "execute_result",
          "data": {
            "text/plain": [
              "21"
            ]
          },
          "metadata": {},
          "execution_count": 16
        }
      ]
    },
    {
      "cell_type": "code",
      "source": [
        "# evaluation된 다음에 대입이 되게 된다.\n",
        "triple(2+y)"
      ],
      "metadata": {
        "id": "VDRqd89Ri_nF",
        "colab": {
          "base_uri": "https://localhost:8080/"
        },
        "outputId": "84402293-fd84-4e11-9580-7246f871159d"
      },
      "execution_count": null,
      "outputs": [
        {
          "output_type": "execute_result",
          "data": {
            "text/plain": [
              "27"
            ]
          },
          "metadata": {},
          "execution_count": 18
        }
      ]
    },
    {
      "cell_type": "markdown",
      "source": [
        "## The Anatomy of a Function"
      ],
      "metadata": {
        "id": "ZWhu8F2BnDdU"
      }
    },
    {
      "cell_type": "code",
      "source": [
        "def function_name(arguments):\n",
        "    ...\n",
        "    return return_expression"
      ],
      "metadata": {
        "id": "6l5hmzKkoQmQ"
      },
      "execution_count": null,
      "outputs": []
    },
    {
      "cell_type": "markdown",
      "source": [
        "## Functions are Type-Agnostic"
      ],
      "metadata": {
        "id": "TW3-9r7-odl_"
      }
    },
    {
      "cell_type": "code",
      "source": [
        "# Type-Agonstic: Type을 무시하고 정의를 하고 인수가 들어왔을때 해당 타입 처리가 가능하면 처리해버림\n",
        "triple('ha')"
      ],
      "metadata": {
        "id": "Hetgz-nyjHZy",
        "colab": {
          "base_uri": "https://localhost:8080/",
          "height": 36
        },
        "outputId": "ea1c33f7-9e1c-4d4a-a6f5-a4a1a1b30b6c"
      },
      "execution_count": null,
      "outputs": [
        {
          "output_type": "execute_result",
          "data": {
            "text/plain": [
              "'hahaha'"
            ],
            "application/vnd.google.colaboratory.intrinsic+json": {
              "type": "string"
            }
          },
          "metadata": {},
          "execution_count": 24
        }
      ]
    },
    {
      "cell_type": "code",
      "source": [
        "'ha' + triple('ha')"
      ],
      "metadata": {
        "id": "cE57yUe1jHUk",
        "colab": {
          "base_uri": "https://localhost:8080/",
          "height": 36
        },
        "outputId": "1d88b3af-b23e-447e-e9da-b2cac8b3cf20"
      },
      "execution_count": null,
      "outputs": [
        {
          "output_type": "execute_result",
          "data": {
            "text/plain": [
              "'hahahaha'"
            ],
            "application/vnd.google.colaboratory.intrinsic+json": {
              "type": "string"
            }
          },
          "metadata": {},
          "execution_count": 25
        }
      ]
    },
    {
      "cell_type": "code",
      "source": [
        "nums = make_array(3,4,5,6)\n",
        "triple(nums)"
      ],
      "metadata": {
        "id": "Qsn7lmCFjHMx",
        "colab": {
          "base_uri": "https://localhost:8080/"
        },
        "outputId": "8308d198-8ada-41b0-afa6-67ed2cb63ef8"
      },
      "execution_count": null,
      "outputs": [
        {
          "output_type": "execute_result",
          "data": {
            "text/plain": [
              "array([ 9, 12, 15, 18])"
            ]
          },
          "metadata": {},
          "execution_count": 26
        }
      ]
    },
    {
      "cell_type": "markdown",
      "source": [
        "## Discussion"
      ],
      "metadata": {
        "id": "TszI2t5yw1hF"
      }
    },
    {
      "cell_type": "code",
      "source": [
        "# s is an array of numbers\n",
        "# this returns the percent of the total for each element\n",
        "def percent_of_total(s):\n",
        "  \"\"\"\n",
        "    s is an array of numbers\n",
        "    this returns the percent of the total of numbers\n",
        "  \"\"\"\n",
        "\n",
        "  return np.round(s / sum(s) * 100, 2)"
      ],
      "metadata": {
        "id": "SJYWFn9kM5eh"
      },
      "execution_count": null,
      "outputs": []
    },
    {
      "cell_type": "code",
      "source": [
        "percent_of_total(make_array(1,2,3,4))"
      ],
      "metadata": {
        "id": "WCGkS-oBjS-r",
        "colab": {
          "base_uri": "https://localhost:8080/"
        },
        "outputId": "d46909c7-f8a4-4d3a-bd41-0b19943e6af7"
      },
      "execution_count": null,
      "outputs": [
        {
          "output_type": "execute_result",
          "data": {
            "text/plain": [
              "array([ 10.,  20.,  30.,  40.])"
            ]
          },
          "metadata": {},
          "execution_count": 30
        }
      ]
    },
    {
      "cell_type": "markdown",
      "source": [
        "## Functions Can Take Multiple Arguments\n",
        "\n",
        "Example: Calculate the Hypotenuse Length of a Right Triangle\n",
        "\n",
        "Pythagoras's Theorem: If $x$ and $y$ denote the lengths of the right-angle sides, then the hypotenuse length $h$ satisfies:\n",
        "\n",
        "$h^2$ = $x^2$ + $y^2$ which implies $h = \\sqrt{x^2 + y^2}$"
      ],
      "metadata": {
        "id": "FuJrxvc2s0ir"
      }
    },
    {
      "cell_type": "code",
      "source": [
        "def hypotenuse(x, y):\n",
        "    hypot_squared = (x ** 2 + y ** 2)\n",
        "    hypot = hypot_squared ** 0.5\n",
        "    return hypot"
      ],
      "metadata": {
        "id": "7I1TNYrEPT1-"
      },
      "execution_count": null,
      "outputs": []
    },
    {
      "cell_type": "code",
      "source": [
        "hypotenuse(3,4)"
      ],
      "metadata": {
        "id": "ut2TC1GsjWiU",
        "colab": {
          "base_uri": "https://localhost:8080/"
        },
        "outputId": "cb2f413d-e06e-4d9c-eda4-efcc73ad8f34"
      },
      "execution_count": null,
      "outputs": [
        {
          "output_type": "execute_result",
          "data": {
            "text/plain": [
              "5.0"
            ]
          },
          "metadata": {},
          "execution_count": 34
        }
      ]
    },
    {
      "cell_type": "markdown",
      "source": [
        "We could've typed the body all in one line. Do you find this more readable or less readable than the original version?"
      ],
      "metadata": {
        "id": "R8c2pQ3NvcAA"
      }
    },
    {
      "cell_type": "code",
      "source": [
        "def hypotenuse(x, y):\n",
        "    return (x ** 2 + y ** 2) ** 0.5"
      ],
      "metadata": {
        "id": "LthKrJjNvbcl"
      },
      "execution_count": null,
      "outputs": []
    },
    {
      "cell_type": "code",
      "source": [
        "hypotenuse(9, 12)"
      ],
      "metadata": {
        "id": "79y_Jl-DvsUy"
      },
      "execution_count": null,
      "outputs": []
    },
    {
      "cell_type": "markdown",
      "source": [
        "## **Example: A function that takes the year of birth of a person and produces their age in years.**"
      ],
      "metadata": {
        "id": "g32w2xOSwBoq"
      }
    },
    {
      "cell_type": "code",
      "source": [
        "def age(year):\n",
        "    age = 2022 - year\n",
        "    return age"
      ],
      "metadata": {
        "id": "zcbEuX74wQDW"
      },
      "execution_count": null,
      "outputs": []
    },
    {
      "cell_type": "code",
      "source": [
        "age(1942)"
      ],
      "metadata": {
        "id": "8JvVu508wVH2",
        "colab": {
          "base_uri": "https://localhost:8080/"
        },
        "outputId": "35f29e04-5c9b-4e9e-914c-65f9e9085f3f"
      },
      "execution_count": null,
      "outputs": [
        {
          "output_type": "execute_result",
          "data": {
            "text/plain": [
              "80"
            ]
          },
          "metadata": {},
          "execution_count": 5
        }
      ]
    },
    {
      "cell_type": "markdown",
      "source": [
        "Now add some bells and whistles: Take person's name and year of birth (two arguments). Produce a sentence that states how old they are."
      ],
      "metadata": {
        "id": "6edlJIsywasV"
      }
    },
    {
      "cell_type": "code",
      "source": [
        "def name_and_age(name, year):\n",
        "    return name + ' is ' + str(age(year)) + ' years old.'"
      ],
      "metadata": {
        "id": "UrL_rpIQw4dj"
      },
      "execution_count": null,
      "outputs": []
    },
    {
      "cell_type": "code",
      "source": [
        "name_and_age('John', 1982)"
      ],
      "metadata": {
        "id": "vplnUvB-xAmm",
        "colab": {
          "base_uri": "https://localhost:8080/",
          "height": 36
        },
        "outputId": "95aabfb9-c394-43a0-e8e5-93387e552678"
      },
      "execution_count": null,
      "outputs": [
        {
          "output_type": "execute_result",
          "data": {
            "text/plain": [
              "'John is 40 years old.'"
            ],
            "application/vnd.google.colaboratory.intrinsic+json": {
              "type": "string"
            }
          },
          "metadata": {},
          "execution_count": 7
        }
      ]
    },
    {
      "cell_type": "markdown",
      "source": [
        "## **Apply**"
      ],
      "metadata": {
        "id": "gEV8YNv7SDrj"
      }
    },
    {
      "cell_type": "code",
      "source": [
        "ages = Table().with_columns(\n",
        "    'Person', make_array('Jim', 'Pam', 'Michael', 'Creed'),\n",
        "    'Birth Year', make_array(1985, 1988, 1967, 1904)\n",
        ")\n",
        "ages"
      ],
      "metadata": {
        "id": "kJldL-4fSHbD",
        "colab": {
          "base_uri": "https://localhost:8080/",
          "height": 175
        },
        "outputId": "e416fd9d-27aa-469c-8f03-5a492bcaa965"
      },
      "execution_count": null,
      "outputs": [
        {
          "output_type": "execute_result",
          "data": {
            "text/plain": [
              "Person  | Birth Year\n",
              "Jim     | 1985\n",
              "Pam     | 1988\n",
              "Michael | 1967\n",
              "Creed   | 1904"
            ],
            "text/html": [
              "<table border=\"1\" class=\"dataframe\">\n",
              "    <thead>\n",
              "        <tr>\n",
              "            <th>Person</th> <th>Birth Year</th>\n",
              "        </tr>\n",
              "    </thead>\n",
              "    <tbody>\n",
              "        <tr>\n",
              "            <td>Jim    </td> <td>1985      </td>\n",
              "        </tr>\n",
              "        <tr>\n",
              "            <td>Pam    </td> <td>1988      </td>\n",
              "        </tr>\n",
              "        <tr>\n",
              "            <td>Michael</td> <td>1967      </td>\n",
              "        </tr>\n",
              "        <tr>\n",
              "            <td>Creed  </td> <td>1904      </td>\n",
              "        </tr>\n",
              "    </tbody>\n",
              "</table>"
            ]
          },
          "metadata": {},
          "execution_count": 8
        }
      ]
    },
    {
      "cell_type": "code",
      "source": [
        "# table_name.apply(function_name, column_label(s))\n",
        "# 첫 인자로 함수로 받고 뒤에 함수 인자로 들어갈 열들을 입력함. 결과로 배열을 return.\n",
        "# 개신기함 OㅁO)!!\n",
        "ages.apply(name_and_age, 'Person', 'Birth Year')"
      ],
      "metadata": {
        "id": "5m9uJ65TjvSK",
        "colab": {
          "base_uri": "https://localhost:8080/"
        },
        "outputId": "248476c6-a798-4cd8-da5b-218334d52675"
      },
      "execution_count": null,
      "outputs": [
        {
          "output_type": "execute_result",
          "data": {
            "text/plain": [
              "array(['Jim is 37 years old.', 'Pam is 34 years old.',\n",
              "       'Michael is 55 years old.', 'Creed is 118 years old.'],\n",
              "      dtype='<U24')"
            ]
          },
          "metadata": {},
          "execution_count": 9
        }
      ]
    },
    {
      "cell_type": "code",
      "source": [
        "ages"
      ],
      "metadata": {
        "id": "64O4umLoju_b",
        "colab": {
          "base_uri": "https://localhost:8080/",
          "height": 175
        },
        "outputId": "2c222b4c-8983-446b-f4a5-c7f493f7b03f"
      },
      "execution_count": null,
      "outputs": [
        {
          "output_type": "execute_result",
          "data": {
            "text/plain": [
              "Person  | Birth Year\n",
              "Jim     | 1985\n",
              "Pam     | 1988\n",
              "Michael | 1967\n",
              "Creed   | 1904"
            ],
            "text/html": [
              "<table border=\"1\" class=\"dataframe\">\n",
              "    <thead>\n",
              "        <tr>\n",
              "            <th>Person</th> <th>Birth Year</th>\n",
              "        </tr>\n",
              "    </thead>\n",
              "    <tbody>\n",
              "        <tr>\n",
              "            <td>Jim    </td> <td>1985      </td>\n",
              "        </tr>\n",
              "        <tr>\n",
              "            <td>Pam    </td> <td>1988      </td>\n",
              "        </tr>\n",
              "        <tr>\n",
              "            <td>Michael</td> <td>1967      </td>\n",
              "        </tr>\n",
              "        <tr>\n",
              "            <td>Creed  </td> <td>1904      </td>\n",
              "        </tr>\n",
              "    </tbody>\n",
              "</table>"
            ]
          },
          "metadata": {},
          "execution_count": 10
        }
      ]
    },
    {
      "cell_type": "markdown",
      "source": [
        "## Prediction"
      ],
      "metadata": {
        "id": "17sSM4CN6Y-p"
      }
    },
    {
      "cell_type": "code",
      "source": [
        "# Prediction은 아빠키랑 엄마키가 이러면 애들의 키는 어떨까~하고 추측 가능\n",
        "families = Table.read_table('family_heights.csv')\n",
        "families"
      ],
      "metadata": {
        "id": "ALMqW6ar6dMJ",
        "colab": {
          "base_uri": "https://localhost:8080/",
          "height": 392
        },
        "outputId": "a963a354-4088-49eb-eb91-ca97d6b9a005"
      },
      "execution_count": null,
      "outputs": [
        {
          "output_type": "execute_result",
          "data": {
            "text/plain": [
              "family | father | mother | child | children | order | sex\n",
              "1      | 78.5   | 67     | 73.2  | 4        | 1     | male\n",
              "1      | 78.5   | 67     | 69.2  | 4        | 2     | female\n",
              "1      | 78.5   | 67     | 69    | 4        | 3     | female\n",
              "1      | 78.5   | 67     | 69    | 4        | 4     | female\n",
              "2      | 75.5   | 66.5   | 73.5  | 4        | 1     | male\n",
              "2      | 75.5   | 66.5   | 72.5  | 4        | 2     | male\n",
              "2      | 75.5   | 66.5   | 65.5  | 4        | 3     | female\n",
              "2      | 75.5   | 66.5   | 65.5  | 4        | 4     | female\n",
              "3      | 75     | 64     | 71    | 2        | 1     | male\n",
              "3      | 75     | 64     | 68    | 2        | 2     | female\n",
              "... (924 rows omitted)"
            ],
            "text/html": [
              "<table border=\"1\" class=\"dataframe\">\n",
              "    <thead>\n",
              "        <tr>\n",
              "            <th>family</th> <th>father</th> <th>mother</th> <th>child</th> <th>children</th> <th>order</th> <th>sex</th>\n",
              "        </tr>\n",
              "    </thead>\n",
              "    <tbody>\n",
              "        <tr>\n",
              "            <td>1     </td> <td>78.5  </td> <td>67    </td> <td>73.2 </td> <td>4       </td> <td>1    </td> <td>male  </td>\n",
              "        </tr>\n",
              "        <tr>\n",
              "            <td>1     </td> <td>78.5  </td> <td>67    </td> <td>69.2 </td> <td>4       </td> <td>2    </td> <td>female</td>\n",
              "        </tr>\n",
              "        <tr>\n",
              "            <td>1     </td> <td>78.5  </td> <td>67    </td> <td>69   </td> <td>4       </td> <td>3    </td> <td>female</td>\n",
              "        </tr>\n",
              "        <tr>\n",
              "            <td>1     </td> <td>78.5  </td> <td>67    </td> <td>69   </td> <td>4       </td> <td>4    </td> <td>female</td>\n",
              "        </tr>\n",
              "        <tr>\n",
              "            <td>2     </td> <td>75.5  </td> <td>66.5  </td> <td>73.5 </td> <td>4       </td> <td>1    </td> <td>male  </td>\n",
              "        </tr>\n",
              "        <tr>\n",
              "            <td>2     </td> <td>75.5  </td> <td>66.5  </td> <td>72.5 </td> <td>4       </td> <td>2    </td> <td>male  </td>\n",
              "        </tr>\n",
              "        <tr>\n",
              "            <td>2     </td> <td>75.5  </td> <td>66.5  </td> <td>65.5 </td> <td>4       </td> <td>3    </td> <td>female</td>\n",
              "        </tr>\n",
              "        <tr>\n",
              "            <td>2     </td> <td>75.5  </td> <td>66.5  </td> <td>65.5 </td> <td>4       </td> <td>4    </td> <td>female</td>\n",
              "        </tr>\n",
              "        <tr>\n",
              "            <td>3     </td> <td>75    </td> <td>64    </td> <td>71   </td> <td>2       </td> <td>1    </td> <td>male  </td>\n",
              "        </tr>\n",
              "        <tr>\n",
              "            <td>3     </td> <td>75    </td> <td>64    </td> <td>68   </td> <td>2       </td> <td>2    </td> <td>female</td>\n",
              "        </tr>\n",
              "    </tbody>\n",
              "</table>\n",
              "<p>... (924 rows omitted)</p>"
            ]
          },
          "metadata": {},
          "execution_count": 11
        }
      ]
    },
    {
      "cell_type": "code",
      "source": [
        "parent_avgs = (families.column('father')+families.column('mother'))/2\n",
        "parent_avgs"
      ],
      "metadata": {
        "id": "8aXQO0b56l47",
        "colab": {
          "base_uri": "https://localhost:8080/"
        },
        "outputId": "bdc1f36d-e8fe-4425-a029-cbc8bcc90c1f"
      },
      "execution_count": null,
      "outputs": [
        {
          "output_type": "execute_result",
          "data": {
            "text/plain": [
              "array([ 72.75,  72.75,  72.75,  72.75,  71.  ,  71.  ,  71.  ,  71.  ,\n",
              "        69.5 ,  69.5 ,  69.5 ,  69.5 ,  69.5 ,  69.5 ,  69.5 ,  66.75,\n",
              "        66.75,  66.75,  66.75,  66.75,  66.75,  71.  ,  71.  ,  71.  ,\n",
              "        71.  ,  71.  ,  71.  ,  71.  ,  70.25,  70.25,  70.25,  70.25,\n",
              "        69.75,  68.  ,  68.  ,  68.  ,  68.  ,  68.  ,  68.  ,  68.  ,\n",
              "        68.  ,  67.5 ,  70.  ,  70.  ,  70.  ,  70.  ,  69.75,  69.75,\n",
              "        69.75,  69.  ,  69.  ,  69.  ,  69.  ,  69.  ,  69.  ,  69.  ,\n",
              "        69.  ,  69.  ,  68.75,  68.75,  68.75,  68.75,  68.75,  68.75,\n",
              "        68.5 ,  68.5 ,  68.5 ,  68.1 ,  70.85,  70.85,  70.85,  70.85,\n",
              "        70.85,  70.85,  70.85,  70.85,  70.  ,  70.  ,  70.  ,  69.5 ,\n",
              "        69.5 ,  69.5 ,  68.5 ,  68.5 ,  68.5 ,  68.5 ,  68.5 ,  68.5 ,\n",
              "        68.5 ,  68.75,  68.  ,  68.  ,  67.5 ,  67.5 ,  67.5 ,  67.5 ,\n",
              "        67.5 ,  67.5 ,  67.5 ,  67.5 ,  67.5 ,  67.5 ,  67.5 ,  67.5 ,\n",
              "        67.5 ,  67.5 ,  68.  ,  68.  ,  68.  ,  67.  ,  67.25,  67.25,\n",
              "        67.25,  67.25,  67.25,  67.25,  67.  ,  67.  ,  67.  ,  67.  ,\n",
              "        67.  ,  67.  ,  67.  ,  67.  ,  67.  ,  67.  ,  66.5 ,  70.  ,\n",
              "        70.  ,  70.  ,  70.  ,  70.  ,  69.  ,  69.  ,  69.  ,  69.  ,\n",
              "        68.5 ,  68.5 ,  68.5 ,  68.5 ,  68.5 ,  68.5 ,  68.5 ,  68.5 ,\n",
              "        68.5 ,  68.5 ,  68.5 ,  68.5 ,  68.5 ,  68.5 ,  68.5 ,  68.5 ,\n",
              "        68.5 ,  68.6 ,  68.25,  68.25,  68.25,  68.25,  68.25,  68.25,\n",
              "        68.5 ,  68.5 ,  68.25,  68.25,  68.  ,  68.  ,  68.  ,  67.5 ,\n",
              "        67.5 ,  67.5 ,  67.5 ,  67.5 ,  67.5 ,  67.5 ,  67.5 ,  68.1 ,\n",
              "        68.1 ,  68.1 ,  68.1 ,  67.5 ,  67.5 ,  67.5 ,  68.  ,  68.  ,\n",
              "        68.  ,  68.  ,  68.  ,  68.  ,  68.  ,  67.75,  67.75,  67.1 ,\n",
              "        67.1 ,  67.25,  67.25,  67.25,  67.25,  67.25,  67.  ,  67.  ,\n",
              "        67.  ,  67.  ,  67.  ,  67.  ,  67.  ,  67.  ,  67.  ,  67.  ,\n",
              "        67.  ,  67.  ,  67.  ,  66.5 ,  66.5 ,  66.5 ,  66.5 ,  66.5 ,\n",
              "        66.5 ,  66.5 ,  66.5 ,  66.5 ,  66.5 ,  66.75,  66.75,  66.75,\n",
              "        66.75,  66.75,  66.5 ,  66.5 ,  66.5 ,  66.5 ,  66.5 ,  66.5 ,\n",
              "        66.5 ,  66.  ,  64.5 ,  64.5 ,  69.5 ,  69.5 ,  69.5 ,  69.5 ,\n",
              "        69.5 ,  69.5 ,  69.5 ,  69.5 ,  69.5 ,  69.5 ,  69.  ,  68.5 ,\n",
              "        68.5 ,  68.5 ,  68.5 ,  68.5 ,  68.5 ,  68.25,  68.25,  68.25,\n",
              "        68.25,  68.25,  68.25,  68.25,  68.25,  68.25,  68.25,  68.25,\n",
              "        67.75,  67.75,  67.75,  67.75,  67.75,  67.75,  67.75,  67.75,\n",
              "        67.75,  67.5 ,  67.5 ,  67.5 ,  67.5 ,  67.5 ,  67.5 ,  67.5 ,\n",
              "        67.5 ,  67.5 ,  67.5 ,  67.5 ,  67.5 ,  67.5 ,  67.5 ,  67.5 ,\n",
              "        67.5 ,  67.5 ,  67.5 ,  67.5 ,  67.5 ,  67.5 ,  67.5 ,  67.5 ,\n",
              "        67.5 ,  67.5 ,  67.5 ,  67.5 ,  67.5 ,  67.5 ,  67.5 ,  67.5 ,\n",
              "        67.35,  67.35,  67.35,  67.35,  67.35,  67.35,  67.35,  67.  ,\n",
              "        67.  ,  67.  ,  67.  ,  67.  ,  67.  ,  67.  ,  67.  ,  67.  ,\n",
              "        67.  ,  67.  ,  67.1 ,  67.1 ,  67.1 ,  67.1 ,  67.1 ,  67.25,\n",
              "        67.25,  67.25,  67.25,  67.25,  67.25,  67.25,  67.25,  67.5 ,\n",
              "        67.  ,  67.  ,  67.  ,  67.  ,  67.  ,  67.  ,  67.  ,  67.  ,\n",
              "        67.  ,  67.  ,  67.  ,  67.  ,  67.  ,  66.85,  66.85,  66.85,\n",
              "        66.85,  66.85,  66.85,  66.85,  66.85,  66.75,  66.75,  66.75,\n",
              "        66.75,  66.75,  66.75,  66.75,  66.75,  66.75,  66.75,  66.75,\n",
              "        66.75,  66.75,  66.5 ,  66.5 ,  66.5 ,  66.5 ,  66.5 ,  66.5 ,\n",
              "        66.5 ,  66.5 ,  66.25,  66.25,  66.25,  66.25,  66.25,  66.25,\n",
              "        66.25,  66.25,  66.5 ,  66.5 ,  66.5 ,  66.5 ,  66.5 ,  66.5 ,\n",
              "        66.5 ,  66.25,  66.25,  66.25,  65.5 ,  65.5 ,  65.  ,  65.  ,\n",
              "        65.  ,  65.  ,  65.  ,  65.  ,  64.25,  64.25,  64.25,  64.  ,\n",
              "        64.  ,  64.  ,  64.  ,  64.  ,  68.75,  68.75,  68.75,  68.75,\n",
              "        68.75,  68.75,  68.75,  68.75,  68.75,  68.75,  68.  ,  67.5 ,\n",
              "        67.5 ,  67.5 ,  67.5 ,  67.5 ,  67.5 ,  67.5 ,  67.5 ,  67.5 ,\n",
              "        67.5 ,  67.5 ,  67.85,  67.85,  67.85,  67.85,  67.5 ,  67.5 ,\n",
              "        67.5 ,  67.5 ,  67.5 ,  67.5 ,  67.75,  67.75,  67.75,  67.75,\n",
              "        67.75,  67.75,  67.75,  68.  ,  68.  ,  68.  ,  68.  ,  67.75,\n",
              "        67.75,  67.75,  67.75,  67.75,  67.75,  67.75,  67.75,  67.75,\n",
              "        67.75,  67.75,  67.75,  67.75,  67.5 ,  67.5 ,  67.5 ,  67.5 ,\n",
              "        67.5 ,  67.5 ,  67.5 ,  67.5 ,  67.5 ,  67.  ,  67.  ,  67.  ,\n",
              "        67.  ,  67.  ,  67.  ,  67.  ,  67.  ,  67.  ,  67.  ,  67.  ,\n",
              "        67.  ,  67.  ,  67.  ,  66.6 ,  66.6 ,  66.6 ,  66.6 ,  66.25,\n",
              "        66.  ,  66.  ,  66.  ,  66.  ,  66.  ,  66.  ,  66.  ,  66.  ,\n",
              "        66.  ,  66.  ,  66.25,  66.25,  66.25,  66.25,  66.25,  66.25,\n",
              "        66.25,  66.25,  66.25,  66.25,  65.85,  65.75,  65.75,  65.75,\n",
              "        65.5 ,  65.5 ,  65.5 ,  65.5 ,  65.5 ,  65.75,  65.75,  65.75,\n",
              "        65.75,  65.75,  65.75,  65.75,  65.75,  65.75,  65.75,  65.75,\n",
              "        65.75,  65.75,  65.75,  65.75,  65.75,  65.75,  65.75,  65.75,\n",
              "        65.5 ,  65.5 ,  65.5 ,  65.5 ,  65.25,  65.25,  65.25,  65.25,\n",
              "        65.25,  65.  ,  65.  ,  65.  ,  65.  ,  65.  ,  65.  ,  65.  ,\n",
              "        65.  ,  65.  ,  64.5 ,  64.5 ,  64.5 ,  64.5 ,  64.5 ,  64.5 ,\n",
              "        64.5 ,  64.75,  69.6 ,  69.6 ,  67.75,  67.75,  67.75,  67.5 ,\n",
              "        67.5 ,  67.5 ,  67.5 ,  67.5 ,  67.5 ,  67.5 ,  67.5 ,  67.5 ,\n",
              "        67.5 ,  67.5 ,  66.5 ,  66.5 ,  66.75,  66.75,  66.75,  66.75,\n",
              "        66.75,  66.75,  66.75,  66.75,  66.75,  66.5 ,  66.5 ,  66.5 ,\n",
              "        66.5 ,  66.75,  66.75,  66.75,  66.75,  66.75,  66.75,  66.75,\n",
              "        66.75,  66.75,  66.75,  66.75,  66.75,  66.75,  66.75,  66.75,\n",
              "        66.75,  66.  ,  66.  ,  66.  ,  66.  ,  66.  ,  66.  ,  66.  ,\n",
              "        66.  ,  66.  ,  66.  ,  66.  ,  66.  ,  66.  ,  66.  ,  66.  ,\n",
              "        66.  ,  66.  ,  66.  ,  66.  ,  66.25,  66.  ,  66.  ,  66.  ,\n",
              "        66.  ,  66.  ,  66.  ,  66.  ,  66.  ,  66.  ,  66.  ,  65.5 ,\n",
              "        65.5 ,  65.5 ,  65.5 ,  65.5 ,  65.5 ,  65.5 ,  65.5 ,  66.  ,\n",
              "        66.  ,  66.  ,  66.  ,  65.5 ,  65.5 ,  65.5 ,  65.5 ,  65.5 ,\n",
              "        65.5 ,  65.5 ,  65.5 ,  65.5 ,  65.5 ,  65.5 ,  65.5 ,  65.5 ,\n",
              "        65.5 ,  65.5 ,  65.5 ,  65.5 ,  65.5 ,  65.5 ,  66.  ,  65.5 ,\n",
              "        65.85,  65.85,  65.85,  65.85,  65.85,  65.25,  65.35,  65.35,\n",
              "        65.25,  64.5 ,  64.5 ,  64.5 ,  64.5 ,  64.5 ,  64.1 ,  64.  ,\n",
              "        64.  ,  64.  ,  64.  ,  64.  ,  64.  ,  64.  ,  64.  ,  64.  ,\n",
              "        64.  ,  64.  ,  63.75,  63.5 ,  63.5 ,  63.5 ,  63.5 ,  63.5 ,\n",
              "        63.5 ,  63.5 ,  63.5 ,  63.5 ,  63.5 ,  66.6 ,  66.6 ,  66.6 ,\n",
              "        66.6 ,  66.6 ,  66.75,  66.5 ,  66.5 ,  66.5 ,  66.5 ,  66.5 ,\n",
              "        66.5 ,  66.5 ,  66.5 ,  66.  ,  66.  ,  66.  ,  66.  ,  66.  ,\n",
              "        66.  ,  66.25,  66.25,  66.25,  66.25,  66.25,  66.25,  66.25,\n",
              "        66.25,  66.25,  66.  ,  66.  ,  66.  ,  66.25,  66.25,  66.25,\n",
              "        66.25,  66.25,  66.25,  66.25,  66.25,  66.25,  66.25,  66.25,\n",
              "        65.5 ,  65.5 ,  65.5 ,  65.5 ,  65.25,  65.25,  65.25,  65.25,\n",
              "        65.25,  65.25,  65.25,  65.25,  65.  ,  65.  ,  65.  ,  64.75,\n",
              "        64.75,  64.75,  64.75,  64.75,  64.  ,  66.5 ,  66.5 ,  66.5 ,\n",
              "        66.5 ,  66.5 ,  66.5 ,  66.5 ,  66.5 ,  66.5 ,  66.5 ,  66.5 ,\n",
              "        66.5 ,  66.5 ,  66.5 ,  66.5 ,  66.5 ,  66.5 ,  66.  ,  66.  ,\n",
              "        66.  ,  66.  ,  66.  ,  66.  ,  66.  ,  66.  ,  66.  ,  66.  ,\n",
              "        66.  ,  65.75,  65.75,  65.75,  65.75,  65.75,  65.75,  65.75,\n",
              "        65.75,  65.75,  65.75,  65.75,  65.75,  65.75,  64.5 ,  64.75,\n",
              "        64.75,  64.75,  64.75,  64.75,  64.75,  64.75,  64.75,  64.5 ,\n",
              "        64.5 ,  64.5 ,  64.5 ,  64.5 ,  64.5 ,  64.5 ,  63.75,  63.  ,\n",
              "        63.  ,  63.  ,  63.  ,  63.  ,  62.5 ,  62.5 ,  62.5 ,  62.5 ,\n",
              "        62.5 ,  62.5 ,  62.5 ,  62.5 ,  62.5 ,  62.5 ,  62.5 ,  62.5 ,\n",
              "        62.5 ,  62.5 ,  62.5 ,  66.  ,  66.  ,  66.  ,  66.  ,  66.  ,\n",
              "        65.5 ,  65.5 ,  65.5 ,  65.5 ,  65.5 ,  65.5 ,  65.5 ,  65.5 ,\n",
              "        65.5 ,  65.  ,  65.  ,  65.  ,  65.  ,  65.  ,  65.  ,  65.  ,\n",
              "        65.  ,  65.  ,  65.25,  65.25,  65.  ,  65.  ,  65.  ,  65.  ,\n",
              "        65.  ,  65.  ,  64.5 ,  64.5 ,  64.5 ,  64.5 ,  64.5 ,  64.5 ,\n",
              "        64.  ,  64.  ,  64.  ,  64.  ,  64.  ,  64.25,  64.25,  64.25,\n",
              "        64.25,  62.75,  62.75,  62.75,  62.75,  62.75,  64.  ,  64.  ,\n",
              "        64.  ,  64.  ,  64.  ,  64.  ,  64.  ,  64.  ,  64.  ,  64.  ,\n",
              "        64.  ,  64.  ,  64.  ,  64.  ,  63.5 ,  62.  ,  62.  ,  63.25,\n",
              "        63.25,  64.  ,  64.  ,  64.  ,  62.75,  62.75])"
            ]
          },
          "metadata": {},
          "execution_count": 12
        }
      ]
    },
    {
      "cell_type": "code",
      "source": [
        "# 결과로 cm를 반환해준다.\n",
        "def inches2cm(inches):\n",
        "  return inches * 2.54"
      ],
      "metadata": {
        "id": "CRBa0G8j6l1A"
      },
      "execution_count": null,
      "outputs": []
    },
    {
      "cell_type": "code",
      "source": [
        "inches2cm(parent_avgs)"
      ],
      "metadata": {
        "id": "RZ6yEv1m6lkl",
        "colab": {
          "base_uri": "https://localhost:8080/"
        },
        "outputId": "95959437-cc63-4ad6-c844-1242ce5a8711"
      },
      "execution_count": null,
      "outputs": [
        {
          "output_type": "execute_result",
          "data": {
            "text/plain": [
              "array([ 184.785,  184.785,  184.785,  184.785,  180.34 ,  180.34 ,\n",
              "        180.34 ,  180.34 ,  176.53 ,  176.53 ,  176.53 ,  176.53 ,\n",
              "        176.53 ,  176.53 ,  176.53 ,  169.545,  169.545,  169.545,\n",
              "        169.545,  169.545,  169.545,  180.34 ,  180.34 ,  180.34 ,\n",
              "        180.34 ,  180.34 ,  180.34 ,  180.34 ,  178.435,  178.435,\n",
              "        178.435,  178.435,  177.165,  172.72 ,  172.72 ,  172.72 ,\n",
              "        172.72 ,  172.72 ,  172.72 ,  172.72 ,  172.72 ,  171.45 ,\n",
              "        177.8  ,  177.8  ,  177.8  ,  177.8  ,  177.165,  177.165,\n",
              "        177.165,  175.26 ,  175.26 ,  175.26 ,  175.26 ,  175.26 ,\n",
              "        175.26 ,  175.26 ,  175.26 ,  175.26 ,  174.625,  174.625,\n",
              "        174.625,  174.625,  174.625,  174.625,  173.99 ,  173.99 ,\n",
              "        173.99 ,  172.974,  179.959,  179.959,  179.959,  179.959,\n",
              "        179.959,  179.959,  179.959,  179.959,  177.8  ,  177.8  ,\n",
              "        177.8  ,  176.53 ,  176.53 ,  176.53 ,  173.99 ,  173.99 ,\n",
              "        173.99 ,  173.99 ,  173.99 ,  173.99 ,  173.99 ,  174.625,\n",
              "        172.72 ,  172.72 ,  171.45 ,  171.45 ,  171.45 ,  171.45 ,\n",
              "        171.45 ,  171.45 ,  171.45 ,  171.45 ,  171.45 ,  171.45 ,\n",
              "        171.45 ,  171.45 ,  171.45 ,  171.45 ,  172.72 ,  172.72 ,\n",
              "        172.72 ,  170.18 ,  170.815,  170.815,  170.815,  170.815,\n",
              "        170.815,  170.815,  170.18 ,  170.18 ,  170.18 ,  170.18 ,\n",
              "        170.18 ,  170.18 ,  170.18 ,  170.18 ,  170.18 ,  170.18 ,\n",
              "        168.91 ,  177.8  ,  177.8  ,  177.8  ,  177.8  ,  177.8  ,\n",
              "        175.26 ,  175.26 ,  175.26 ,  175.26 ,  173.99 ,  173.99 ,\n",
              "        173.99 ,  173.99 ,  173.99 ,  173.99 ,  173.99 ,  173.99 ,\n",
              "        173.99 ,  173.99 ,  173.99 ,  173.99 ,  173.99 ,  173.99 ,\n",
              "        173.99 ,  173.99 ,  173.99 ,  174.244,  173.355,  173.355,\n",
              "        173.355,  173.355,  173.355,  173.355,  173.99 ,  173.99 ,\n",
              "        173.355,  173.355,  172.72 ,  172.72 ,  172.72 ,  171.45 ,\n",
              "        171.45 ,  171.45 ,  171.45 ,  171.45 ,  171.45 ,  171.45 ,\n",
              "        171.45 ,  172.974,  172.974,  172.974,  172.974,  171.45 ,\n",
              "        171.45 ,  171.45 ,  172.72 ,  172.72 ,  172.72 ,  172.72 ,\n",
              "        172.72 ,  172.72 ,  172.72 ,  172.085,  172.085,  170.434,\n",
              "        170.434,  170.815,  170.815,  170.815,  170.815,  170.815,\n",
              "        170.18 ,  170.18 ,  170.18 ,  170.18 ,  170.18 ,  170.18 ,\n",
              "        170.18 ,  170.18 ,  170.18 ,  170.18 ,  170.18 ,  170.18 ,\n",
              "        170.18 ,  168.91 ,  168.91 ,  168.91 ,  168.91 ,  168.91 ,\n",
              "        168.91 ,  168.91 ,  168.91 ,  168.91 ,  168.91 ,  169.545,\n",
              "        169.545,  169.545,  169.545,  169.545,  168.91 ,  168.91 ,\n",
              "        168.91 ,  168.91 ,  168.91 ,  168.91 ,  168.91 ,  167.64 ,\n",
              "        163.83 ,  163.83 ,  176.53 ,  176.53 ,  176.53 ,  176.53 ,\n",
              "        176.53 ,  176.53 ,  176.53 ,  176.53 ,  176.53 ,  176.53 ,\n",
              "        175.26 ,  173.99 ,  173.99 ,  173.99 ,  173.99 ,  173.99 ,\n",
              "        173.99 ,  173.355,  173.355,  173.355,  173.355,  173.355,\n",
              "        173.355,  173.355,  173.355,  173.355,  173.355,  173.355,\n",
              "        172.085,  172.085,  172.085,  172.085,  172.085,  172.085,\n",
              "        172.085,  172.085,  172.085,  171.45 ,  171.45 ,  171.45 ,\n",
              "        171.45 ,  171.45 ,  171.45 ,  171.45 ,  171.45 ,  171.45 ,\n",
              "        171.45 ,  171.45 ,  171.45 ,  171.45 ,  171.45 ,  171.45 ,\n",
              "        171.45 ,  171.45 ,  171.45 ,  171.45 ,  171.45 ,  171.45 ,\n",
              "        171.45 ,  171.45 ,  171.45 ,  171.45 ,  171.45 ,  171.45 ,\n",
              "        171.45 ,  171.45 ,  171.45 ,  171.45 ,  171.069,  171.069,\n",
              "        171.069,  171.069,  171.069,  171.069,  171.069,  170.18 ,\n",
              "        170.18 ,  170.18 ,  170.18 ,  170.18 ,  170.18 ,  170.18 ,\n",
              "        170.18 ,  170.18 ,  170.18 ,  170.18 ,  170.434,  170.434,\n",
              "        170.434,  170.434,  170.434,  170.815,  170.815,  170.815,\n",
              "        170.815,  170.815,  170.815,  170.815,  170.815,  171.45 ,\n",
              "        170.18 ,  170.18 ,  170.18 ,  170.18 ,  170.18 ,  170.18 ,\n",
              "        170.18 ,  170.18 ,  170.18 ,  170.18 ,  170.18 ,  170.18 ,\n",
              "        170.18 ,  169.799,  169.799,  169.799,  169.799,  169.799,\n",
              "        169.799,  169.799,  169.799,  169.545,  169.545,  169.545,\n",
              "        169.545,  169.545,  169.545,  169.545,  169.545,  169.545,\n",
              "        169.545,  169.545,  169.545,  169.545,  168.91 ,  168.91 ,\n",
              "        168.91 ,  168.91 ,  168.91 ,  168.91 ,  168.91 ,  168.91 ,\n",
              "        168.275,  168.275,  168.275,  168.275,  168.275,  168.275,\n",
              "        168.275,  168.275,  168.91 ,  168.91 ,  168.91 ,  168.91 ,\n",
              "        168.91 ,  168.91 ,  168.91 ,  168.275,  168.275,  168.275,\n",
              "        166.37 ,  166.37 ,  165.1  ,  165.1  ,  165.1  ,  165.1  ,\n",
              "        165.1  ,  165.1  ,  163.195,  163.195,  163.195,  162.56 ,\n",
              "        162.56 ,  162.56 ,  162.56 ,  162.56 ,  174.625,  174.625,\n",
              "        174.625,  174.625,  174.625,  174.625,  174.625,  174.625,\n",
              "        174.625,  174.625,  172.72 ,  171.45 ,  171.45 ,  171.45 ,\n",
              "        171.45 ,  171.45 ,  171.45 ,  171.45 ,  171.45 ,  171.45 ,\n",
              "        171.45 ,  171.45 ,  172.339,  172.339,  172.339,  172.339,\n",
              "        171.45 ,  171.45 ,  171.45 ,  171.45 ,  171.45 ,  171.45 ,\n",
              "        172.085,  172.085,  172.085,  172.085,  172.085,  172.085,\n",
              "        172.085,  172.72 ,  172.72 ,  172.72 ,  172.72 ,  172.085,\n",
              "        172.085,  172.085,  172.085,  172.085,  172.085,  172.085,\n",
              "        172.085,  172.085,  172.085,  172.085,  172.085,  172.085,\n",
              "        171.45 ,  171.45 ,  171.45 ,  171.45 ,  171.45 ,  171.45 ,\n",
              "        171.45 ,  171.45 ,  171.45 ,  170.18 ,  170.18 ,  170.18 ,\n",
              "        170.18 ,  170.18 ,  170.18 ,  170.18 ,  170.18 ,  170.18 ,\n",
              "        170.18 ,  170.18 ,  170.18 ,  170.18 ,  170.18 ,  169.164,\n",
              "        169.164,  169.164,  169.164,  168.275,  167.64 ,  167.64 ,\n",
              "        167.64 ,  167.64 ,  167.64 ,  167.64 ,  167.64 ,  167.64 ,\n",
              "        167.64 ,  167.64 ,  168.275,  168.275,  168.275,  168.275,\n",
              "        168.275,  168.275,  168.275,  168.275,  168.275,  168.275,\n",
              "        167.259,  167.005,  167.005,  167.005,  166.37 ,  166.37 ,\n",
              "        166.37 ,  166.37 ,  166.37 ,  167.005,  167.005,  167.005,\n",
              "        167.005,  167.005,  167.005,  167.005,  167.005,  167.005,\n",
              "        167.005,  167.005,  167.005,  167.005,  167.005,  167.005,\n",
              "        167.005,  167.005,  167.005,  167.005,  166.37 ,  166.37 ,\n",
              "        166.37 ,  166.37 ,  165.735,  165.735,  165.735,  165.735,\n",
              "        165.735,  165.1  ,  165.1  ,  165.1  ,  165.1  ,  165.1  ,\n",
              "        165.1  ,  165.1  ,  165.1  ,  165.1  ,  163.83 ,  163.83 ,\n",
              "        163.83 ,  163.83 ,  163.83 ,  163.83 ,  163.83 ,  164.465,\n",
              "        176.784,  176.784,  172.085,  172.085,  172.085,  171.45 ,\n",
              "        171.45 ,  171.45 ,  171.45 ,  171.45 ,  171.45 ,  171.45 ,\n",
              "        171.45 ,  171.45 ,  171.45 ,  171.45 ,  168.91 ,  168.91 ,\n",
              "        169.545,  169.545,  169.545,  169.545,  169.545,  169.545,\n",
              "        169.545,  169.545,  169.545,  168.91 ,  168.91 ,  168.91 ,\n",
              "        168.91 ,  169.545,  169.545,  169.545,  169.545,  169.545,\n",
              "        169.545,  169.545,  169.545,  169.545,  169.545,  169.545,\n",
              "        169.545,  169.545,  169.545,  169.545,  169.545,  167.64 ,\n",
              "        167.64 ,  167.64 ,  167.64 ,  167.64 ,  167.64 ,  167.64 ,\n",
              "        167.64 ,  167.64 ,  167.64 ,  167.64 ,  167.64 ,  167.64 ,\n",
              "        167.64 ,  167.64 ,  167.64 ,  167.64 ,  167.64 ,  167.64 ,\n",
              "        168.275,  167.64 ,  167.64 ,  167.64 ,  167.64 ,  167.64 ,\n",
              "        167.64 ,  167.64 ,  167.64 ,  167.64 ,  167.64 ,  166.37 ,\n",
              "        166.37 ,  166.37 ,  166.37 ,  166.37 ,  166.37 ,  166.37 ,\n",
              "        166.37 ,  167.64 ,  167.64 ,  167.64 ,  167.64 ,  166.37 ,\n",
              "        166.37 ,  166.37 ,  166.37 ,  166.37 ,  166.37 ,  166.37 ,\n",
              "        166.37 ,  166.37 ,  166.37 ,  166.37 ,  166.37 ,  166.37 ,\n",
              "        166.37 ,  166.37 ,  166.37 ,  166.37 ,  166.37 ,  166.37 ,\n",
              "        167.64 ,  166.37 ,  167.259,  167.259,  167.259,  167.259,\n",
              "        167.259,  165.735,  165.989,  165.989,  165.735,  163.83 ,\n",
              "        163.83 ,  163.83 ,  163.83 ,  163.83 ,  162.814,  162.56 ,\n",
              "        162.56 ,  162.56 ,  162.56 ,  162.56 ,  162.56 ,  162.56 ,\n",
              "        162.56 ,  162.56 ,  162.56 ,  162.56 ,  161.925,  161.29 ,\n",
              "        161.29 ,  161.29 ,  161.29 ,  161.29 ,  161.29 ,  161.29 ,\n",
              "        161.29 ,  161.29 ,  161.29 ,  169.164,  169.164,  169.164,\n",
              "        169.164,  169.164,  169.545,  168.91 ,  168.91 ,  168.91 ,\n",
              "        168.91 ,  168.91 ,  168.91 ,  168.91 ,  168.91 ,  167.64 ,\n",
              "        167.64 ,  167.64 ,  167.64 ,  167.64 ,  167.64 ,  168.275,\n",
              "        168.275,  168.275,  168.275,  168.275,  168.275,  168.275,\n",
              "        168.275,  168.275,  167.64 ,  167.64 ,  167.64 ,  168.275,\n",
              "        168.275,  168.275,  168.275,  168.275,  168.275,  168.275,\n",
              "        168.275,  168.275,  168.275,  168.275,  166.37 ,  166.37 ,\n",
              "        166.37 ,  166.37 ,  165.735,  165.735,  165.735,  165.735,\n",
              "        165.735,  165.735,  165.735,  165.735,  165.1  ,  165.1  ,\n",
              "        165.1  ,  164.465,  164.465,  164.465,  164.465,  164.465,\n",
              "        162.56 ,  168.91 ,  168.91 ,  168.91 ,  168.91 ,  168.91 ,\n",
              "        168.91 ,  168.91 ,  168.91 ,  168.91 ,  168.91 ,  168.91 ,\n",
              "        168.91 ,  168.91 ,  168.91 ,  168.91 ,  168.91 ,  168.91 ,\n",
              "        167.64 ,  167.64 ,  167.64 ,  167.64 ,  167.64 ,  167.64 ,\n",
              "        167.64 ,  167.64 ,  167.64 ,  167.64 ,  167.64 ,  167.005,\n",
              "        167.005,  167.005,  167.005,  167.005,  167.005,  167.005,\n",
              "        167.005,  167.005,  167.005,  167.005,  167.005,  167.005,\n",
              "        163.83 ,  164.465,  164.465,  164.465,  164.465,  164.465,\n",
              "        164.465,  164.465,  164.465,  163.83 ,  163.83 ,  163.83 ,\n",
              "        163.83 ,  163.83 ,  163.83 ,  163.83 ,  161.925,  160.02 ,\n",
              "        160.02 ,  160.02 ,  160.02 ,  160.02 ,  158.75 ,  158.75 ,\n",
              "        158.75 ,  158.75 ,  158.75 ,  158.75 ,  158.75 ,  158.75 ,\n",
              "        158.75 ,  158.75 ,  158.75 ,  158.75 ,  158.75 ,  158.75 ,\n",
              "        158.75 ,  167.64 ,  167.64 ,  167.64 ,  167.64 ,  167.64 ,\n",
              "        166.37 ,  166.37 ,  166.37 ,  166.37 ,  166.37 ,  166.37 ,\n",
              "        166.37 ,  166.37 ,  166.37 ,  165.1  ,  165.1  ,  165.1  ,\n",
              "        165.1  ,  165.1  ,  165.1  ,  165.1  ,  165.1  ,  165.1  ,\n",
              "        165.735,  165.735,  165.1  ,  165.1  ,  165.1  ,  165.1  ,\n",
              "        165.1  ,  165.1  ,  163.83 ,  163.83 ,  163.83 ,  163.83 ,\n",
              "        163.83 ,  163.83 ,  162.56 ,  162.56 ,  162.56 ,  162.56 ,\n",
              "        162.56 ,  163.195,  163.195,  163.195,  163.195,  159.385,\n",
              "        159.385,  159.385,  159.385,  159.385,  162.56 ,  162.56 ,\n",
              "        162.56 ,  162.56 ,  162.56 ,  162.56 ,  162.56 ,  162.56 ,\n",
              "        162.56 ,  162.56 ,  162.56 ,  162.56 ,  162.56 ,  162.56 ,\n",
              "        161.29 ,  157.48 ,  157.48 ,  160.655,  160.655,  162.56 ,\n",
              "        162.56 ,  162.56 ,  159.385,  159.385])"
            ]
          },
          "metadata": {},
          "execution_count": 14
        }
      ]
    },
    {
      "cell_type": "code",
      "source": [
        "heights = Table().with_columns(\n",
        "    'Parent Average', inches2cm(parent_avgs),\n",
        "    'Child', inches2cm(families.column('child')),\n",
        "    'Sex', families.column('sex')\n",
        ")\n",
        "heights"
      ],
      "metadata": {
        "id": "VplvXRQu6ldl",
        "colab": {
          "base_uri": "https://localhost:8080/",
          "height": 392
        },
        "outputId": "3066c5cb-933c-4536-88f5-2e7f27094480"
      },
      "execution_count": null,
      "outputs": [
        {
          "output_type": "execute_result",
          "data": {
            "text/plain": [
              "Parent Average | Child   | Sex\n",
              "184.785        | 185.928 | male\n",
              "184.785        | 175.768 | female\n",
              "184.785        | 175.26  | female\n",
              "184.785        | 175.26  | female\n",
              "180.34         | 186.69  | male\n",
              "180.34         | 184.15  | male\n",
              "180.34         | 166.37  | female\n",
              "180.34         | 166.37  | female\n",
              "176.53         | 180.34  | male\n",
              "176.53         | 172.72  | female\n",
              "... (924 rows omitted)"
            ],
            "text/html": [
              "<table border=\"1\" class=\"dataframe\">\n",
              "    <thead>\n",
              "        <tr>\n",
              "            <th>Parent Average</th> <th>Child</th> <th>Sex</th>\n",
              "        </tr>\n",
              "    </thead>\n",
              "    <tbody>\n",
              "        <tr>\n",
              "            <td>184.785       </td> <td>185.928</td> <td>male  </td>\n",
              "        </tr>\n",
              "        <tr>\n",
              "            <td>184.785       </td> <td>175.768</td> <td>female</td>\n",
              "        </tr>\n",
              "        <tr>\n",
              "            <td>184.785       </td> <td>175.26 </td> <td>female</td>\n",
              "        </tr>\n",
              "        <tr>\n",
              "            <td>184.785       </td> <td>175.26 </td> <td>female</td>\n",
              "        </tr>\n",
              "        <tr>\n",
              "            <td>180.34        </td> <td>186.69 </td> <td>male  </td>\n",
              "        </tr>\n",
              "        <tr>\n",
              "            <td>180.34        </td> <td>184.15 </td> <td>male  </td>\n",
              "        </tr>\n",
              "        <tr>\n",
              "            <td>180.34        </td> <td>166.37 </td> <td>female</td>\n",
              "        </tr>\n",
              "        <tr>\n",
              "            <td>180.34        </td> <td>166.37 </td> <td>female</td>\n",
              "        </tr>\n",
              "        <tr>\n",
              "            <td>176.53        </td> <td>180.34 </td> <td>male  </td>\n",
              "        </tr>\n",
              "        <tr>\n",
              "            <td>176.53        </td> <td>172.72 </td> <td>female</td>\n",
              "        </tr>\n",
              "    </tbody>\n",
              "</table>\n",
              "<p>... (924 rows omitted)</p>"
            ]
          },
          "metadata": {},
          "execution_count": 18
        }
      ]
    },
    {
      "cell_type": "code",
      "source": [
        "heights.scatter('Parent Average', 'Child')"
      ],
      "metadata": {
        "id": "lPkdtpNY7JV4",
        "colab": {
          "base_uri": "https://localhost:8080/",
          "height": 359
        },
        "outputId": "88822d95-cd8c-45a2-9df3-a90b64444a21"
      },
      "execution_count": null,
      "outputs": [
        {
          "output_type": "display_data",
          "data": {
            "text/plain": [
              "<Figure size 360x360 with 1 Axes>"
            ],
            "image/png": "[encoded data removed]"
          },
          "metadata": {}
        }
      ]
    },
    {
      "cell_type": "code",
      "source": [
        "heights.scatter('Parent Average', 'Child')\n",
        "\n",
        "# plots.plot( x범위, y범위, option.. )\n",
        "# 이 구간의 평균을 가지고 이제 prediction 해볼것임\n",
        "plots.plot([169, 169], [130, 210], color='red', lw=2)\n",
        "plots.plot([171, 171], [130, 210], color='red', lw=2);"
      ],
      "metadata": {
        "id": "3Xx5DGWZ7PEk",
        "colab": {
          "base_uri": "https://localhost:8080/",
          "height": 359
        },
        "outputId": "fb65f8f6-ca02-4367-d650-2a70aa3f58d9"
      },
      "execution_count": null,
      "outputs": [
        {
          "output_type": "display_data",
          "data": {
            "text/plain": [
              "<Figure size 360x360 with 1 Axes>"
            ],
            "image/png": "[encoded data removed]"
          },
          "metadata": {}
        }
      ]
    },
    {
      "cell_type": "code",
      "source": [
        "nearby = heights.where('Parent Average', are.between(170-1, 170+1))"
      ],
      "metadata": {
        "id": "h5i-qJAd7Vzg"
      },
      "execution_count": null,
      "outputs": []
    },
    {
      "cell_type": "code",
      "source": [
        "nearby_mean = np.mean(nearby.column('Child'))\n",
        "print(nearby_mean)"
      ],
      "metadata": {
        "id": "paBNuofb7VrM",
        "colab": {
          "base_uri": "https://localhost:8080/"
        },
        "outputId": "e794a9f9-b580-421f-b33e-3a276ab8e260"
      },
      "execution_count": null,
      "outputs": [
        {
          "output_type": "stream",
          "name": "stdout",
          "text": [
            "169.765406452\n"
          ]
        }
      ]
    },
    {
      "cell_type": "code",
      "source": [
        "heights.scatter('Parent Average', 'Child')\n",
        "plots.plot([169, 169], [130, 210], color='red', lw=2)\n",
        "plots.plot([171, 171], [130, 210], color='red', lw=2)\n",
        "plots.scatter(170, nearby_mean, color='red', s=50);"
      ],
      "metadata": {
        "id": "ci876w7W7Wak",
        "colab": {
          "base_uri": "https://localhost:8080/",
          "height": 359
        },
        "outputId": "74c5e70e-eec7-4bdf-a782-052c4e485b31"
      },
      "execution_count": null,
      "outputs": [
        {
          "output_type": "display_data",
          "data": {
            "text/plain": [
              "<Figure size 360x360 with 1 Axes>"
            ],
            "image/png": "[encoded data removed]"
          },
          "metadata": {}
        }
      ]
    },
    {
      "cell_type": "code",
      "source": [
        "def predict(parent_avgs):\n",
        "    nearby = heights.where('Parent Average', are.between(parent_avgs-1, parent_avgs+1))\n",
        "    nearby_mean = np.mean(nearby.column('Child'))\n",
        "    return nearby_mean"
      ],
      "metadata": {
        "id": "ACWQcxOe7adb"
      },
      "execution_count": null,
      "outputs": []
    },
    {
      "cell_type": "code",
      "source": [
        "predict(170)"
      ],
      "metadata": {
        "id": "cv86IapK8HT6",
        "colab": {
          "base_uri": "https://localhost:8080/"
        },
        "outputId": "9bb9dad9-dfa5-4d41-df68-f17c1146395c"
      },
      "execution_count": null,
      "outputs": [
        {
          "output_type": "execute_result",
          "data": {
            "text/plain": [
              "169.76540645161293"
            ]
          },
          "metadata": {},
          "execution_count": 32
        }
      ]
    },
    {
      "cell_type": "code",
      "source": [
        "predicted_heights = heights.apply(predict, 'Parent Average')\n",
        "predicted_heights"
      ],
      "metadata": {
        "id": "HK_qCrSB8HK0",
        "colab": {
          "base_uri": "https://localhost:8080/"
        },
        "outputId": "495342f1-2c03-4c70-f391-bc1cd84db3aa"
      },
      "execution_count": null,
      "outputs": [
        {
          "output_type": "execute_result",
          "data": {
            "text/plain": [
              "array([ 178.054     ,  178.054     ,  178.054     ,  178.054     ,\n",
              "        178.85610526,  178.85610526,  178.85610526,  178.85610526,\n",
              "        172.68092308,  172.68092308,  172.68092308,  172.68092308,\n",
              "        172.68092308,  172.68092308,  172.68092308,  169.28846   ,\n",
              "        169.28846   ,  169.28846   ,  169.28846   ,  169.28846   ,\n",
              "        169.28846   ,  178.85610526,  178.85610526,  178.85610526,\n",
              "        178.85610526,  178.85610526,  178.85610526,  178.85610526,\n",
              "        176.53      ,  176.53      ,  176.53      ,  176.53      ,\n",
              "        174.39773684,  172.07935556,  172.07935556,  172.07935556,\n",
              "        172.07935556,  172.07935556,  172.07935556,  172.07935556,\n",
              "        172.07935556,  171.88930818,  175.9839    ,  175.9839    ,\n",
              "        175.9839    ,  175.9839    ,  174.39773684,  174.39773684,\n",
              "        174.39773684,  173.64587097,  173.64587097,  173.64587097,\n",
              "        173.64587097,  173.64587097,  173.64587097,  173.64587097,\n",
              "        173.64587097,  173.64587097,  172.68967164,  172.68967164,\n",
              "        172.68967164,  172.68967164,  172.68967164,  172.68967164,\n",
              "        172.16261111,  172.16261111,  172.16261111,  172.07935556,\n",
              "        178.85610526,  178.85610526,  178.85610526,  178.85610526,\n",
              "        178.85610526,  178.85610526,  178.85610526,  178.85610526,\n",
              "        175.9839    ,  175.9839    ,  175.9839    ,  172.68092308,\n",
              "        172.68092308,  172.68092308,  172.16261111,  172.16261111,\n",
              "        172.16261111,  172.16261111,  172.16261111,  172.16261111,\n",
              "        172.16261111,  172.68967164,  172.07935556,  172.07935556,\n",
              "        171.88930818,  171.88930818,  171.88930818,  171.88930818,\n",
              "        171.88930818,  171.88930818,  171.88930818,  171.88930818,\n",
              "        171.88930818,  171.88930818,  171.88930818,  171.88930818,\n",
              "        171.88930818,  171.88930818,  172.07935556,  172.07935556,\n",
              "        172.07935556,  169.64875817,  171.01017895,  171.01017895,\n",
              "        171.01017895,  171.01017895,  171.01017895,  171.01017895,\n",
              "        169.64875817,  169.64875817,  169.64875817,  169.64875817,\n",
              "        169.64875817,  169.64875817,  169.64875817,  169.64875817,\n",
              "        169.64875817,  169.64875817,  168.36842529,  175.9839    ,\n",
              "        175.9839    ,  175.9839    ,  175.9839    ,  175.9839    ,\n",
              "        173.64587097,  173.64587097,  173.64587097,  173.64587097,\n",
              "        172.16261111,  172.16261111,  172.16261111,  172.16261111,\n",
              "        172.16261111,  172.16261111,  172.16261111,  172.16261111,\n",
              "        172.16261111,  172.16261111,  172.16261111,  172.16261111,\n",
              "        172.16261111,  172.16261111,  172.16261111,  172.16261111,\n",
              "        172.16261111,  172.16261111,  171.56545455,  171.56545455,\n",
              "        171.56545455,  171.56545455,  171.56545455,  171.56545455,\n",
              "        172.16261111,  172.16261111,  171.56545455,  171.56545455,\n",
              "        172.07935556,  172.07935556,  172.07935556,  171.88930818,\n",
              "        171.88930818,  171.88930818,  171.88930818,  171.88930818,\n",
              "        171.88930818,  171.88930818,  171.88930818,  172.07935556,\n",
              "        172.07935556,  172.07935556,  172.07935556,  171.88930818,\n",
              "        171.88930818,  171.88930818,  172.07935556,  172.07935556,\n",
              "        172.07935556,  172.07935556,  172.07935556,  172.07935556,\n",
              "        172.07935556,  171.56016867,  171.56016867,  169.64875817,\n",
              "        169.64875817,  171.01017895,  171.01017895,  171.01017895,\n",
              "        171.01017895,  171.01017895,  169.64875817,  169.64875817,\n",
              "        169.64875817,  169.64875817,  169.64875817,  169.64875817,\n",
              "        169.64875817,  169.64875817,  169.64875817,  169.64875817,\n",
              "        169.64875817,  169.64875817,  169.64875817,  168.36842529,\n",
              "        168.36842529,  168.36842529,  168.36842529,  168.36842529,\n",
              "        168.36842529,  168.36842529,  168.36842529,  168.36842529,\n",
              "        168.36842529,  169.28846   ,  169.28846   ,  169.28846   ,\n",
              "        169.28846   ,  169.28846   ,  168.36842529,  168.36842529,\n",
              "        168.36842529,  168.36842529,  168.36842529,  168.36842529,\n",
              "        168.36842529,  167.6334026 ,  167.79032653,  167.79032653,\n",
              "        172.68092308,  172.68092308,  172.68092308,  172.68092308,\n",
              "        172.68092308,  172.68092308,  172.68092308,  172.68092308,\n",
              "        172.68092308,  172.68092308,  173.64587097,  172.16261111,\n",
              "        172.16261111,  172.16261111,  172.16261111,  172.16261111,\n",
              "        172.16261111,  171.56545455,  171.56545455,  171.56545455,\n",
              "        171.56545455,  171.56545455,  171.56545455,  171.56545455,\n",
              "        171.56545455,  171.56545455,  171.56545455,  171.56545455,\n",
              "        171.56016867,  171.56016867,  171.56016867,  171.56016867,\n",
              "        171.56016867,  171.56016867,  171.56016867,  171.56016867,\n",
              "        171.56016867,  171.88930818,  171.88930818,  171.88930818,\n",
              "        171.88930818,  171.88930818,  171.88930818,  171.88930818,\n",
              "        171.88930818,  171.88930818,  171.88930818,  171.88930818,\n",
              "        171.88930818,  171.88930818,  171.88930818,  171.88930818,\n",
              "        171.88930818,  171.88930818,  171.88930818,  171.88930818,\n",
              "        171.88930818,  171.88930818,  171.88930818,  171.88930818,\n",
              "        171.88930818,  171.88930818,  171.88930818,  171.88930818,\n",
              "        171.88930818,  171.88930818,  171.88930818,  171.88930818,\n",
              "        171.01017895,  171.01017895,  171.01017895,  171.01017895,\n",
              "        171.01017895,  171.01017895,  171.01017895,  169.64875817,\n",
              "        169.64875817,  169.64875817,  169.64875817,  169.64875817,\n",
              "        169.64875817,  169.64875817,  169.64875817,  169.64875817,\n",
              "        169.64875817,  169.64875817,  169.64875817,  169.64875817,\n",
              "        169.64875817,  169.64875817,  169.64875817,  171.01017895,\n",
              "        171.01017895,  171.01017895,  171.01017895,  171.01017895,\n",
              "        171.01017895,  171.01017895,  171.01017895,  171.88930818,\n",
              "        169.64875817,  169.64875817,  169.64875817,  169.64875817,\n",
              "        169.64875817,  169.64875817,  169.64875817,  169.64875817,\n",
              "        169.64875817,  169.64875817,  169.64875817,  169.64875817,\n",
              "        169.64875817,  169.28846   ,  169.28846   ,  169.28846   ,\n",
              "        169.28846   ,  169.28846   ,  169.28846   ,  169.28846   ,\n",
              "        169.28846   ,  169.28846   ,  169.28846   ,  169.28846   ,\n",
              "        169.28846   ,  169.28846   ,  169.28846   ,  169.28846   ,\n",
              "        169.28846   ,  169.28846   ,  169.28846   ,  169.28846   ,\n",
              "        169.28846   ,  169.28846   ,  168.36842529,  168.36842529,\n",
              "        168.36842529,  168.36842529,  168.36842529,  168.36842529,\n",
              "        168.36842529,  168.36842529,  168.27363441,  168.27363441,\n",
              "        168.27363441,  168.27363441,  168.27363441,  168.27363441,\n",
              "        168.27363441,  168.27363441,  168.36842529,  168.36842529,\n",
              "        168.36842529,  168.36842529,  168.36842529,  168.36842529,\n",
              "        168.36842529,  168.27363441,  168.27363441,  168.27363441,\n",
              "        168.67414286,  168.67414286,  167.66309091,  167.66309091,\n",
              "        167.66309091,  167.66309091,  167.66309091,  167.66309091,\n",
              "        165.33368   ,  165.33368   ,  165.33368   ,  165.29179592,\n",
              "        165.29179592,  165.29179592,  165.29179592,  165.29179592,\n",
              "        172.68967164,  172.68967164,  172.68967164,  172.68967164,\n",
              "        172.68967164,  172.68967164,  172.68967164,  172.68967164,\n",
              "        172.68967164,  172.68967164,  172.07935556,  171.88930818,\n",
              "        171.88930818,  171.88930818,  171.88930818,  171.88930818,\n",
              "        171.88930818,  171.88930818,  171.88930818,  171.88930818,\n",
              "        171.88930818,  171.88930818,  171.56016867,  171.56016867,\n",
              "        171.56016867,  171.56016867,  171.88930818,  171.88930818,\n",
              "        171.88930818,  171.88930818,  171.88930818,  171.88930818,\n",
              "        171.56016867,  171.56016867,  171.56016867,  171.56016867,\n",
              "        171.56016867,  171.56016867,  171.56016867,  172.07935556,\n",
              "        172.07935556,  172.07935556,  172.07935556,  171.56016867,\n",
              "        171.56016867,  171.56016867,  171.56016867,  171.56016867,\n",
              "        171.56016867,  171.56016867,  171.56016867,  171.56016867,\n",
              "        171.56016867,  171.56016867,  171.56016867,  171.56016867,\n",
              "        171.88930818,  171.88930818,  171.88930818,  171.88930818,\n",
              "        171.88930818,  171.88930818,  171.88930818,  171.88930818,\n",
              "        171.88930818,  169.64875817,  169.64875817,  169.64875817,\n",
              "        169.64875817,  169.64875817,  169.64875817,  169.64875817,\n",
              "        169.64875817,  169.64875817,  169.64875817,  169.64875817,\n",
              "        169.64875817,  169.64875817,  169.64875817,  168.36842529,\n",
              "        168.36842529,  168.36842529,  168.36842529,  168.27363441,\n",
              "        167.6334026 ,  167.6334026 ,  167.6334026 ,  167.6334026 ,\n",
              "        167.6334026 ,  167.6334026 ,  167.6334026 ,  167.6334026 ,\n",
              "        167.6334026 ,  167.6334026 ,  168.27363441,  168.27363441,\n",
              "        168.27363441,  168.27363441,  168.27363441,  168.27363441,\n",
              "        168.27363441,  168.27363441,  168.27363441,  168.27363441,\n",
              "        168.11371779,  168.11371779,  168.11371779,  168.11371779,\n",
              "        168.67414286,  168.67414286,  168.67414286,  168.67414286,\n",
              "        168.67414286,  168.11371779,  168.11371779,  168.11371779,\n",
              "        168.11371779,  168.11371779,  168.11371779,  168.11371779,\n",
              "        168.11371779,  168.11371779,  168.11371779,  168.11371779,\n",
              "        168.11371779,  168.11371779,  168.11371779,  168.11371779,\n",
              "        168.11371779,  168.11371779,  168.11371779,  168.11371779,\n",
              "        168.67414286,  168.67414286,  168.67414286,  168.67414286,\n",
              "        167.92330769,  167.92330769,  167.92330769,  167.92330769,\n",
              "        167.92330769,  167.66309091,  167.66309091,  167.66309091,\n",
              "        167.66309091,  167.66309091,  167.66309091,  167.66309091,\n",
              "        167.66309091,  167.66309091,  167.79032653,  167.79032653,\n",
              "        167.79032653,  167.79032653,  167.79032653,  167.79032653,\n",
              "        167.79032653,  166.34629333,  172.68092308,  172.68092308,\n",
              "        171.56016867,  171.56016867,  171.56016867,  171.88930818,\n",
              "        171.88930818,  171.88930818,  171.88930818,  171.88930818,\n",
              "        171.88930818,  171.88930818,  171.88930818,  171.88930818,\n",
              "        171.88930818,  171.88930818,  168.36842529,  168.36842529,\n",
              "        169.28846   ,  169.28846   ,  169.28846   ,  169.28846   ,\n",
              "        169.28846   ,  169.28846   ,  169.28846   ,  169.28846   ,\n",
              "        169.28846   ,  168.36842529,  168.36842529,  168.36842529,\n",
              "        168.36842529,  169.28846   ,  169.28846   ,  169.28846   ,\n",
              "        169.28846   ,  169.28846   ,  169.28846   ,  169.28846   ,\n",
              "        169.28846   ,  169.28846   ,  169.28846   ,  169.28846   ,\n",
              "        169.28846   ,  169.28846   ,  169.28846   ,  169.28846   ,\n",
              "        169.28846   ,  167.6334026 ,  167.6334026 ,  167.6334026 ,\n",
              "        167.6334026 ,  167.6334026 ,  167.6334026 ,  167.6334026 ,\n",
              "        167.6334026 ,  167.6334026 ,  167.6334026 ,  167.6334026 ,\n",
              "        167.6334026 ,  167.6334026 ,  167.6334026 ,  167.6334026 ,\n",
              "        167.6334026 ,  167.6334026 ,  167.6334026 ,  167.6334026 ,\n",
              "        168.27363441,  167.6334026 ,  167.6334026 ,  167.6334026 ,\n",
              "        167.6334026 ,  167.6334026 ,  167.6334026 ,  167.6334026 ,\n",
              "        167.6334026 ,  167.6334026 ,  167.6334026 ,  168.67414286,\n",
              "        168.67414286,  168.67414286,  168.67414286,  168.67414286,\n",
              "        168.67414286,  168.67414286,  168.67414286,  167.6334026 ,\n",
              "        167.6334026 ,  167.6334026 ,  167.6334026 ,  168.67414286,\n",
              "        168.67414286,  168.67414286,  168.67414286,  168.67414286,\n",
              "        168.67414286,  168.67414286,  168.67414286,  168.67414286,\n",
              "        168.67414286,  168.67414286,  168.67414286,  168.67414286,\n",
              "        168.67414286,  168.67414286,  168.67414286,  168.67414286,\n",
              "        168.67414286,  168.67414286,  167.6334026 ,  168.67414286,\n",
              "        168.11371779,  168.11371779,  168.11371779,  168.11371779,\n",
              "        168.11371779,  167.92330769,  167.92330769,  167.92330769,\n",
              "        167.92330769,  167.79032653,  167.79032653,  167.79032653,\n",
              "        167.79032653,  167.79032653,  165.29179592,  165.29179592,\n",
              "        165.29179592,  165.29179592,  165.29179592,  165.29179592,\n",
              "        165.29179592,  165.29179592,  165.29179592,  165.29179592,\n",
              "        165.29179592,  165.29179592,  163.96898113,  165.47253333,\n",
              "        165.47253333,  165.47253333,  165.47253333,  165.47253333,\n",
              "        165.47253333,  165.47253333,  165.47253333,  165.47253333,\n",
              "        165.47253333,  168.36842529,  168.36842529,  168.36842529,\n",
              "        168.36842529,  168.36842529,  169.28846   ,  168.36842529,\n",
              "        168.36842529,  168.36842529,  168.36842529,  168.36842529,\n",
              "        168.36842529,  168.36842529,  168.36842529,  167.6334026 ,\n",
              "        167.6334026 ,  167.6334026 ,  167.6334026 ,  167.6334026 ,\n",
              "        167.6334026 ,  168.27363441,  168.27363441,  168.27363441,\n",
              "        168.27363441,  168.27363441,  168.27363441,  168.27363441,\n",
              "        168.27363441,  168.27363441,  167.6334026 ,  167.6334026 ,\n",
              "        167.6334026 ,  168.27363441,  168.27363441,  168.27363441,\n",
              "        168.27363441,  168.27363441,  168.27363441,  168.27363441,\n",
              "        168.27363441,  168.27363441,  168.27363441,  168.27363441,\n",
              "        168.67414286,  168.67414286,  168.67414286,  168.67414286,\n",
              "        167.92330769,  167.92330769,  167.92330769,  167.92330769,\n",
              "        167.92330769,  167.92330769,  167.92330769,  167.92330769,\n",
              "        167.66309091,  167.66309091,  167.66309091,  166.34629333,\n",
              "        166.34629333,  166.34629333,  166.34629333,  166.34629333,\n",
              "        165.29179592,  168.36842529,  168.36842529,  168.36842529,\n",
              "        168.36842529,  168.36842529,  168.36842529,  168.36842529,\n",
              "        168.36842529,  168.36842529,  168.36842529,  168.36842529,\n",
              "        168.36842529,  168.36842529,  168.36842529,  168.36842529,\n",
              "        168.36842529,  168.36842529,  167.6334026 ,  167.6334026 ,\n",
              "        167.6334026 ,  167.6334026 ,  167.6334026 ,  167.6334026 ,\n",
              "        167.6334026 ,  167.6334026 ,  167.6334026 ,  167.6334026 ,\n",
              "        167.6334026 ,  168.11371779,  168.11371779,  168.11371779,\n",
              "        168.11371779,  168.11371779,  168.11371779,  168.11371779,\n",
              "        168.11371779,  168.11371779,  168.11371779,  168.11371779,\n",
              "        168.11371779,  168.11371779,  167.79032653,  166.34629333,\n",
              "        166.34629333,  166.34629333,  166.34629333,  166.34629333,\n",
              "        166.34629333,  166.34629333,  166.34629333,  167.79032653,\n",
              "        167.79032653,  167.79032653,  167.79032653,  167.79032653,\n",
              "        167.79032653,  167.79032653,  163.96898113,  165.55357143,\n",
              "        165.55357143,  165.55357143,  165.55357143,  165.55357143,\n",
              "        162.69854545,  162.69854545,  162.69854545,  162.69854545,\n",
              "        162.69854545,  162.69854545,  162.69854545,  162.69854545,\n",
              "        162.69854545,  162.69854545,  162.69854545,  162.69854545,\n",
              "        162.69854545,  162.69854545,  162.69854545,  167.6334026 ,\n",
              "        167.6334026 ,  167.6334026 ,  167.6334026 ,  167.6334026 ,\n",
              "        168.67414286,  168.67414286,  168.67414286,  168.67414286,\n",
              "        168.67414286,  168.67414286,  168.67414286,  168.67414286,\n",
              "        168.67414286,  167.66309091,  167.66309091,  167.66309091,\n",
              "        167.66309091,  167.66309091,  167.66309091,  167.66309091,\n",
              "        167.66309091,  167.66309091,  167.92330769,  167.92330769,\n",
              "        167.66309091,  167.66309091,  167.66309091,  167.66309091,\n",
              "        167.66309091,  167.66309091,  167.79032653,  167.79032653,\n",
              "        167.79032653,  167.79032653,  167.79032653,  167.79032653,\n",
              "        165.29179592,  165.29179592,  165.29179592,  165.29179592,\n",
              "        165.29179592,  165.33368   ,  165.33368   ,  165.33368   ,\n",
              "        165.33368   ,  163.14325926,  163.14325926,  163.14325926,\n",
              "        163.14325926,  163.14325926,  165.29179592,  165.29179592,\n",
              "        165.29179592,  165.29179592,  165.29179592,  165.29179592,\n",
              "        165.29179592,  165.29179592,  165.29179592,  165.29179592,\n",
              "        165.29179592,  165.29179592,  165.29179592,  165.29179592,\n",
              "        165.47253333,  160.02      ,  160.02      ,  164.14044444,\n",
              "        164.14044444,  165.29179592,  165.29179592,  165.29179592,\n",
              "        163.14325926,  163.14325926])"
            ]
          },
          "metadata": {},
          "execution_count": 33
        }
      ]
    },
    {
      "cell_type": "code",
      "source": [
        "heights = heights.with_column('Prediction',predicted_heights)\n",
        "heights"
      ],
      "metadata": {
        "colab": {
          "base_uri": "https://localhost:8080/",
          "height": 392
        },
        "id": "qhOJ6gpN18JN",
        "outputId": "88a34a0c-2e31-4e8c-c1f1-6c6c2ceecaa3"
      },
      "execution_count": null,
      "outputs": [
        {
          "output_type": "execute_result",
          "data": {
            "text/plain": [
              "Parent Average | Child   | Sex    | Prediction\n",
              "184.785        | 185.928 | male   | 178.054\n",
              "184.785        | 175.768 | female | 178.054\n",
              "184.785        | 175.26  | female | 178.054\n",
              "184.785        | 175.26  | female | 178.054\n",
              "180.34         | 186.69  | male   | 178.856\n",
              "180.34         | 184.15  | male   | 178.856\n",
              "180.34         | 166.37  | female | 178.856\n",
              "180.34         | 166.37  | female | 178.856\n",
              "176.53         | 180.34  | male   | 172.681\n",
              "176.53         | 172.72  | female | 172.681\n",
              "... (924 rows omitted)"
            ],
            "text/html": [
              "<table border=\"1\" class=\"dataframe\">\n",
              "    <thead>\n",
              "        <tr>\n",
              "            <th>Parent Average</th> <th>Child</th> <th>Sex</th> <th>Prediction</th>\n",
              "        </tr>\n",
              "    </thead>\n",
              "    <tbody>\n",
              "        <tr>\n",
              "            <td>184.785       </td> <td>185.928</td> <td>male  </td> <td>178.054   </td>\n",
              "        </tr>\n",
              "        <tr>\n",
              "            <td>184.785       </td> <td>175.768</td> <td>female</td> <td>178.054   </td>\n",
              "        </tr>\n",
              "        <tr>\n",
              "            <td>184.785       </td> <td>175.26 </td> <td>female</td> <td>178.054   </td>\n",
              "        </tr>\n",
              "        <tr>\n",
              "            <td>184.785       </td> <td>175.26 </td> <td>female</td> <td>178.054   </td>\n",
              "        </tr>\n",
              "        <tr>\n",
              "            <td>180.34        </td> <td>186.69 </td> <td>male  </td> <td>178.856   </td>\n",
              "        </tr>\n",
              "        <tr>\n",
              "            <td>180.34        </td> <td>184.15 </td> <td>male  </td> <td>178.856   </td>\n",
              "        </tr>\n",
              "        <tr>\n",
              "            <td>180.34        </td> <td>166.37 </td> <td>female</td> <td>178.856   </td>\n",
              "        </tr>\n",
              "        <tr>\n",
              "            <td>180.34        </td> <td>166.37 </td> <td>female</td> <td>178.856   </td>\n",
              "        </tr>\n",
              "        <tr>\n",
              "            <td>176.53        </td> <td>180.34 </td> <td>male  </td> <td>172.681   </td>\n",
              "        </tr>\n",
              "        <tr>\n",
              "            <td>176.53        </td> <td>172.72 </td> <td>female</td> <td>172.681   </td>\n",
              "        </tr>\n",
              "    </tbody>\n",
              "</table>\n",
              "<p>... (924 rows omitted)</p>"
            ]
          },
          "metadata": {},
          "execution_count": 35
        }
      ]
    },
    {
      "cell_type": "code",
      "source": [
        "# scatter(0) 첫 번째것을 기준으로 그려라\n",
        "heights.select('Parent Average', 'Child', 'Prediction').scatter(0)"
      ],
      "metadata": {
        "colab": {
          "base_uri": "https://localhost:8080/",
          "height": 362
        },
        "id": "npmadp9Z2HTW",
        "outputId": "24874f95-d1bb-45a9-f3e1-7efb6bc4fdf1"
      },
      "execution_count": null,
      "outputs": [
        {
          "output_type": "display_data",
          "data": {
            "text/plain": [
              "<Figure size 360x360 with 1 Axes>"
            ],
            "image/png": "[encoded data removed]"
          },
          "metadata": {}
        }
      ]
    },
    {
      "cell_type": "markdown",
      "source": [
        "## Prediction Accuracy"
      ],
      "metadata": {
        "id": "dQMWMVQS8Ilr"
      }
    },
    {
      "cell_type": "code",
      "source": [
        "def difference(x, y):\n",
        "  return x-y"
      ],
      "metadata": {
        "id": "gj1DTYcy8O18"
      },
      "execution_count": null,
      "outputs": []
    },
    {
      "cell_type": "code",
      "source": [
        "# 각각에 대한 error를 구할 수 있다.\n",
        "pred_errs = heights.apply(difference, 'Prediction', 'Child')\n",
        "heights = heights.with_column('Errors', pred_errs)\n",
        "heights.show(3)"
      ],
      "metadata": {
        "id": "rEZ34rPd8P0r",
        "colab": {
          "base_uri": "https://localhost:8080/",
          "height": 173
        },
        "outputId": "8c105700-f6a4-40f3-fccf-0011be6fe49b"
      },
      "execution_count": null,
      "outputs": [
        {
          "output_type": "display_data",
          "data": {
            "text/plain": [
              "<IPython.core.display.HTML object>"
            ],
            "text/html": [
              "<table border=\"1\" class=\"dataframe\">\n",
              "    <thead>\n",
              "        <tr>\n",
              "            <th>Parent Average</th> <th>Child</th> <th>Sex</th> <th>Prediction</th> <th>Errors</th>\n",
              "        </tr>\n",
              "    </thead>\n",
              "    <tbody>\n",
              "        <tr>\n",
              "            <td>184.785       </td> <td>185.928</td> <td>male  </td> <td>178.054   </td> <td>-7.874</td>\n",
              "        </tr>\n",
              "        <tr>\n",
              "            <td>184.785       </td> <td>175.768</td> <td>female</td> <td>178.054   </td> <td>2.286 </td>\n",
              "        </tr>\n",
              "        <tr>\n",
              "            <td>184.785       </td> <td>175.26 </td> <td>female</td> <td>178.054   </td> <td>2.794 </td>\n",
              "        </tr>\n",
              "    </tbody>\n",
              "</table>\n",
              "<p>... (931 rows omitted)</p>"
            ]
          },
          "metadata": {}
        }
      ]
    },
    {
      "cell_type": "code",
      "source": [
        "heights.hist('Errors')"
      ],
      "metadata": {
        "id": "lsJ52HMi8Pso",
        "colab": {
          "base_uri": "https://localhost:8080/",
          "height": 301
        },
        "outputId": "5dc08f78-b6d2-4928-d4b3-e25dd794fa05"
      },
      "execution_count": null,
      "outputs": [
        {
          "output_type": "display_data",
          "data": {
            "text/plain": [
              "<Figure size 432x288 with 1 Axes>"
            ],
            "image/png": "[encoded data removed]"
          },
          "metadata": {}
        }
      ]
    },
    {
      "cell_type": "code",
      "source": [
        "# 남자는 prediction 보다 크고 여자는 prediction 보다 작다.\n",
        "# 자녀의 성별에 따른 구분을 하여 prediction을 하지 않아서 아래와 같이 오차 범위가 발생하는것임\n",
        "heights.hist('Errors', group='Sex')"
      ],
      "metadata": {
        "colab": {
          "base_uri": "https://localhost:8080/",
          "height": 392
        },
        "id": "uFB5wrkj3mPr",
        "outputId": "5281fffe-fef2-47cc-f8a8-8bca8d84bd1c"
      },
      "execution_count": null,
      "outputs": [
        {
          "output_type": "stream",
          "name": "stderr",
          "text": [
            "/usr/local/lib/python3.7/dist-packages/numpy/core/fromnumeric.py:3208: VisibleDeprecationWarning: Creating an ndarray from ragged nested sequences (which is a list-or-tuple of lists-or-tuples-or ndarrays with different lengths or shapes) is deprecated. If you meant to do this, you must specify 'dtype=object' when creating the ndarray.\n",
            "  return asarray(a).size\n",
            "/usr/local/lib/python3.7/dist-packages/matplotlib/cbook/__init__.py:1376: VisibleDeprecationWarning: Creating an ndarray from ragged nested sequences (which is a list-or-tuple of lists-or-tuples-or ndarrays with different lengths or shapes) is deprecated. If you meant to do this, you must specify 'dtype=object' when creating the ndarray.\n",
            "  X = np.atleast_1d(X.T if isinstance(X, np.ndarray) else np.asarray(X))\n"
          ]
        },
        {
          "output_type": "display_data",
          "data": {
            "text/plain": [
              "<Figure size 432x288 with 1 Axes>"
            ],
            "image/png": "[encoded data removed]"
          },
          "metadata": {}
        }
      ]
    },
    {
      "cell_type": "markdown",
      "source": [
        "## Discussion Question"
      ],
      "metadata": {
        "id": "HUN1OHE88Qf7"
      }
    },
    {
      "cell_type": "code",
      "source": [
        "# 성별을 같이 줘보자 / 같은 성별의 사람만 뽑아서 평균을 낸다.\n",
        "# 더 똑똑한 prediction\n",
        "def predict_smarter(parent_avgs, s):\n",
        "    nearby = heights.where('Parent Average', are.between(parent_avgs-1, parent_avgs+1))\n",
        "    nearby_same_sex = nearby.where('Sex',s)\n",
        "    nearby_mean = np.mean(nearby_same_sex.column('Child'))\n",
        "    return nearby_mean"
      ],
      "metadata": {
        "id": "1Mou1uKZ8XVK"
      },
      "execution_count": null,
      "outputs": []
    },
    {
      "cell_type": "code",
      "source": [
        "predict_smarter(170,'female')"
      ],
      "metadata": {
        "id": "6VAaxwhE8X2e",
        "colab": {
          "base_uri": "https://localhost:8080/"
        },
        "outputId": "28e3a816-de35-4206-bf3b-09144ab47036"
      },
      "execution_count": null,
      "outputs": [
        {
          "output_type": "execute_result",
          "data": {
            "text/plain": [
              "162.57763888888888"
            ]
          },
          "metadata": {},
          "execution_count": 55
        }
      ]
    },
    {
      "cell_type": "code",
      "source": [
        "predict_smarter(170, 'male')"
      ],
      "metadata": {
        "colab": {
          "base_uri": "https://localhost:8080/"
        },
        "id": "DFnsuvGe5OlF",
        "outputId": "7abdc97f-7021-49aa-99c1-b5e16eceb44e"
      },
      "execution_count": null,
      "outputs": [
        {
          "output_type": "execute_result",
          "data": {
            "text/plain": [
              "176.00057831325304"
            ]
          },
          "metadata": {},
          "execution_count": 56
        }
      ]
    },
    {
      "cell_type": "code",
      "source": [
        "predict(170)"
      ],
      "metadata": {
        "id": "8P4NGJ728XtG",
        "colab": {
          "base_uri": "https://localhost:8080/"
        },
        "outputId": "ec7f6dd4-5f58-4300-af09-72cea48b7044"
      },
      "execution_count": null,
      "outputs": [
        {
          "output_type": "execute_result",
          "data": {
            "text/plain": [
              "169.76540645161293"
            ]
          },
          "metadata": {},
          "execution_count": 54
        }
      ]
    },
    {
      "cell_type": "code",
      "source": [
        "smarter_predictions = heights.apply(predict_smarter, 'Parent Average', 'Sex')\n",
        "heights = heights.with_column('Smarter Preds', smarter_predictions)\n",
        "heights"
      ],
      "metadata": {
        "colab": {
          "base_uri": "https://localhost:8080/",
          "height": 392
        },
        "id": "1opMwfJ55By6",
        "outputId": "cbf9fd10-2b8e-408e-b230-05b652136210"
      },
      "execution_count": null,
      "outputs": [
        {
          "output_type": "execute_result",
          "data": {
            "text/plain": [
              "Parent Average | Child   | Sex    | Prediction | Errors     | Smarter Preds\n",
              "184.785        | 185.928 | male   | 178.054    | -7.874     | 185.928\n",
              "184.785        | 175.768 | female | 178.054    | 2.286      | 175.429\n",
              "184.785        | 175.26  | female | 178.054    | 2.794      | 175.429\n",
              "184.785        | 175.26  | female | 178.054    | 2.794      | 175.429\n",
              "180.34         | 186.69  | male   | 178.856    | -7.83389   | 186.662\n",
              "180.34         | 184.15  | male   | 178.856    | -5.29389   | 186.662\n",
              "180.34         | 166.37  | female | 178.856    | 12.4861    | 171.831\n",
              "180.34         | 166.37  | female | 178.856    | 12.4861    | 171.831\n",
              "176.53         | 180.34  | male   | 172.681    | -7.65908   | 178.816\n",
              "176.53         | 172.72  | female | 172.681    | -0.0390769 | 166.546\n",
              "... (924 rows omitted)"
            ],
            "text/html": [
              "<table border=\"1\" class=\"dataframe\">\n",
              "    <thead>\n",
              "        <tr>\n",
              "            <th>Parent Average</th> <th>Child</th> <th>Sex</th> <th>Prediction</th> <th>Errors</th> <th>Smarter Preds</th>\n",
              "        </tr>\n",
              "    </thead>\n",
              "    <tbody>\n",
              "        <tr>\n",
              "            <td>184.785       </td> <td>185.928</td> <td>male  </td> <td>178.054   </td> <td>-7.874    </td> <td>185.928      </td>\n",
              "        </tr>\n",
              "        <tr>\n",
              "            <td>184.785       </td> <td>175.768</td> <td>female</td> <td>178.054   </td> <td>2.286     </td> <td>175.429      </td>\n",
              "        </tr>\n",
              "        <tr>\n",
              "            <td>184.785       </td> <td>175.26 </td> <td>female</td> <td>178.054   </td> <td>2.794     </td> <td>175.429      </td>\n",
              "        </tr>\n",
              "        <tr>\n",
              "            <td>184.785       </td> <td>175.26 </td> <td>female</td> <td>178.054   </td> <td>2.794     </td> <td>175.429      </td>\n",
              "        </tr>\n",
              "        <tr>\n",
              "            <td>180.34        </td> <td>186.69 </td> <td>male  </td> <td>178.856   </td> <td>-7.83389  </td> <td>186.662      </td>\n",
              "        </tr>\n",
              "        <tr>\n",
              "            <td>180.34        </td> <td>184.15 </td> <td>male  </td> <td>178.856   </td> <td>-5.29389  </td> <td>186.662      </td>\n",
              "        </tr>\n",
              "        <tr>\n",
              "            <td>180.34        </td> <td>166.37 </td> <td>female</td> <td>178.856   </td> <td>12.4861   </td> <td>171.831      </td>\n",
              "        </tr>\n",
              "        <tr>\n",
              "            <td>180.34        </td> <td>166.37 </td> <td>female</td> <td>178.856   </td> <td>12.4861   </td> <td>171.831      </td>\n",
              "        </tr>\n",
              "        <tr>\n",
              "            <td>176.53        </td> <td>180.34 </td> <td>male  </td> <td>172.681   </td> <td>-7.65908  </td> <td>178.816      </td>\n",
              "        </tr>\n",
              "        <tr>\n",
              "            <td>176.53        </td> <td>172.72 </td> <td>female</td> <td>172.681   </td> <td>-0.0390769</td> <td>166.546      </td>\n",
              "        </tr>\n",
              "    </tbody>\n",
              "</table>\n",
              "<p>... (924 rows omitted)</p>"
            ]
          },
          "metadata": {},
          "execution_count": 57
        }
      ]
    },
    {
      "cell_type": "code",
      "source": [
        "smart_errs = heights.apply(difference, 'Smarter Preds', 'Child')\n",
        "heights = heights.with_column('Smarter Errors', smart_errs)"
      ],
      "metadata": {
        "id": "z2G1JKbG5hiV"
      },
      "execution_count": null,
      "outputs": []
    },
    {
      "cell_type": "code",
      "source": [
        "heights.hist('Errors')"
      ],
      "metadata": {
        "colab": {
          "base_uri": "https://localhost:8080/",
          "height": 301
        },
        "id": "kOzJ3Tvu5-KN",
        "outputId": "6733ba93-6e9f-4d4a-fad9-92cf8f64030e"
      },
      "execution_count": null,
      "outputs": [
        {
          "output_type": "display_data",
          "data": {
            "text/plain": [
              "<Figure size 432x288 with 1 Axes>"
            ],
            "image/png": "[encoded data removed]"
          },
          "metadata": {}
        }
      ]
    },
    {
      "cell_type": "code",
      "source": [
        "heights.hist('Smarter Errors')"
      ],
      "metadata": {
        "colab": {
          "base_uri": "https://localhost:8080/",
          "height": 301
        },
        "id": "Fx-blc7B55lu",
        "outputId": "dfe8bc30-c1eb-4e2f-91b4-6ec46fbb1d4d"
      },
      "execution_count": null,
      "outputs": [
        {
          "output_type": "display_data",
          "data": {
            "text/plain": [
              "<Figure size 432x288 with 1 Axes>"
            ],
            "image/png": "[encoded data removed]"
          },
          "metadata": {}
        }
      ]
    },
    {
      "cell_type": "code",
      "source": [
        "# 부모의 평균키로 자식 키로 영향을 주는걸 계산할때 male의 variation이 더 크다.\n",
        "heights.hist('Smarter Errors', group='Sex')"
      ],
      "metadata": {
        "colab": {
          "base_uri": "https://localhost:8080/",
          "height": 392
        },
        "id": "7HkgUL_h5taH",
        "outputId": "321b72f2-0b18-414c-8526-5630f4b60fc8"
      },
      "execution_count": null,
      "outputs": [
        {
          "output_type": "stream",
          "name": "stderr",
          "text": [
            "/usr/local/lib/python3.7/dist-packages/numpy/core/fromnumeric.py:3208: VisibleDeprecationWarning: Creating an ndarray from ragged nested sequences (which is a list-or-tuple of lists-or-tuples-or ndarrays with different lengths or shapes) is deprecated. If you meant to do this, you must specify 'dtype=object' when creating the ndarray.\n",
            "  return asarray(a).size\n",
            "/usr/local/lib/python3.7/dist-packages/matplotlib/cbook/__init__.py:1376: VisibleDeprecationWarning: Creating an ndarray from ragged nested sequences (which is a list-or-tuple of lists-or-tuples-or ndarrays with different lengths or shapes) is deprecated. If you meant to do this, you must specify 'dtype=object' when creating the ndarray.\n",
            "  X = np.atleast_1d(X.T if isinstance(X, np.ndarray) else np.asarray(X))\n"
          ]
        },
        {
          "output_type": "display_data",
          "data": {
            "text/plain": [
              "<Figure size 432x288 with 1 Axes>"
            ],
            "image/png": "[encoded data removed]"
          },
          "metadata": {}
        }
      ]
    },
    {
      "cell_type": "code",
      "source": [],
      "metadata": {
        "id": "xIvuao-j6MzE"
      },
      "execution_count": null,
      "outputs": []
    }
  ],
  "metadata": {
    "anaconda-cloud": {},
    "kernelspec": {
      "display_name": "Python 3",
      "language": "python",
      "name": "python3"
    },
    "language_info": {
      "codemirror_mode": {
        "name": "ipython",
        "version": 3
      },
      "file_extension": ".py",
      "mimetype": "text/x-python",
      "name": "python",
      "nbconvert_exporter": "python",
      "pygments_lexer": "ipython3",
      "version": "3.8.5"
    },
    "colab": {
      "provenance": [],
      "collapsed_sections": []
    }
  },
  "nbformat": 4,
  "nbformat_minor": 0
}